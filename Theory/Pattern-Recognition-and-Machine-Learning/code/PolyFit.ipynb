{
 "cells": [
  {
   "cell_type": "code",
   "execution_count": 3,
   "metadata": {
    "collapsed": true
   },
   "outputs": [],
   "source": [
    "# Own implementation of a simple polynomial fit library\n",
    "%matplotlib inline"
   ]
  },
  {
   "cell_type": "code",
   "execution_count": 5,
   "metadata": {
    "collapsed": false
   },
   "outputs": [
    {
     "data": {
      "image/png": "[encoded data removed]",
      "text/plain": [
       "<matplotlib.figure.Figure at 0x114b9e5d0>"
      ]
     },
     "metadata": {},
     "output_type": "display_data"
    }
   ],
   "source": [
    "# This simple snippet of code is from Wikipedia\n",
    "\n",
    "import numpy as np\n",
    "import matplotlib.pyplot as plt\n",
    "\n",
    "x = np.random.rand(3, 2) * 10\n",
    "a = np.matrix([ [1,x[0][0]], [1,x[1][0]], [1,x[2][0]] ])\n",
    "b = np.matrix([ [x[0][1]], [x[1][1]], [x[2][1]] ])\n",
    "yy = (a.T * a).I * a.T * b\n",
    "xx = np.linspace(1, 10, 50)\n",
    "y = np.array(yy[0] + yy[1] * xx)\n",
    "\n",
    "plt.figure(1)\n",
    "plt.plot(xx, y.T, color='r')\n",
    "plt.scatter([x[0][0], x[1][0], x[2][0] ], [x[0][1], x[1][1], x[2][1] ]) \n",
    "plt.show()"
   ]
  },
  {
   "cell_type": "code",
   "execution_count": 6,
   "metadata": {
    "collapsed": false
   },
   "outputs": [
    {
     "name": "stdout",
     "output_type": "stream",
     "text": [
      "[[ 3.58276424]\n",
      " [ 2.174454  ]\n",
      " [-0.2601227 ]]\n"
     ]
    },
    {
     "data": {
      "image/png": "[encoded data removed]",
      "text/plain": [
       "<matplotlib.figure.Figure at 0x114cbe6d0>"
      ]
     },
     "metadata": {},
     "output_type": "display_data"
    }
   ],
   "source": [
    "# I then altered it for a second degree polynomial\n",
    "\n",
    "import numpy as np\n",
    "import matplotlib.pyplot as plt\n",
    "\n",
    "xypairs = np.random.rand(3, 2) * 10\n",
    "\n",
    "Xmatrix = np.matrix([ [1,xypairs[0][0],xypairs[0][0]**2], [1,xypairs[1][0],xypairs[1][0]**2], [1,xypairs[2][0],xypairs[2][0]**2] ])\n",
    "yvec = np.matrix([ [xypairs[0][1]], [xypairs[1][1]], [xypairs[2][1]] ])\n",
    "beta = (Xmatrix.T * Xmatrix).I * Xmatrix.T * yvec\n",
    "print beta\n",
    "\n",
    "xx = np.linspace(1, 10, 50)\n",
    "y = np.array(beta[0] + beta[1] * xx + beta[2]* xx**2)\n",
    "\n",
    "plt.figure(1)\n",
    "plt.plot(xx, y.T, color='r')\n",
    "plt.scatter([xypairs[0][0], xypairs[1][0], xypairs[2][0] ], [xypairs[0][1], xypairs[1][1], xypairs[2][1] ]) \n",
    "plt.show()"
   ]
  },
  {
   "cell_type": "code",
   "execution_count": 7,
   "metadata": {
    "collapsed": true
   },
   "outputs": [],
   "source": [
    "# And then generalized it for an M-order polynomial data\n",
    "\n",
    "def polyFit(data,M):\n",
    "    # data should be in the format: n by 2 numpy matrix\n",
    "    # M is order of polynomial fit\n",
    "    \n",
    "    n = data.shape[0]\n",
    "\n",
    "    # Xmatrix is n by M\n",
    "    protomatrix = np.zeros((n,M))\n",
    "    Xmatrix = np.matrix(protomatrix)\n",
    "    print Xmatrix\n",
    "    for i in range(n):\n",
    "        for j in range(M):\n",
    "            Xmatrix[i,j] = data[i,0] ** j\n",
    "    print Xmatrix\n",
    "    \n",
    "    # yvec is an n-dimensional vector of target values\n",
    "    yvec = data[:,1]\n",
    "    yvecmatrix = np.matrix(yvec)\n",
    "    yvecmatrix = yvecmatrix.T \n",
    "    print yvecmatrix\n",
    "    \n",
    "    # Find optimal parameters by solving the normal equation\n",
    "    beta = (Xmatrix.T * Xmatrix).I  * Xmatrix.T *yvecmatrix\n",
    "    print 'beta is'\n",
    "    print beta\n",
    "    \n",
    "    # Prepare for plotting\n",
    "    minx = min(data[:,0]) - 1\n",
    "    maxx = max(data[:,0]) + 1\n",
    "    xx = np.linspace(minx, maxx, 50)\n",
    "    \n",
    "    # Plot polynomial fit\n",
    "    y = np.array(xx*0)\n",
    "    for j in range(M):\n",
    "        y = y + beta[j]*xx**j\n",
    "        \n",
    "    plt.figure(1)\n",
    "    plt.plot(xx, y.T, color='r')\n",
    "    plt.scatter(data[:,0],data[:,1]) \n",
    "    plt.show()"
   ]
  },
  {
   "cell_type": "code",
   "execution_count": 9,
   "metadata": {
    "collapsed": false
   },
   "outputs": [
    {
     "name": "stdout",
     "output_type": "stream",
     "text": [
      "[[ 0.  0.  0.  0.]\n",
      " [ 0.  0.  0.  0.]\n",
      " [ 0.  0.  0.  0.]\n",
      " [ 0.  0.  0.  0.]\n",
      " [ 0.  0.  0.  0.]\n",
      " [ 0.  0.  0.  0.]]\n",
      "[[  1.00000000e+00   8.02330381e+00   6.43734040e+01   5.16487377e+02]\n",
      " [  1.00000000e+00   2.73320648e-01   7.47041764e-02   2.04181939e-02]\n",
      " [  1.00000000e+00   7.60644147e+00   5.78579519e+01   4.40093125e+02]\n",
      " [  1.00000000e+00   1.04152707e+00   1.08477863e+00   1.12982631e+00]\n",
      " [  1.00000000e+00   7.88254207e+00   6.21344695e+01   4.89777570e+02]\n",
      " [  1.00000000e+00   4.00091338e+00   1.60073078e+01   6.40438521e+01]]\n",
      "[[ 5.76263472]\n",
      " [ 0.09924918]\n",
      " [ 9.50911546]\n",
      " [ 9.6769946 ]\n",
      " [ 7.76996295]\n",
      " [ 5.0012401 ]]\n",
      "beta is\n",
      "[[ -1.00763879]\n",
      " [ 10.94299825]\n",
      " [ -3.29311461]\n",
      " [  0.25938221]]\n"
     ]
    },
    {
     "data": {
      "image/png": "[encoded data removed]",
      "text/plain": [
       "<matplotlib.figure.Figure at 0x110c73750>"
      ]
     },
     "metadata": {},
     "output_type": "display_data"
    }
   ],
   "source": [
    "data = np.random.rand(6, 2) * 10\n",
    "M = 4\n",
    "polyFit(data,M)"
   ]
  },
  {
   "cell_type": "code",
   "execution_count": null,
   "metadata": {
    "collapsed": true
   },
   "outputs": [],
   "source": []
  }
 ],
 "metadata": {
  "kernelspec": {
   "display_name": "Python 2",
   "language": "python",
   "name": "python2"
  },
  "language_info": {
   "codemirror_mode": {
    "name": "ipython",
    "version": 2
   },
   "file_extension": ".py",
   "mimetype": "text/x-python",
   "name": "python",
   "nbconvert_exporter": "python",
   "pygments_lexer": "ipython2",
   "version": "2.7.10"
  }
 },
 "nbformat": 4,
 "nbformat_minor": 0
}
