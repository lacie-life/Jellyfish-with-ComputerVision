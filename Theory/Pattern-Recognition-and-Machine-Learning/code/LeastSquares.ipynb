{
 "cells": [
  {
   "cell_type": "markdown",
   "metadata": {},
   "source": [
    "## Least Squares example\n",
    "Implementing in NumPy an example [From Khan Academy](https://www.youtube.com/watch?v=8mAZYv5wIcE)\n",
    "\n",
    "\n",
    "$2x - y = 2 \\ \\ \\ y = 2x -2 $\n",
    "\n",
    "$x + 2y = 1 \\ \\ \\ y = -1/2x + 1/2$\n",
    "\n",
    "$x + y = 4 \\ \\ \\ y = -x + 4$"
   ]
  },
  {
   "cell_type": "code",
   "execution_count": 50,
   "metadata": {
    "collapsed": false
   },
   "outputs": [
    {
     "data": {
      "image/png": "[encoded data removed]",
      "text/plain": [
       "<matplotlib.figure.Figure at 0x1142dc650>"
      ]
     },
     "metadata": {},
     "output_type": "display_data"
    }
   ],
   "source": [
    "%matplotlib inline\n",
    "import numpy as np\n",
    "import matplotlib.pyplot as plt\n",
    "\n",
    "x = np.linspace(-10,10,100)\n",
    "y1 = 2*x -2\n",
    "y2 = -0.5*x + 1/2\n",
    "y3 = -x + 4\n",
    "\n",
    "plt.plot(x,y1)\n",
    "plt.plot(x,y2)\n",
    "plt.plot(x,y3)\n",
    "plt.axis([-10,10,-10,10])\n",
    "plt.show()"
   ]
  },
  {
   "cell_type": "markdown",
   "metadata": {},
   "source": [
    "System of equations is equivalent to:\n",
    "\n",
    "$\\begin{bmatrix}2 & -1\\\\1 & 2 \\\\ 1 & 1\\end{bmatrix} \\begin{bmatrix}x \\\\y\\end{bmatrix} = \\begin{bmatrix}2 \\\\1 \\\\ 4\\end{bmatrix}$\n",
    "\n",
    "$A\\textbf{x} = \\textbf{b}$\n",
    "\n",
    "This system is overconstrained. AKA $\\textbf{b}$ is not in the column space of $A$.\n",
    "\n",
    "But we know our least squares solution:\n",
    "\n",
    "$$A^TA\\textbf{x}^* = A^T\\textbf{b}$$\n",
    "\n",
    "$$ \\textbf{x}^* = (A^TA)^{-1} A^T\\textbf{b}$$\n",
    "\n"
   ]
  },
  {
   "cell_type": "code",
   "execution_count": 51,
   "metadata": {
    "collapsed": false
   },
   "outputs": [
    {
     "name": "stdout",
     "output_type": "stream",
     "text": [
      "[[ 2 -1]\n",
      " [ 1  2]\n",
      " [ 1  1]]\n",
      "[[2]\n",
      " [1]\n",
      " [4]]\n",
      "[[ 1.42857143]\n",
      " [ 0.42857143]]\n"
     ]
    }
   ],
   "source": [
    "A = np.matrix([ [2,-1], [1,2], [1,1] ])\n",
    "print A\n",
    "b = np.matrix([ [2], [1], [4] ])\n",
    "print b\n",
    "\n",
    "xstar = (A.T * A).I * A.T * b\n",
    "print xstar"
   ]
  },
  {
   "cell_type": "code",
   "execution_count": 52,
   "metadata": {
    "collapsed": false
   },
   "outputs": [
    {
     "data": {
      "image/png": "[encoded data removed]",
      "text/plain": [
       "<matplotlib.figure.Figure at 0x1137b2e90>"
      ]
     },
     "metadata": {},
     "output_type": "display_data"
    }
   ],
   "source": [
    "plt.plot(x,y1)\n",
    "plt.plot(x,y2)\n",
    "plt.plot(x,y3)\n",
    "plt.scatter(xstar[0][0],xstar[1][0],marker='x',s=100,color='black')\n",
    "plt.axis([-10,10,-10,10])\n",
    "plt.show()"
   ]
  },
  {
   "cell_type": "code",
   "execution_count": null,
   "metadata": {
    "collapsed": true
   },
   "outputs": [],
   "source": []
  }
 ],
 "metadata": {
  "kernelspec": {
   "display_name": "Python 2",
   "language": "python",
   "name": "python2"
  },
  "language_info": {
   "codemirror_mode": {
    "name": "ipython",
    "version": 2
   },
   "file_extension": ".py",
   "mimetype": "text/x-python",
   "name": "python",
   "nbconvert_exporter": "python",
   "pygments_lexer": "ipython2",
   "version": "2.7.10"
  }
 },
 "nbformat": 4,
 "nbformat_minor": 0
}
