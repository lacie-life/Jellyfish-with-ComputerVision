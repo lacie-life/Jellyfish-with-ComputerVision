{
  "cells": [
    {
      "cell_type": "markdown",
      "metadata": {},
      "source": [
        "# Intersection over Union (IoU) for object detection\n",
        "\n",
        "Intersection within the term Intersection over Union measures how overlapping the\n",
        "predicted and actual bounding boxes are, while Union measures the overall space\n",
        "possible for overlap. IoU is the ratio of the overlapping region between the two\n",
        "bounding boxes over the combined region of both the bounding boxes."
      ]
    },
    {
      "cell_type": "code",
      "execution_count": null,
      "metadata": {
        "id": "VaLHNIS5vFr8"
      },
      "outputs": [],
      "source": [
        "def get_iou(boxA, boxB, epsilon=1e-5):\n",
        "    x1 = max(boxA[0], boxB[0])\n",
        "    y1 = max(boxA[1], boxB[1])\n",
        "    x2 = min(boxA[2], boxB[2])\n",
        "    y2 = min(boxA[3], boxB[3])\n",
        "    width = (x2 - x1)\n",
        "    height = (y2 - y1)\n",
        "    if (width<0) or (height <0):\n",
        "        return 0.0\n",
        "    area_overlap = width * height\n",
        "    area_a = (boxA[2] - boxA[0]) * (boxA[3] - boxA[1])\n",
        "    area_b = (boxB[2] - boxB[0]) * (boxB[3] - boxB[1])\n",
        "    area_combined = area_a + area_b - area_overlap\n",
        "    iou = area_overlap / (area_combined+epsilon)\n",
        "    return iou"
      ]
    },
    {
      "cell_type": "code",
      "execution_count": null,
      "metadata": {
        "id": "3bvslWV_viWJ"
      },
      "outputs": [],
      "source": []
    }
  ],
  "metadata": {
    "colab": {
      "include_colab_link": true,
      "name": "Calculating_intersection_over_union.ipynb",
      "provenance": []
    },
    "kernelspec": {
      "display_name": "Python 3",
      "name": "python3"
    },
    "language_info": {
      "name": "python",
      "version": "3.8.17"
    }
  },
  "nbformat": 4,
  "nbformat_minor": 0
}
