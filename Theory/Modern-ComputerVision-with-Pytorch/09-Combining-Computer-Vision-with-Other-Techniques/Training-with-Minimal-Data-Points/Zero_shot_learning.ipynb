{
  "cells": [
    {
      "cell_type": "markdown",
      "metadata": {},
      "source": [
        "# Zero-shot learning\n",
        "\n",
        "Imagine a scenario where I ask you to predict the class of objects in an image where\n",
        "you have not seen an image of the object class earlier. How would you make\n",
        "predictions in such a scenario?\n",
        "\n",
        "Intuitively, we resort to the attributes of the object in the image and then try to\n",
        "identify the object that matches the most attributes.\n",
        "\n",
        "In one such scenario where we have to come up with attributes automatically (where\n",
        "the attributes are not given for training), we leverage word vectors. Word vectors\n",
        "encompass semantic similarity among words. For example, all animals would have\n",
        "similar word vectors and automobiles would have very different word vector\n",
        "representations. While the generation of word vectors is out of scope for this book, we\n",
        "will work on pre-trained word vectors. At a very high level, words that have similar\n",
        "surrounding words (context) will have similar vectors.\n",
        "\n",
        "From the preceding sample, we can see that the word vectors of automobiles fall to\n",
        "the left of the chart while the vectors corresponding to animals are on the right.\n",
        "Further, similar animals also have similar vectors.\n",
        "\n",
        "This gives us the intuition that words, just like images, also have vector embeddings\n",
        "that help in obtaining similarity.\n",
        "\n",
        "In the next section, as we code zero-shot learning, we will leverage this phenomenon\n",
        "to identify classes that are not seen by the model during training. Essentially, we will\n",
        "learn about mapping image features to word features, directly.\n",
        "\n",
        "The high-level strategy we adopt while coding zero-shot learning is as follows:\n",
        "\n",
        "1. Import the dataset – which constitutes images and their corresponding\n",
        "classes.\n",
        "\n",
        "2. Fetch the word vectors corresponding to each class from pre-trained word\n",
        "vector models.\n",
        "\n",
        "3. Pass an image through a pre-trained image model such as VGG16.\n",
        "\n",
        "4. We expect the network to predict the word vector corresponding to the\n",
        "object in the image.\n",
        "\n",
        "5. Once we've trained the model, we predict the word vector on new images.\n",
        "\n",
        "6. The class of word vector that is closest to the predicted word vector is the\n",
        "class of the image."
      ]
    },
    {
      "cell_type": "code",
      "execution_count": 1,
      "metadata": {
        "colab": {
          "base_uri": "https://localhost:8080/",
          "height": 187
        },
        "id": "-q5sBEc5EIpI",
        "outputId": "4d91014a-9266-4dfe-8a4b-07f90a931d8e"
      },
      "outputs": [
        {
          "name": "stdout",
          "output_type": "stream",
          "text": [
            "Cloning into 'zero-shot-learning'...\n",
            "remote: Enumerating objects: 102, done.\u001b[K\n",
            "remote: Counting objects: 100% (23/23), done.\u001b[K\n",
            "remote: Compressing objects: 100% (4/4), done.\u001b[K\n",
            "remote: Total 102 (delta 20), reused 19 (delta 19), pack-reused 79\u001b[K\n",
            "Receiving objects: 100% (102/102), 134.47 MiB | 728.00 KiB/s, done.\n",
            "Resolving deltas: 100% (45/45), done.\n",
            "/home/lacie/Github/Jellyfish-with-ComputerVision/Theory/Modern-ComputerVision-with-Pytorch/09-Combining-Computer-Vision-with-Other-Techniques/Training-with-Minimal-Data-Points/zero-shot-learning/src\n"
          ]
        },
        {
          "name": "stderr",
          "output_type": "stream",
          "text": [
            "/home/lacie/.local/lib/python3.8/site-packages/tqdm/auto.py:21: TqdmWarning: IProgress not found. Please update jupyter and ipywidgets. See https://ipywidgets.readthedocs.io/en/stable/user_install.html\n",
            "  from .autonotebook import tqdm as notebook_tqdm\n"
          ]
        }
      ],
      "source": [
        "!git clone https://github.com/sizhky/zero-shot-learning/\n",
        "!pip install -Uq torch_snippets\n",
        "%cd zero-shot-learning/src\n",
        "import gzip\n",
        "import _pickle as cPickle\n",
        "from torch_snippets import *\n",
        "from sklearn.preprocessing import LabelEncoder, normalize\n",
        "device = 'cuda' if torch.cuda.is_available() else 'cpu'"
      ]
    },
    {
      "cell_type": "code",
      "execution_count": 2,
      "metadata": {
        "id": "S33kWM_TEeC0"
      },
      "outputs": [],
      "source": [
        "WORD2VECPATH = \"../data/class_vectors.npy\"\n",
        "DATAPATH = \"../data/zeroshot_data.pkl\""
      ]
    },
    {
      "cell_type": "code",
      "execution_count": 3,
      "metadata": {
        "id": "kULYCEK7Ezip"
      },
      "outputs": [],
      "source": [
        "with open('train_classes.txt', 'r') as infile:\n",
        "    train_classes = [str.strip(line) for line in infile]"
      ]
    },
    {
      "cell_type": "code",
      "execution_count": 4,
      "metadata": {
        "id": "iomjeHmyE1xi"
      },
      "outputs": [],
      "source": [
        "with gzip.GzipFile(DATAPATH, 'rb') as infile:\n",
        "    data = cPickle.load(infile)"
      ]
    },
    {
      "cell_type": "code",
      "execution_count": 5,
      "metadata": {
        "id": "7qZBBK9jE3Sg"
      },
      "outputs": [],
      "source": [
        "training_data = [instance for instance in data if instance[0] in train_classes]\n",
        "zero_shot_data = [instance for instance in data if instance[0] not in train_classes]\n",
        "np.random.shuffle(training_data)"
      ]
    },
    {
      "cell_type": "code",
      "execution_count": 6,
      "metadata": {
        "id": "_ZAv4KiaE420"
      },
      "outputs": [],
      "source": [
        "train_size = 300 # per class\n",
        "train_data, valid_data = [], []\n",
        "for class_label in train_classes:\n",
        "    ctr = 0\n",
        "    for instance in training_data:\n",
        "        if instance[0] == class_label:\n",
        "            if ctr < train_size:\n",
        "                train_data.append(instance)\n",
        "                ctr+=1\n",
        "            else:\n",
        "                valid_data.append(instance)"
      ]
    },
    {
      "cell_type": "code",
      "execution_count": 7,
      "metadata": {
        "id": "tYjuW30RE6fx"
      },
      "outputs": [],
      "source": [
        "np.random.shuffle(train_data)\n",
        "np.random.shuffle(valid_data)\n",
        "vectors = {i:j for i,j in np.load(WORD2VECPATH, allow_pickle=True)}"
      ]
    },
    {
      "cell_type": "code",
      "execution_count": 8,
      "metadata": {
        "id": "fWkDpklSE79O"
      },
      "outputs": [],
      "source": [
        "train_data = [(feat, vectors[clss]) for clss,feat in train_data]\n",
        "valid_data = [(feat, vectors[clss]) for clss,feat in valid_data]"
      ]
    },
    {
      "cell_type": "code",
      "execution_count": 9,
      "metadata": {
        "id": "haQky_e2E9SL"
      },
      "outputs": [],
      "source": [
        "train_clss = [clss for clss,feat in train_data]\n",
        "valid_clss = [clss for clss,feat in valid_data]\n",
        "zero_shot_clss = [clss for clss,feat in zero_shot_data]"
      ]
    },
    {
      "cell_type": "code",
      "execution_count": 10,
      "metadata": {
        "id": "VAmZUA_LE-pu"
      },
      "outputs": [],
      "source": [
        "x_train, y_train = zip(*train_data)\n",
        "x_train, y_train = np.squeeze(np.asarray(x_train)), np.squeeze(np.asarray(y_train))\n",
        "x_train = normalize(x_train, norm='l2')\n",
        "\n",
        "x_valid, y_valid = zip(*valid_data)\n",
        "x_valid, y_valid = np.squeeze(np.asarray(x_valid)), np.squeeze(np.asarray(y_valid))\n",
        "x_valid = normalize(x_valid, norm='l2')\n",
        "\n",
        "y_zsl, x_zsl = zip(*zero_shot_data)\n",
        "x_zsl, y_zsl = np.squeeze(np.asarray(x_zsl)), np.squeeze(np.asarray(y_zsl))\n",
        "x_zsl = normalize(x_zsl, norm='l2')"
      ]
    },
    {
      "cell_type": "code",
      "execution_count": 11,
      "metadata": {
        "id": "6HCmIEmhFAiD"
      },
      "outputs": [],
      "source": [
        "from torch.utils.data import TensorDataset\n",
        "\n",
        "trn_ds = TensorDataset(*[torch.Tensor(t).to(device) for t in [x_train, y_train]])\n",
        "val_ds = TensorDataset(*[torch.Tensor(t).to(device) for t in [x_valid, y_valid]])\n",
        "\n",
        "trn_dl = DataLoader(trn_ds, batch_size=32, shuffle=True)\n",
        "val_dl = DataLoader(val_ds, batch_size=32, shuffle=False)"
      ]
    },
    {
      "cell_type": "code",
      "execution_count": 12,
      "metadata": {
        "id": "LJod2CHNFCGF"
      },
      "outputs": [],
      "source": [
        "def build_model(): \n",
        "    return nn.Sequential(\n",
        "        nn.Linear(4096, 1024), nn.ReLU(inplace=True),\n",
        "        nn.BatchNorm1d(1024), nn.Dropout(0.8),\n",
        "        nn.Linear(1024, 512), nn.ReLU(inplace=True),\n",
        "        nn.BatchNorm1d(512), nn.Dropout(0.8),\n",
        "        nn.Linear(512, 256), nn.ReLU(inplace=True),\n",
        "        nn.BatchNorm1d(256), nn.Dropout(0.8),\n",
        "        nn.Linear(256, 300)\n",
        "    )"
      ]
    },
    {
      "cell_type": "code",
      "execution_count": 13,
      "metadata": {
        "id": "0h1dNnFSFM1O"
      },
      "outputs": [],
      "source": [
        "def train_batch(model, data, optimizer, criterion):\n",
        "    ims, labels = data\n",
        "    _preds = model(ims)\n",
        "    optimizer.zero_grad()\n",
        "    loss = criterion(_preds, labels)\n",
        "    loss.backward()\n",
        "    optimizer.step()\n",
        "    return loss.item()\n",
        "\n",
        "@torch.no_grad()\n",
        "def validate_batch(model, data, criterion):\n",
        "    ims, labels = data\n",
        "    _preds = model(ims)\n",
        "    loss = criterion(_preds, labels)\n",
        "    return loss.item()"
      ]
    },
    {
      "cell_type": "code",
      "execution_count": 14,
      "metadata": {
        "colab": {
          "base_uri": "https://localhost:8080/",
          "height": 490
        },
        "id": "XF-YyXTXFOut",
        "outputId": "ffbb890b-551a-45a0-efdb-f1e10a53ae6a"
      },
      "outputs": [
        {
          "name": "stdout",
          "output_type": "stream",
          "text": [
            "EPOCH: 10.000  trn_loss: 0.020  val_loss: 0.020  (4.69s - 23.43s remaining)\n",
            "EPOCH: 20.000  trn_loss: 0.014  val_loss: 0.014  (8.41s - 16.82s remaining)\n",
            "EPOCH: 30.000  trn_loss: 0.013  val_loss: 0.014  (12.15s - 12.15s remaining)\n",
            "EPOCH: 40.000  trn_loss: 0.012  val_loss: 0.013  (15.88s - 7.94s remaining)\n",
            "EPOCH: 50.000  trn_loss: 0.011  val_loss: 0.013  (19.67s - 3.93s remaining)\n",
            "EPOCH: 60.000  trn_loss: 0.011  val_loss: 0.013  (23.36s - 0.00s remaining)\n"
          ]
        },
        {
          "data": {
            "image/png": "[encoded data removed]",
            "text/plain": [
              "<Figure size 800x600 with 1 Axes>"
            ]
          },
          "metadata": {},
          "output_type": "display_data"
        }
      ],
      "source": [
        "model = build_model().to(device)\n",
        "criterion = nn.MSELoss()\n",
        "optimizer = optim.Adam(model.parameters(), lr=1e-3)\n",
        "n_epochs = 60\n",
        "\n",
        "log = Report(n_epochs)\n",
        "for ex in range(n_epochs):\n",
        "    N = len(trn_dl)\n",
        "    for bx, data in enumerate(trn_dl):\n",
        "        loss = train_batch(model, data, optimizer, criterion)\n",
        "        log.record(ex+(bx+1)/N, trn_loss=loss, end='\\r')\n",
        "\n",
        "    N = len(val_dl)\n",
        "    for bx, data in enumerate(val_dl):\n",
        "        loss = validate_batch(model, data, criterion)\n",
        "        log.record(ex+(bx+1)/N, val_loss=loss, end='\\r')\n",
        "        \n",
        "    if ex == 10: optimizer = optim.Adam(model.parameters(), lr=1e-4)\n",
        "    if ex == 40: optimizer = optim.Adam(model.parameters(), lr=1e-5)\n",
        "    if not (ex+1)%10: log.report_avgs(ex+1)\n",
        "\n",
        "log.plot(log=True)"
      ]
    },
    {
      "cell_type": "code",
      "execution_count": 15,
      "metadata": {
        "id": "U39Fmo0VFQ6C"
      },
      "outputs": [],
      "source": [
        "pred_zsl = model(torch.Tensor(x_zsl).to(device)).cpu().detach().numpy()\n",
        "\n",
        "class_vectors = sorted(np.load(WORD2VECPATH, allow_pickle=True), key=lambda x: x[0])\n",
        "classnames, vectors = zip(*class_vectors)\n",
        "classnames = list(classnames)\n",
        "\n",
        "vectors = np.array(vectors)"
      ]
    },
    {
      "cell_type": "code",
      "execution_count": 16,
      "metadata": {
        "colab": {
          "base_uri": "https://localhost:8080/",
          "height": 34
        },
        "id": "PPKdmdl7HHat",
        "outputId": "f9a0fe71-e7f9-445b-effd-839d5dbfa1ef"
      },
      "outputs": [
        {
          "data": {
            "text/plain": [
              "0.7208604302151076"
            ]
          },
          "execution_count": 16,
          "metadata": {},
          "output_type": "execute_result"
        }
      ],
      "source": [
        "dists = (pred_zsl[None] - vectors[:,None])\n",
        "dists = (dists**2).sum(-1).T\n",
        "\n",
        "best_classes = []\n",
        "for item in dists:\n",
        "    best_classes.append([classnames[j] for j in np.argsort(item)[:5]])\n",
        "\n",
        "np.mean([i in J for i,J in zip(zero_shot_clss, best_classes)])"
      ]
    },
    {
      "cell_type": "code",
      "execution_count": null,
      "metadata": {
        "id": "88CMg_0XIjMZ"
      },
      "outputs": [],
      "source": []
    }
  ],
  "metadata": {
    "accelerator": "GPU",
    "colab": {
      "include_colab_link": true,
      "name": "Zero_shot_learning.ipynb",
      "provenance": []
    },
    "kernelspec": {
      "display_name": "Python 3",
      "name": "python3"
    },
    "language_info": {
      "codemirror_mode": {
        "name": "ipython",
        "version": 3
      },
      "file_extension": ".py",
      "mimetype": "text/x-python",
      "name": "python",
      "nbconvert_exporter": "python",
      "pygments_lexer": "ipython3",
      "version": "3.8.17"
    }
  },
  "nbformat": 4,
  "nbformat_minor": 0
}
