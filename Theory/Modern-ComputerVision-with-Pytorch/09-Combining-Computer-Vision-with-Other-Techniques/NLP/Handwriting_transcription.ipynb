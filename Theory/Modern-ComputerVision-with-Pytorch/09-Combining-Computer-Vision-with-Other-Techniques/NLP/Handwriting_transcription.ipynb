{
  "cells": [
    {
      "cell_type": "markdown",
      "metadata": {},
      "source": [
        "# Transcribing handwritten images"
      ]
    },
    {
      "cell_type": "markdown",
      "metadata": {},
      "source": [
        "## The working details of Connectionist Temporal Classification (CTC) loss"
      ]
    },
    {
      "cell_type": "markdown",
      "metadata": {},
      "source": [
        "Imagine a scenario where we are transcribing an image that contains the word ab. The\n",
        "image could look like any of the following and the output is always ab, irrespective of\n",
        "which of the following three images we choose:\n",
        "\n",
        "![image.png](../imgs/nlp15.png)"
      ]
    },
    {
      "cell_type": "markdown",
      "metadata": {},
      "source": [
        "In the next step, we divide the preceding three examples into six time steps, as\n",
        "follows (where each box represents a time step):\n",
        "\n",
        "![image.png](../imgs/nlp16.png)"
      ]
    },
    {
      "cell_type": "markdown",
      "metadata": {},
      "source": [
        "Now, we'll predict the output character in each time step – where the output is the\n",
        "softmax of probabilities of words present within a vocabulary. Given that we are\n",
        "performing softmax, let's say the output character at each time step after running the\n",
        "image through our model (which we will define in the subsequent section) is as in the\n",
        "following (the output of each cell is provided above the image):\n",
        "\n",
        "![image.png](../imgs/nlp17.png)"
      ]
    },
    {
      "cell_type": "markdown",
      "metadata": {},
      "source": [
        "Note that - represents that nothing is present in the corresponding time step.\n",
        "Furthermore, note that the character b is repeated in two different time steps.\n",
        "\n",
        "In the final step, we will squash the output (a sequence of characters) that is obtained\n",
        "by passing our image through the model in such a way that consecutive repeating\n",
        "characters are squashed into one.\n",
        "\n",
        "The preceding step of squashing repeating characters' output if there are consecutive\n",
        "same-character predictions results in a final output as follows:\n",
        "\n",
        "-a-b-\n",
        "\n",
        "In another case, where the output is abb, the final output post squashing is expected to\n",
        "have a separator between the two b characters, an example of which is as follows:\n",
        "\n",
        "-a-b-b-\n",
        "\n"
      ]
    },
    {
      "cell_type": "markdown",
      "metadata": {},
      "source": [
        "## Calculating the CTC loss value"
      ]
    },
    {
      "cell_type": "markdown",
      "metadata": {},
      "source": [
        "For the problem we are solving in the previous section, let's consider the following\n",
        "scenario – the probability of having the character in a given time step is provided in\n",
        "the circles in the following diagram (note that the probabilities add up to 1 in each\n",
        "time step from t0 to t5):\n",
        "\n",
        "![nlp](../imgs/nlp18.png)\n",
        "\n",
        "However, to keep the calculation simple, for us to understand how the CTC loss\n",
        "value is calculated, let's take a scenario where the image contains only the character\n",
        "a and not the word ab. Furthermore, we'll assume that there are only three time steps\n",
        "for simplicity of calculation:\n",
        "\n",
        "![nlp](../imgs/nlp19.png)"
      ]
    },
    {
      "cell_type": "markdown",
      "metadata": {},
      "source": [
        "We can obtain the ground truth of a if the softmax in each time step is like any of the\n",
        "following seven scenarios:\n",
        "\n",
        "![nlp](../imgs/nlp20.png)\n",
        "\n",
        "![nlp](../imgs/nlp21.png)"
      ]
    },
    {
      "cell_type": "markdown",
      "metadata": {},
      "source": [
        "From the preceding results, we can see that the overall probability of obtaining the\n",
        "ground truth is 0.906.\n",
        "\n",
        "The rest of the 0.094 corresponds to the probability of the outcome not obtaining the\n",
        "ground truth.\n",
        "\n",
        "Let's calculate the binary cross-entropy loss corresponding to the summation of all the\n",
        "possible ground truths.\n",
        "\n",
        "CTC loss is the negative logarithm of the overall probability summation of\n",
        "combinations that result in ground truth = -log(0.906) = 0.1."
      ]
    },
    {
      "cell_type": "code",
      "execution_count": 1,
      "metadata": {
        "colab": {
          "base_uri": "https://localhost:8080/",
          "height": 445
        },
        "id": "hQDnOljOkTLT",
        "outputId": "6365b8e6-8ebd-4d96-b746-730b5a1ea336"
      },
      "outputs": [
        {
          "name": "stdout",
          "output_type": "stream",
          "text": [
            "--2023-08-16 14:49:59--  https://www.dropbox.com/s/l2ul3upj7dkv4ou/synthetic-data.zip\n",
            "Resolving www.dropbox.com (www.dropbox.com)... 162.125.81.18, 2620:100:6035:18::a27d:5512\n",
            "Connecting to www.dropbox.com (www.dropbox.com)|162.125.81.18|:443... connected.\n",
            "HTTP request sent, awaiting response... 302 Found\n",
            "Location: /s/raw/l2ul3upj7dkv4ou/synthetic-data.zip [following]\n",
            "--2023-08-16 14:50:00--  https://www.dropbox.com/s/raw/l2ul3upj7dkv4ou/synthetic-data.zip\n",
            "Reusing existing connection to www.dropbox.com:443.\n",
            "HTTP request sent, awaiting response... 302 Found\n",
            "Location: https://ucb3a5ed45f5ff95387d0384a626.dl.dropboxusercontent.com/cd/0/inline/CB754XNAq5GdmFbCvBblQACynnP7NlY1DbLRW1yK6rtP435mUgM0pjn61Lz0Y56Ex7ybZd8nGBSWIzHct5SkD4GiF7n6ZJrWmdOhOo1rqsgu-gbt0_F5qJgaoBS6S_RWxdUqN7zE6BAaiuaoeqJhqpu0/file# [following]\n",
            "--2023-08-16 14:50:01--  https://ucb3a5ed45f5ff95387d0384a626.dl.dropboxusercontent.com/cd/0/inline/CB754XNAq5GdmFbCvBblQACynnP7NlY1DbLRW1yK6rtP435mUgM0pjn61Lz0Y56Ex7ybZd8nGBSWIzHct5SkD4GiF7n6ZJrWmdOhOo1rqsgu-gbt0_F5qJgaoBS6S_RWxdUqN7zE6BAaiuaoeqJhqpu0/file\n",
            "Resolving ucb3a5ed45f5ff95387d0384a626.dl.dropboxusercontent.com (ucb3a5ed45f5ff95387d0384a626.dl.dropboxusercontent.com)... 162.125.85.15, 2620:100:6033:15::a27d:530f\n",
            "Connecting to ucb3a5ed45f5ff95387d0384a626.dl.dropboxusercontent.com (ucb3a5ed45f5ff95387d0384a626.dl.dropboxusercontent.com)|162.125.85.15|:443... connected.\n",
            "HTTP request sent, awaiting response... 302 Found\n",
            "Location: /cd/0/inline2/CB6SZEuk-Td19Cfcn-QXDsf09BeTnrnzqHWF3QRDgswmK_VZ4cWNOqDJRBgw0jxLwiVDk7slnMSKvCmW70n8w-zDJuy-cI3uN_79zNYMg6U0grNHRJWaZi3Y9Dt4H2biEFOR9x1ERA060_6-WFm6Q-ZK9aLte87fK7LbEJZAIbTGHhj_BaxTxEbmkVKBKj7MKwO_xPoxV3h3TdmQPSqWv94AWFOSDmaIfnNyVr0mgnJbLT2NHCwxjFidnqBjfzFrfNIhFTwaeYrq3vhs0q2OqXE-7jgVMOoYu6nvfNksSPSNu1yYybk92GAReKC5z6yjQJCT8eOLn97NzvX_GZxsqA8-c1dFq-679dwZ2Z6mw2esmughSH-dWJM0NMgM5FaAQ-A/file [following]\n",
            "--2023-08-16 14:50:05--  https://ucb3a5ed45f5ff95387d0384a626.dl.dropboxusercontent.com/cd/0/inline2/CB6SZEuk-Td19Cfcn-QXDsf09BeTnrnzqHWF3QRDgswmK_VZ4cWNOqDJRBgw0jxLwiVDk7slnMSKvCmW70n8w-zDJuy-cI3uN_79zNYMg6U0grNHRJWaZi3Y9Dt4H2biEFOR9x1ERA060_6-WFm6Q-ZK9aLte87fK7LbEJZAIbTGHhj_BaxTxEbmkVKBKj7MKwO_xPoxV3h3TdmQPSqWv94AWFOSDmaIfnNyVr0mgnJbLT2NHCwxjFidnqBjfzFrfNIhFTwaeYrq3vhs0q2OqXE-7jgVMOoYu6nvfNksSPSNu1yYybk92GAReKC5z6yjQJCT8eOLn97NzvX_GZxsqA8-c1dFq-679dwZ2Z6mw2esmughSH-dWJM0NMgM5FaAQ-A/file\n",
            "Reusing existing connection to ucb3a5ed45f5ff95387d0384a626.dl.dropboxusercontent.com:443.\n",
            "HTTP request sent, awaiting response... 200 OK\n",
            "Length: 39876999 (38M) [application/zip]\n",
            "Saving to: ‘synthetic-data.zip’\n",
            "\n",
            "synthetic-data.zip  100%[===================>]  38,03M  8,00MB/s    in 5,4s    \n",
            "\n",
            "2023-08-16 14:50:11 (7,09 MB/s) - ‘synthetic-data.zip’ saved [39876999/39876999]\n",
            "\n"
          ]
        }
      ],
      "source": [
        "!wget https://www.dropbox.com/s/l2ul3upj7dkv4ou/synthetic-data.zip\n",
        "!unzip -qq synthetic-data.zip"
      ]
    },
    {
      "cell_type": "code",
      "execution_count": 2,
      "metadata": {
        "colab": {
          "base_uri": "https://localhost:8080/",
          "height": 666
        },
        "id": "VqAz_bnxkV6w",
        "outputId": "54ddeca6-7cb0-456b-e0c7-d1b73e309c52"
      },
      "outputs": [
        {
          "name": "stdout",
          "output_type": "stream",
          "text": [
            "Requirement already satisfied: torch_snippets in /home/lacie/miniconda3/envs/conda-pytorch/lib/python3.8/site-packages (0.503)\n",
            "Requirement already satisfied: torch_summary in /home/lacie/miniconda3/envs/conda-pytorch/lib/python3.8/site-packages (1.4.5)\n",
            "Collecting editdistance\n",
            "  Downloading editdistance-0.6.2-cp38-cp38-manylinux_2_17_x86_64.manylinux2014_x86_64.whl (283 kB)\n",
            "\u001b[2K     \u001b[90m━━━━━━━━━━━━━━━━━━━━━━━━━━━━━━━━━━━━━━━\u001b[0m \u001b[32m283.4/283.4 kB\u001b[0m \u001b[31m1.4 MB/s\u001b[0m eta \u001b[36m0:00:00\u001b[0ma \u001b[36m0:00:01\u001b[0m\n",
            "\u001b[?25hRequirement already satisfied: fastcore in /home/lacie/miniconda3/envs/conda-pytorch/lib/python3.8/site-packages (from torch_snippets) (1.5.29)\n",
            "Requirement already satisfied: matplotlib in /home/lacie/.local/lib/python3.8/site-packages (from torch_snippets) (3.7.2)\n",
            "Requirement already satisfied: Pillow in /home/lacie/.local/lib/python3.8/site-packages (from torch_snippets) (10.0.0)\n",
            "Requirement already satisfied: altair in /home/lacie/miniconda3/envs/conda-pytorch/lib/python3.8/site-packages (from torch_snippets) (5.0.1)\n",
            "Requirement already satisfied: dill in /home/lacie/miniconda3/envs/conda-pytorch/lib/python3.8/site-packages (from torch_snippets) (0.3.7)\n",
            "Requirement already satisfied: ipython in /home/lacie/.local/lib/python3.8/site-packages (from torch_snippets) (8.12.2)\n",
            "Requirement already satisfied: loguru in /home/lacie/miniconda3/envs/conda-pytorch/lib/python3.8/site-packages (from torch_snippets) (0.7.0)\n",
            "Requirement already satisfied: numpy in /home/lacie/.local/lib/python3.8/site-packages (from torch_snippets) (1.24.3)\n",
            "Requirement already satisfied: pandas in /home/lacie/.local/lib/python3.8/site-packages (from torch_snippets) (2.0.3)\n",
            "Requirement already satisfied: tqdm in /home/lacie/.local/lib/python3.8/site-packages (from torch_snippets) (4.66.0)\n",
            "Requirement already satisfied: rich in /home/lacie/miniconda3/envs/conda-pytorch/lib/python3.8/site-packages (from torch_snippets) (13.5.2)\n",
            "Requirement already satisfied: PyYAML in /home/lacie/miniconda3/envs/conda-pytorch/lib/python3.8/site-packages (from torch_snippets) (6.0.1)\n",
            "Requirement already satisfied: catalogue in /home/lacie/miniconda3/envs/conda-pytorch/lib/python3.8/site-packages (from torch_snippets) (2.0.9)\n",
            "Requirement already satisfied: confection in /home/lacie/miniconda3/envs/conda-pytorch/lib/python3.8/site-packages (from torch_snippets) (0.1.1)\n",
            "Requirement already satisfied: pydantic in /home/lacie/miniconda3/envs/conda-pytorch/lib/python3.8/site-packages (from torch_snippets) (2.1.1)\n",
            "Requirement already satisfied: typing in /home/lacie/miniconda3/envs/conda-pytorch/lib/python3.8/site-packages (from torch_snippets) (3.7.4.3)\n",
            "Requirement already satisfied: srsly in /home/lacie/miniconda3/envs/conda-pytorch/lib/python3.8/site-packages (from torch_snippets) (2.4.7)\n",
            "Requirement already satisfied: typing-extensions in /home/lacie/.local/lib/python3.8/site-packages (from torch_snippets) (4.7.1)\n",
            "Requirement already satisfied: wasabi in /home/lacie/miniconda3/envs/conda-pytorch/lib/python3.8/site-packages (from torch_snippets) (1.1.2)\n",
            "Requirement already satisfied: jsonlines in /home/lacie/miniconda3/envs/conda-pytorch/lib/python3.8/site-packages (from torch_snippets) (3.1.0)\n",
            "Requirement already satisfied: imgaug>=0.4.0 in /home/lacie/miniconda3/envs/conda-pytorch/lib/python3.8/site-packages (from torch_snippets) (0.4.0)\n",
            "Requirement already satisfied: xmltodict in /home/lacie/miniconda3/envs/conda-pytorch/lib/python3.8/site-packages (from torch_snippets) (0.13.0)\n",
            "Requirement already satisfied: fuzzywuzzy in /home/lacie/miniconda3/envs/conda-pytorch/lib/python3.8/site-packages (from torch_snippets) (0.18.0)\n",
            "Requirement already satisfied: scikit-learn in /home/lacie/miniconda3/envs/conda-pytorch/lib/python3.8/site-packages (from torch_snippets) (1.3.0)\n",
            "Requirement already satisfied: nltk in /home/lacie/miniconda3/envs/conda-pytorch/lib/python3.8/site-packages (from torch_snippets) (3.8.1)\n",
            "Requirement already satisfied: python-Levenshtein in /home/lacie/miniconda3/envs/conda-pytorch/lib/python3.8/site-packages (from torch_snippets) (0.21.1)\n",
            "Requirement already satisfied: pre-commit in /home/lacie/miniconda3/envs/conda-pytorch/lib/python3.8/site-packages (from torch_snippets) (3.3.3)\n",
            "Requirement already satisfied: pymupdf in /home/lacie/miniconda3/envs/conda-pytorch/lib/python3.8/site-packages (from torch_snippets) (1.22.5)\n",
            "Requirement already satisfied: nbconvert in /home/lacie/miniconda3/envs/conda-pytorch/lib/python3.8/site-packages (from torch_snippets) (7.7.3)\n",
            "Requirement already satisfied: nbformat in /home/lacie/miniconda3/envs/conda-pytorch/lib/python3.8/site-packages (from torch_snippets) (5.9.2)\n",
            "Requirement already satisfied: six in /home/lacie/miniconda3/envs/conda-pytorch/lib/python3.8/site-packages (from imgaug>=0.4.0->torch_snippets) (1.16.0)\n",
            "Requirement already satisfied: scipy in /home/lacie/.local/lib/python3.8/site-packages (from imgaug>=0.4.0->torch_snippets) (1.10.1)\n",
            "Requirement already satisfied: scikit-image>=0.14.2 in /home/lacie/miniconda3/envs/conda-pytorch/lib/python3.8/site-packages (from imgaug>=0.4.0->torch_snippets) (0.21.0)\n",
            "Requirement already satisfied: opencv-python in /home/lacie/.local/lib/python3.8/site-packages (from imgaug>=0.4.0->torch_snippets) (4.8.0.74)\n",
            "Requirement already satisfied: imageio in /home/lacie/miniconda3/envs/conda-pytorch/lib/python3.8/site-packages (from imgaug>=0.4.0->torch_snippets) (2.31.1)\n",
            "Requirement already satisfied: Shapely in /home/lacie/miniconda3/envs/conda-pytorch/lib/python3.8/site-packages (from imgaug>=0.4.0->torch_snippets) (2.0.1)\n",
            "Requirement already satisfied: jinja2 in /home/lacie/miniconda3/envs/conda-pytorch/lib/python3.8/site-packages (from altair->torch_snippets) (3.1.2)\n",
            "Requirement already satisfied: jsonschema>=3.0 in /home/lacie/miniconda3/envs/conda-pytorch/lib/python3.8/site-packages (from altair->torch_snippets) (4.19.0)\n",
            "Requirement already satisfied: toolz in /home/lacie/miniconda3/envs/conda-pytorch/lib/python3.8/site-packages (from altair->torch_snippets) (0.12.0)\n",
            "Requirement already satisfied: python-dateutil>=2.8.2 in /home/lacie/.local/lib/python3.8/site-packages (from pandas->torch_snippets) (2.8.2)\n",
            "Requirement already satisfied: pytz>=2020.1 in /home/lacie/.local/lib/python3.8/site-packages (from pandas->torch_snippets) (2023.3)\n",
            "Requirement already satisfied: tzdata>=2022.1 in /home/lacie/.local/lib/python3.8/site-packages (from pandas->torch_snippets) (2023.3)\n",
            "Requirement already satisfied: annotated-types>=0.4.0 in /home/lacie/miniconda3/envs/conda-pytorch/lib/python3.8/site-packages (from pydantic->torch_snippets) (0.5.0)\n",
            "Requirement already satisfied: pydantic-core==2.4.0 in /home/lacie/miniconda3/envs/conda-pytorch/lib/python3.8/site-packages (from pydantic->torch_snippets) (2.4.0)\n",
            "Requirement already satisfied: pip in /home/lacie/miniconda3/envs/conda-pytorch/lib/python3.8/site-packages (from fastcore->torch_snippets) (23.2.1)\n",
            "Requirement already satisfied: packaging in /home/lacie/.local/lib/python3.8/site-packages (from fastcore->torch_snippets) (23.1)\n",
            "Requirement already satisfied: backcall in /home/lacie/.local/lib/python3.8/site-packages (from ipython->torch_snippets) (0.2.0)\n",
            "Requirement already satisfied: decorator in /home/lacie/.local/lib/python3.8/site-packages (from ipython->torch_snippets) (5.1.1)\n",
            "Requirement already satisfied: jedi>=0.16 in /home/lacie/.local/lib/python3.8/site-packages (from ipython->torch_snippets) (0.19.0)\n",
            "Requirement already satisfied: matplotlib-inline in /home/lacie/.local/lib/python3.8/site-packages (from ipython->torch_snippets) (0.1.6)\n",
            "Requirement already satisfied: pickleshare in /home/lacie/.local/lib/python3.8/site-packages (from ipython->torch_snippets) (0.7.5)\n",
            "Requirement already satisfied: prompt-toolkit!=3.0.37,<3.1.0,>=3.0.30 in /home/lacie/.local/lib/python3.8/site-packages (from ipython->torch_snippets) (3.0.39)\n",
            "Requirement already satisfied: pygments>=2.4.0 in /home/lacie/.local/lib/python3.8/site-packages (from ipython->torch_snippets) (2.16.1)\n",
            "Requirement already satisfied: stack-data in /home/lacie/.local/lib/python3.8/site-packages (from ipython->torch_snippets) (0.6.2)\n",
            "Requirement already satisfied: traitlets>=5 in /home/lacie/.local/lib/python3.8/site-packages (from ipython->torch_snippets) (5.9.0)\n",
            "Requirement already satisfied: pexpect>4.3 in /home/lacie/miniconda3/envs/conda-pytorch/lib/python3.8/site-packages (from ipython->torch_snippets) (4.8.0)\n",
            "Requirement already satisfied: attrs>=19.2.0 in /home/lacie/miniconda3/envs/conda-pytorch/lib/python3.8/site-packages (from jsonlines->torch_snippets) (23.1.0)\n",
            "Requirement already satisfied: contourpy>=1.0.1 in /home/lacie/.local/lib/python3.8/site-packages (from matplotlib->torch_snippets) (1.1.0)\n",
            "Requirement already satisfied: cycler>=0.10 in /home/lacie/miniconda3/envs/conda-pytorch/lib/python3.8/site-packages (from matplotlib->torch_snippets) (0.11.0)\n",
            "Requirement already satisfied: fonttools>=4.22.0 in /home/lacie/.local/lib/python3.8/site-packages (from matplotlib->torch_snippets) (4.42.0)\n",
            "Requirement already satisfied: kiwisolver>=1.0.1 in /home/lacie/miniconda3/envs/conda-pytorch/lib/python3.8/site-packages (from matplotlib->torch_snippets) (1.4.4)\n",
            "Requirement already satisfied: pyparsing<3.1,>=2.3.1 in /home/lacie/miniconda3/envs/conda-pytorch/lib/python3.8/site-packages (from matplotlib->torch_snippets) (3.0.9)\n",
            "Requirement already satisfied: importlib-resources>=3.2.0 in /home/lacie/.local/lib/python3.8/site-packages (from matplotlib->torch_snippets) (6.0.1)\n",
            "Requirement already satisfied: beautifulsoup4 in /home/lacie/miniconda3/envs/conda-pytorch/lib/python3.8/site-packages (from nbconvert->torch_snippets) (4.12.2)\n",
            "Requirement already satisfied: bleach!=5.0.0 in /home/lacie/miniconda3/envs/conda-pytorch/lib/python3.8/site-packages (from nbconvert->torch_snippets) (6.0.0)\n",
            "Requirement already satisfied: defusedxml in /home/lacie/miniconda3/envs/conda-pytorch/lib/python3.8/site-packages (from nbconvert->torch_snippets) (0.7.1)\n",
            "Requirement already satisfied: importlib-metadata>=3.6 in /home/lacie/.local/lib/python3.8/site-packages (from nbconvert->torch_snippets) (6.8.0)\n",
            "Requirement already satisfied: jupyter-core>=4.7 in /home/lacie/miniconda3/envs/conda-pytorch/lib/python3.8/site-packages (from nbconvert->torch_snippets) (4.12.0)\n",
            "Requirement already satisfied: jupyterlab-pygments in /home/lacie/miniconda3/envs/conda-pytorch/lib/python3.8/site-packages (from nbconvert->torch_snippets) (0.2.2)\n",
            "Requirement already satisfied: markupsafe>=2.0 in /home/lacie/.local/lib/python3.8/site-packages (from nbconvert->torch_snippets) (2.1.3)\n",
            "Requirement already satisfied: mistune<4,>=2.0.3 in /home/lacie/miniconda3/envs/conda-pytorch/lib/python3.8/site-packages (from nbconvert->torch_snippets) (3.0.1)\n",
            "Requirement already satisfied: nbclient>=0.5.0 in /home/lacie/miniconda3/envs/conda-pytorch/lib/python3.8/site-packages (from nbconvert->torch_snippets) (0.8.0)\n",
            "Requirement already satisfied: pandocfilters>=1.4.1 in /home/lacie/miniconda3/envs/conda-pytorch/lib/python3.8/site-packages (from nbconvert->torch_snippets) (1.5.0)\n",
            "Requirement already satisfied: tinycss2 in /home/lacie/miniconda3/envs/conda-pytorch/lib/python3.8/site-packages (from nbconvert->torch_snippets) (1.2.1)\n",
            "Requirement already satisfied: fastjsonschema in /home/lacie/miniconda3/envs/conda-pytorch/lib/python3.8/site-packages (from nbformat->torch_snippets) (2.18.0)\n",
            "Requirement already satisfied: click in /home/lacie/miniconda3/envs/conda-pytorch/lib/python3.8/site-packages (from nltk->torch_snippets) (8.1.6)\n",
            "Requirement already satisfied: joblib in /home/lacie/miniconda3/envs/conda-pytorch/lib/python3.8/site-packages (from nltk->torch_snippets) (1.3.1)\n",
            "Requirement already satisfied: regex>=2021.8.3 in /home/lacie/miniconda3/envs/conda-pytorch/lib/python3.8/site-packages (from nltk->torch_snippets) (2023.8.8)\n",
            "Requirement already satisfied: cfgv>=2.0.0 in /home/lacie/miniconda3/envs/conda-pytorch/lib/python3.8/site-packages (from pre-commit->torch_snippets) (3.4.0)\n",
            "Requirement already satisfied: identify>=1.0.0 in /home/lacie/miniconda3/envs/conda-pytorch/lib/python3.8/site-packages (from pre-commit->torch_snippets) (2.5.26)\n",
            "Requirement already satisfied: nodeenv>=0.11.1 in /home/lacie/miniconda3/envs/conda-pytorch/lib/python3.8/site-packages (from pre-commit->torch_snippets) (1.8.0)\n",
            "Requirement already satisfied: virtualenv>=20.10.0 in /home/lacie/miniconda3/envs/conda-pytorch/lib/python3.8/site-packages (from pre-commit->torch_snippets) (20.24.3)\n",
            "Requirement already satisfied: Levenshtein==0.21.1 in /home/lacie/miniconda3/envs/conda-pytorch/lib/python3.8/site-packages (from python-Levenshtein->torch_snippets) (0.21.1)\n",
            "Requirement already satisfied: rapidfuzz<4.0.0,>=2.3.0 in /home/lacie/miniconda3/envs/conda-pytorch/lib/python3.8/site-packages (from Levenshtein==0.21.1->python-Levenshtein->torch_snippets) (3.2.0)\n",
            "Requirement already satisfied: markdown-it-py>=2.2.0 in /home/lacie/miniconda3/envs/conda-pytorch/lib/python3.8/site-packages (from rich->torch_snippets) (3.0.0)\n",
            "Requirement already satisfied: threadpoolctl>=2.0.0 in /home/lacie/miniconda3/envs/conda-pytorch/lib/python3.8/site-packages (from scikit-learn->torch_snippets) (3.2.0)\n",
            "Requirement already satisfied: webencodings in /home/lacie/miniconda3/envs/conda-pytorch/lib/python3.8/site-packages (from bleach!=5.0.0->nbconvert->torch_snippets) (0.5.1)\n",
            "Requirement already satisfied: zipp>=0.5 in /home/lacie/.local/lib/python3.8/site-packages (from importlib-metadata>=3.6->nbconvert->torch_snippets) (3.16.2)\n",
            "Requirement already satisfied: parso<0.9.0,>=0.8.3 in /home/lacie/.local/lib/python3.8/site-packages (from jedi>=0.16->ipython->torch_snippets) (0.8.3)\n",
            "Requirement already satisfied: jsonschema-specifications>=2023.03.6 in /home/lacie/miniconda3/envs/conda-pytorch/lib/python3.8/site-packages (from jsonschema>=3.0->altair->torch_snippets) (2023.7.1)\n",
            "Requirement already satisfied: pkgutil-resolve-name>=1.3.10 in /home/lacie/miniconda3/envs/conda-pytorch/lib/python3.8/site-packages (from jsonschema>=3.0->altair->torch_snippets) (1.3.10)\n",
            "Requirement already satisfied: referencing>=0.28.4 in /home/lacie/miniconda3/envs/conda-pytorch/lib/python3.8/site-packages (from jsonschema>=3.0->altair->torch_snippets) (0.30.2)\n",
            "Requirement already satisfied: rpds-py>=0.7.1 in /home/lacie/miniconda3/envs/conda-pytorch/lib/python3.8/site-packages (from jsonschema>=3.0->altair->torch_snippets) (0.9.2)\n",
            "Requirement already satisfied: mdurl~=0.1 in /home/lacie/miniconda3/envs/conda-pytorch/lib/python3.8/site-packages (from markdown-it-py>=2.2.0->rich->torch_snippets) (0.1.2)\n",
            "Requirement already satisfied: jupyter-client>=6.1.12 in /home/lacie/miniconda3/envs/conda-pytorch/lib/python3.8/site-packages (from nbclient>=0.5.0->nbconvert->torch_snippets) (7.0.6)\n",
            "Requirement already satisfied: setuptools in /home/lacie/miniconda3/envs/conda-pytorch/lib/python3.8/site-packages (from nodeenv>=0.11.1->pre-commit->torch_snippets) (68.0.0)\n",
            "Requirement already satisfied: ptyprocess>=0.5 in /home/lacie/miniconda3/envs/conda-pytorch/lib/python3.8/site-packages (from pexpect>4.3->ipython->torch_snippets) (0.7.0)\n",
            "Requirement already satisfied: wcwidth in /home/lacie/.local/lib/python3.8/site-packages (from prompt-toolkit!=3.0.37,<3.1.0,>=3.0.30->ipython->torch_snippets) (0.2.6)\n",
            "Requirement already satisfied: networkx>=2.8 in /home/lacie/miniconda3/envs/conda-pytorch/lib/python3.8/site-packages (from scikit-image>=0.14.2->imgaug>=0.4.0->torch_snippets) (3.1)\n",
            "Requirement already satisfied: tifffile>=2022.8.12 in /home/lacie/miniconda3/envs/conda-pytorch/lib/python3.8/site-packages (from scikit-image>=0.14.2->imgaug>=0.4.0->torch_snippets) (2023.7.10)\n",
            "Requirement already satisfied: PyWavelets>=1.1.1 in /home/lacie/miniconda3/envs/conda-pytorch/lib/python3.8/site-packages (from scikit-image>=0.14.2->imgaug>=0.4.0->torch_snippets) (1.4.1)\n",
            "Requirement already satisfied: lazy_loader>=0.2 in /home/lacie/miniconda3/envs/conda-pytorch/lib/python3.8/site-packages (from scikit-image>=0.14.2->imgaug>=0.4.0->torch_snippets) (0.3)\n",
            "Requirement already satisfied: distlib<1,>=0.3.7 in /home/lacie/miniconda3/envs/conda-pytorch/lib/python3.8/site-packages (from virtualenv>=20.10.0->pre-commit->torch_snippets) (0.3.7)\n",
            "Requirement already satisfied: filelock<4,>=3.12.2 in /home/lacie/miniconda3/envs/conda-pytorch/lib/python3.8/site-packages (from virtualenv>=20.10.0->pre-commit->torch_snippets) (3.12.2)\n",
            "Requirement already satisfied: platformdirs<4,>=3.9.1 in /home/lacie/miniconda3/envs/conda-pytorch/lib/python3.8/site-packages (from virtualenv>=20.10.0->pre-commit->torch_snippets) (3.10.0)\n",
            "Requirement already satisfied: soupsieve>1.2 in /home/lacie/miniconda3/envs/conda-pytorch/lib/python3.8/site-packages (from beautifulsoup4->nbconvert->torch_snippets) (2.4.1)\n",
            "Requirement already satisfied: executing>=1.2.0 in /home/lacie/.local/lib/python3.8/site-packages (from stack-data->ipython->torch_snippets) (1.2.0)\n",
            "Requirement already satisfied: asttokens>=2.1.0 in /home/lacie/.local/lib/python3.8/site-packages (from stack-data->ipython->torch_snippets) (2.2.1)\n",
            "Requirement already satisfied: pure-eval in /home/lacie/.local/lib/python3.8/site-packages (from stack-data->ipython->torch_snippets) (0.2.2)\n",
            "Requirement already satisfied: entrypoints in /home/lacie/miniconda3/envs/conda-pytorch/lib/python3.8/site-packages (from jupyter-client>=6.1.12->nbclient>=0.5.0->nbconvert->torch_snippets) (0.4)\n",
            "Requirement already satisfied: nest-asyncio>=1.5 in /home/lacie/miniconda3/envs/conda-pytorch/lib/python3.8/site-packages (from jupyter-client>=6.1.12->nbclient>=0.5.0->nbconvert->torch_snippets) (1.5.6)\n",
            "Requirement already satisfied: pyzmq>=13 in /home/lacie/miniconda3/envs/conda-pytorch/lib/python3.8/site-packages (from jupyter-client>=6.1.12->nbclient>=0.5.0->nbconvert->torch_snippets) (19.0.2)\n",
            "Requirement already satisfied: tornado>=4.1 in /home/lacie/miniconda3/envs/conda-pytorch/lib/python3.8/site-packages (from jupyter-client>=6.1.12->nbclient>=0.5.0->nbconvert->torch_snippets) (6.1)\n",
            "Installing collected packages: editdistance\n",
            "Successfully installed editdistance-0.6.2\n"
          ]
        }
      ],
      "source": [
        "!pip install torch_snippets torch_summary editdistance"
      ]
    },
    {
      "cell_type": "code",
      "execution_count": 3,
      "metadata": {
        "id": "H1IOQ7q9kX6Y"
      },
      "outputs": [
        {
          "name": "stderr",
          "output_type": "stream",
          "text": [
            "/home/lacie/.local/lib/python3.8/site-packages/tqdm/auto.py:21: TqdmWarning: IProgress not found. Please update jupyter and ipywidgets. See https://ipywidgets.readthedocs.io/en/stable/user_install.html\n",
            "  from .autonotebook import tqdm as notebook_tqdm\n"
          ]
        }
      ],
      "source": [
        "from torch_snippets import *\n",
        "from torchsummary import summary\n",
        "import editdistance"
      ]
    },
    {
      "cell_type": "code",
      "execution_count": 4,
      "metadata": {
        "colab": {
          "base_uri": "https://localhost:8080/",
          "height": 34
        },
        "id": "-sT64jwokZJ1",
        "outputId": "20d04524-198b-4bca-cc91-efc3566c8739"
      },
      "outputs": [],
      "source": [
        "device = 'cuda' if torch.cuda.is_available() else 'cpu'\n",
        "fname2label = lambda fname: stem(fname).split('@')[0]\n",
        "images = Glob('synthetic-data')"
      ]
    },
    {
      "cell_type": "code",
      "execution_count": 26,
      "metadata": {},
      "outputs": [
        {
          "data": {
            "text/plain": [
              "25132"
            ]
          },
          "execution_count": 26,
          "metadata": {},
          "output_type": "execute_result"
        }
      ],
      "source": [
        "len(images)"
      ]
    },
    {
      "cell_type": "code",
      "execution_count": 5,
      "metadata": {
        "id": "7N0yxeI8kafV"
      },
      "outputs": [],
      "source": [
        "vocab = 'QWERTYUIOPASDFGHJKLZXCVBNMqwertyuiopasdfghjklzxcvbnm'\n",
        "B,T,V = 64, 32, len(vocab) \n",
        "H,W = 32, 128 "
      ]
    },
    {
      "cell_type": "code",
      "execution_count": 27,
      "metadata": {
        "id": "U5ImW_I4kb3Z"
      },
      "outputs": [],
      "source": [
        "class OCRDataset(Dataset):\n",
        "    def __init__(self, items, vocab=vocab, preprocess_shape=(H,W), timesteps=T):\n",
        "        super().__init__()\n",
        "        self.items = items\n",
        "        self.charList = {ix+1:ch for ix,ch in enumerate(vocab)}\n",
        "        self.charList.update({0: '`'})\n",
        "        self.invCharList = {v:k for k,v in self.charList.items()}\n",
        "        self.ts = timesteps\n",
        "    def __len__(self):\n",
        "        return len(self.items)\n",
        "    def sample(self):\n",
        "        return self[randint(len(self))]\n",
        "    def __getitem__(self, ix):\n",
        "        imgPath = self.items[ix]\n",
        "        image = cv2.imread(str(imgPath), 0)\n",
        "        label = fname2label(imgPath)\n",
        "        return image, label\n",
        "    def collate_fn(self, batch):\n",
        "        images, labels, label_lengths, label_vectors, input_lengths = [], [], [], [], []\n",
        "        for image, label in batch:\n",
        "            images.append(torch.Tensor(self.preprocess(image))[None,None])\n",
        "            label_lengths.append(len(label))\n",
        "            labels.append(label)\n",
        "            label_vectors.append(self.str2vec(label))\n",
        "            input_lengths.append(self.ts)\n",
        "        images = torch.cat(images).float().to(device)\n",
        "        label_lengths = torch.Tensor(label_lengths).long().to(device)\n",
        "        label_vectors = torch.Tensor(label_vectors).long().to(device)\n",
        "        input_lengths = torch.Tensor(input_lengths).long().to(device)\n",
        "        return images, label_vectors, label_lengths, input_lengths, labels\n",
        "    def str2vec(self, string, pad=True):\n",
        "        string = ''.join([s for s in string if s in self.invCharList])\n",
        "        val = list(map(lambda x: self.invCharList[x], string)) \n",
        "        if pad:\n",
        "            while len(val) < self.ts:\n",
        "                val.append(0)\n",
        "        return val\n",
        "    def preprocess(self, img, shape=(32,128)):\n",
        "        target = np.ones(shape)*255\n",
        "        try:\n",
        "            H, W = shape\n",
        "            h, w = img.shape\n",
        "            fx = H/h\n",
        "            fy = W/w\n",
        "            f = min(fx, fy)\n",
        "            _h = int(h*f)\n",
        "            _w = int(w*f)\n",
        "            _img = cv2.resize(img, (_w,_h))\n",
        "            target[:_h,:_w] = _img\n",
        "        except:\n",
        "            ...\n",
        "        return (255-target)/255\n",
        "    def decoder_chars(self, pred):\n",
        "        decoded = \"\"\n",
        "        last = \"\"\n",
        "        pred = pred.cpu().detach().numpy()\n",
        "        for i in range(len(pred)):\n",
        "            k = np.argmax(pred[i])\n",
        "            if k > 0 and self.charList[k] != last:\n",
        "                last = self.charList[k]\n",
        "                decoded = decoded + last\n",
        "            elif k > 0 and self.charList[k] == last:\n",
        "                continue\n",
        "            else:\n",
        "                last = \"\"\n",
        "        return decoded.replace(\" \",\" \")\n",
        "    def wer(self, preds, labels):\n",
        "        c = 0\n",
        "        for p, l in zip(preds, labels):\n",
        "            c += p.lower().strip() != l.lower().strip()\n",
        "        return round(c/len(preds), 4)\n",
        "    def cer(self, preds, labels):\n",
        "        c, d = [], []\n",
        "        for p, l in zip(preds, labels):\n",
        "            c.append(editdistance.eval(p, l) / len(l))\n",
        "        return round(np.mean(c), 4)\n",
        "    def evaluate(self, model, ims, labels, lower=False):\n",
        "        model.eval()\n",
        "        preds = model(ims).permute(1,0,2) # B, T, V+1\n",
        "        preds = [self.decoder_chars(pred) for pred in preds]\n",
        "        return {'char-error-rate': self.cer(preds, labels),\n",
        "                'word-error-rate': self.wer(preds, labels),\n",
        "                'char-accuracy' : 1 - self.cer(preds, labels),\n",
        "                'word-accuracy' : 1 - self.wer(preds, labels)}\n"
      ]
    },
    {
      "cell_type": "code",
      "execution_count": 28,
      "metadata": {
        "colab": {
          "base_uri": "https://localhost:8080/",
          "height": 34
        },
        "id": "z1zYLnvmke6-",
        "outputId": "e1e9c4a9-8aed-4857-edf2-02f26622a45f"
      },
      "outputs": [],
      "source": [
        "from sklearn.model_selection import train_test_split\n",
        "trn_items, val_items = train_test_split(Glob('synthetic-data'), test_size=0.2, random_state=22)\n",
        "trn_ds = OCRDataset(trn_items)\n",
        "val_ds = OCRDataset(val_items)\n",
        "\n",
        "trn_dl = DataLoader(trn_ds, batch_size=B, collate_fn=trn_ds.collate_fn, drop_last=True, shuffle=True)\n",
        "val_dl = DataLoader(val_ds, batch_size=B, collate_fn=val_ds.collate_fn, drop_last=True)"
      ]
    },
    {
      "cell_type": "code",
      "execution_count": 29,
      "metadata": {
        "id": "ywO4IMsZk2g1"
      },
      "outputs": [],
      "source": [
        "from torch_snippets import Reshape, Permute\n",
        "class BasicBlock(nn.Module):\n",
        "    def __init__(self, ni, no, ks=3, st=1, padding=1, pool=2, drop=0.2):\n",
        "        super().__init__()\n",
        "        self.ks = ks\n",
        "        self.block = nn.Sequential(\n",
        "            nn.Conv2d(ni, no, kernel_size=ks, stride=st, padding=padding),\n",
        "            nn.BatchNorm2d(no, momentum=0.3),\n",
        "            nn.ReLU(inplace=True),\n",
        "            nn.MaxPool2d(pool),\n",
        "            nn.Dropout2d(drop)\n",
        "        )\n",
        "    def forward(self, x):\n",
        "        return self.block(x)"
      ]
    },
    {
      "cell_type": "code",
      "execution_count": 31,
      "metadata": {
        "id": "q3K_qrPek42x"
      },
      "outputs": [],
      "source": [
        "class Ocr(nn.Module):\n",
        "    def __init__(self, vocab):\n",
        "        super().__init__()\n",
        "        self.model = nn.Sequential(\n",
        "            BasicBlock( 1, 128),\n",
        "            BasicBlock(128, 128),\n",
        "            BasicBlock(128, 256, pool=(4,2)),\n",
        "            Reshape(-1, 256, 32),\n",
        "            Permute(2, 0, 1) # T, B, D\n",
        "        )\n",
        "        self.rnn = nn.Sequential(\n",
        "            nn.LSTM(256, 256, num_layers=2, dropout=0.2, bidirectional=True),\n",
        "        )\n",
        "        self.classification = nn.Sequential(\n",
        "            nn.Linear(512, vocab+1),\n",
        "            nn.LogSoftmax(-1),\n",
        "        )\n",
        "    def forward(self, x):\n",
        "        x = self.model(x)\n",
        "        x, lstm_states = self.rnn(x)\n",
        "        y = self.classification(x)\n",
        "        return y"
      ]
    },
    {
      "cell_type": "code",
      "execution_count": 32,
      "metadata": {
        "id": "7oc3qXBRk7Fh"
      },
      "outputs": [],
      "source": [
        "def ctc(log_probs, target, input_lengths, target_lengths, blank=0):\n",
        "    loss = nn.CTCLoss(blank=blank, zero_infinity=True)\n",
        "    ctc_loss = loss(log_probs, target, input_lengths, target_lengths)\n",
        "    return ctc_loss"
      ]
    },
    {
      "cell_type": "code",
      "execution_count": 33,
      "metadata": {
        "colab": {
          "base_uri": "https://localhost:8080/",
          "height": 986
        },
        "id": "CIsrWALYk-wh",
        "outputId": "8a328366-c12c-48d0-9d94-b7ea0f396ee0"
      },
      "outputs": [
        {
          "name": "stdout",
          "output_type": "stream",
          "text": [
            "Requirement already satisfied: torch_summary in /home/lacie/miniconda3/envs/conda-pytorch/lib/python3.8/site-packages (1.4.5)\n",
            "==========================================================================================\n",
            "Layer (type:depth-idx)                   Output Shape              Param #\n",
            "==========================================================================================\n",
            "├─Sequential: 1-1                        [-1, 1, 256]              --\n",
            "|    └─BasicBlock: 2-1                   [-1, 128, 16, 64]         --\n",
            "|    |    └─Sequential: 3-1              [-1, 128, 16, 64]         1,536\n",
            "|    └─BasicBlock: 2-2                   [-1, 128, 8, 32]          --\n",
            "|    |    └─Sequential: 3-2              [-1, 128, 8, 32]          147,840\n",
            "|    └─BasicBlock: 2-3                   [-1, 256, 2, 16]          --\n",
            "|    |    └─Sequential: 3-3              [-1, 256, 2, 16]          295,680\n",
            "|    └─Reshape: 2-4                      [-1, 256, 32]             --\n",
            "|    └─Permute: 2-5                      [-1, 1, 256]              --\n",
            "├─Sequential: 1-2                        [-1, 1, 512]              --\n",
            "|    └─LSTM: 2-6                         [-1, 1, 512]              2,629,632\n",
            "├─Sequential: 1-3                        [-1, 1, 53]               --\n",
            "|    └─Linear: 2-7                       [-1, 1, 53]               27,189\n",
            "|    └─LogSoftmax: 2-8                   [-1, 1, 53]               --\n",
            "==========================================================================================\n",
            "Total params: 3,101,877\n",
            "Trainable params: 3,101,877\n",
            "Non-trainable params: 0\n",
            "Total mult-adds (M): 237.84\n",
            "==========================================================================================\n",
            "Input size (MB): 0.02\n",
            "Forward/backward pass size (MB): 11.00\n",
            "Params size (MB): 11.83\n",
            "Estimated Total Size (MB): 22.85\n",
            "==========================================================================================\n"
          ]
        },
        {
          "data": {
            "text/plain": [
              "==========================================================================================\n",
              "Layer (type:depth-idx)                   Output Shape              Param #\n",
              "==========================================================================================\n",
              "├─Sequential: 1-1                        [-1, 1, 256]              --\n",
              "|    └─BasicBlock: 2-1                   [-1, 128, 16, 64]         --\n",
              "|    |    └─Sequential: 3-1              [-1, 128, 16, 64]         1,536\n",
              "|    └─BasicBlock: 2-2                   [-1, 128, 8, 32]          --\n",
              "|    |    └─Sequential: 3-2              [-1, 128, 8, 32]          147,840\n",
              "|    └─BasicBlock: 2-3                   [-1, 256, 2, 16]          --\n",
              "|    |    └─Sequential: 3-3              [-1, 256, 2, 16]          295,680\n",
              "|    └─Reshape: 2-4                      [-1, 256, 32]             --\n",
              "|    └─Permute: 2-5                      [-1, 1, 256]              --\n",
              "├─Sequential: 1-2                        [-1, 1, 512]              --\n",
              "|    └─LSTM: 2-6                         [-1, 1, 512]              2,629,632\n",
              "├─Sequential: 1-3                        [-1, 1, 53]               --\n",
              "|    └─Linear: 2-7                       [-1, 1, 53]               27,189\n",
              "|    └─LogSoftmax: 2-8                   [-1, 1, 53]               --\n",
              "==========================================================================================\n",
              "Total params: 3,101,877\n",
              "Trainable params: 3,101,877\n",
              "Non-trainable params: 0\n",
              "Total mult-adds (M): 237.84\n",
              "==========================================================================================\n",
              "Input size (MB): 0.02\n",
              "Forward/backward pass size (MB): 11.00\n",
              "Params size (MB): 11.83\n",
              "Estimated Total Size (MB): 22.85\n",
              "=========================================================================================="
            ]
          },
          "execution_count": 33,
          "metadata": {},
          "output_type": "execute_result"
        }
      ],
      "source": [
        "model = Ocr(len(vocab)).to(device)\n",
        "!pip install torch_summary\n",
        "from torchsummary import summary\n",
        "summary(model, torch.zeros((1,1,32,128)).to(device))"
      ]
    },
    {
      "cell_type": "code",
      "execution_count": 34,
      "metadata": {
        "id": "Hs7CY0BYlAn1"
      },
      "outputs": [],
      "source": [
        "def train_batch(data, model, optimizer, criterion):\n",
        "    model.train()\n",
        "    imgs, targets, label_lens, input_lens, labels = data\n",
        "    optimizer.zero_grad()\n",
        "    preds = model(imgs)\n",
        "    loss = criterion(preds, targets, input_lens, label_lens)\n",
        "    loss.backward()\n",
        "    optimizer.step()\n",
        "    results = trn_ds.evaluate(model, imgs.to(device), labels)\n",
        "    return loss, results"
      ]
    },
    {
      "cell_type": "code",
      "execution_count": 35,
      "metadata": {
        "id": "dpyuNswnlmSC"
      },
      "outputs": [],
      "source": [
        "@torch.no_grad()\n",
        "def validate_batch(data, model):\n",
        "    model.eval()\n",
        "    imgs, targets, label_lens, input_lens, labels = data\n",
        "    preds = model(imgs)\n",
        "    loss = criterion(preds, targets, input_lens, label_lens)\n",
        "    return loss, val_ds.evaluate(model, imgs.to(device), labels)"
      ]
    },
    {
      "cell_type": "code",
      "execution_count": 36,
      "metadata": {
        "id": "yzGBIQ-qloEB"
      },
      "outputs": [],
      "source": [
        "model = Ocr(len(vocab)).to(device)\n",
        "criterion = ctc\n",
        "\n",
        "optimizer = optim.AdamW(model.parameters(), lr=3e-3)\n",
        "\n",
        "n_epochs = 50\n",
        "log = Report(n_epochs)"
      ]
    },
    {
      "cell_type": "code",
      "execution_count": 37,
      "metadata": {
        "colab": {
          "base_uri": "https://localhost:8080/",
          "height": 1000
        },
        "id": "6zmJcfsklpl8",
        "outputId": "306fd2be-6265-448b-8a59-1e35382fae17"
      },
      "outputs": [
        {
          "name": "stdout",
          "output_type": "stream",
          "text": [
            "EPOCH: 1.000  trn_char_acc: 0.018  trn_word_acc: 0.000  trn_loss: 3.339  val_loss: 3.074  val_char_acc: 0.133  val_word_acc: 0.000  (22.28s - 1091.74s remaining)\n"
          ]
        },
        {
          "data": {
            "text/html": [
              "<pre style=\"white-space:pre;overflow-x:auto;line-height:normal;font-family:Menlo,'DejaVu Sans Mono',consolas,'Courier New',monospace\">\n",
              "</pre>\n"
            ],
            "text/plain": [
              "\n"
            ]
          },
          "metadata": {},
          "output_type": "display_data"
        },
        {
          "data": {
            "text/html": [
              "<pre style=\"white-space:pre;overflow-x:auto;line-height:normal;font-family:Menlo,'DejaVu Sans Mono',consolas,'Courier New',monospace\">Pred: `se` :: Truth: `represent`\n",
              "</pre>\n"
            ],
            "text/plain": [
              "Pred: `se` :: Truth: `represent`\n"
            ]
          },
          "metadata": {},
          "output_type": "display_data"
        },
        {
          "data": {
            "text/html": [
              "<pre style=\"white-space:pre;overflow-x:auto;line-height:normal;font-family:Menlo,'DejaVu Sans Mono',consolas,'Courier New',monospace\">Pred: `se` :: Truth: `third`\n",
              "</pre>\n"
            ],
            "text/plain": [
              "Pred: `se` :: Truth: `third`\n"
            ]
          },
          "metadata": {},
          "output_type": "display_data"
        },
        {
          "data": {
            "text/html": [
              "<pre style=\"white-space:pre;overflow-x:auto;line-height:normal;font-family:Menlo,'DejaVu Sans Mono',consolas,'Courier New',monospace\">Pred: `se` :: Truth: `prevent`\n",
              "</pre>\n"
            ],
            "text/plain": [
              "Pred: `se` :: Truth: `prevent`\n"
            ]
          },
          "metadata": {},
          "output_type": "display_data"
        },
        {
          "data": {
            "text/html": [
              "<pre style=\"white-space:pre;overflow-x:auto;line-height:normal;font-family:Menlo,'DejaVu Sans Mono',consolas,'Courier New',monospace\">Pred: `se` :: Truth: `attack`\n",
              "</pre>\n"
            ],
            "text/plain": [
              "Pred: `se` :: Truth: `attack`\n"
            ]
          },
          "metadata": {},
          "output_type": "display_data"
        },
        {
          "data": {
            "text/html": [
              "<pre style=\"white-space:pre;overflow-x:auto;line-height:normal;font-family:Menlo,'DejaVu Sans Mono',consolas,'Courier New',monospace\">Pred: `e` :: Truth: `real`\n",
              "</pre>\n"
            ],
            "text/plain": [
              "Pred: `e` :: Truth: `real`\n"
            ]
          },
          "metadata": {},
          "output_type": "display_data"
        },
        {
          "data": {
            "text/html": [
              "<pre style=\"white-space:pre;overflow-x:auto;line-height:normal;font-family:Menlo,'DejaVu Sans Mono',consolas,'Courier New',monospace\">\n",
              "</pre>\n"
            ],
            "text/plain": [
              "\n"
            ]
          },
          "metadata": {},
          "output_type": "display_data"
        },
        {
          "name": "stdout",
          "output_type": "stream",
          "text": [
            "EPOCH: 2.000  trn_char_acc: 0.164  trn_word_acc: 0.001  trn_loss: 2.967  val_loss: 2.729  val_char_acc: 0.202  val_word_acc: 0.001  (42.25s - 1013.96s remaining)\n"
          ]
        },
        {
          "data": {
            "text/html": [
              "<pre style=\"white-space:pre;overflow-x:auto;line-height:normal;font-family:Menlo,'DejaVu Sans Mono',consolas,'Courier New',monospace\">\n",
              "</pre>\n"
            ],
            "text/plain": [
              "\n"
            ]
          },
          "metadata": {},
          "output_type": "display_data"
        },
        {
          "data": {
            "text/html": [
              "<pre style=\"white-space:pre;overflow-x:auto;line-height:normal;font-family:Menlo,'DejaVu Sans Mono',consolas,'Courier New',monospace\">Pred: `tie` :: Truth: `friend`\n",
              "</pre>\n"
            ],
            "text/plain": [
              "Pred: `tie` :: Truth: `friend`\n"
            ]
          },
          "metadata": {},
          "output_type": "display_data"
        },
        {
          "data": {
            "text/html": [
              "<pre style=\"white-space:pre;overflow-x:auto;line-height:normal;font-family:Menlo,'DejaVu Sans Mono',consolas,'Courier New',monospace\">Pred: `pie` :: Truth: `high`\n",
              "</pre>\n"
            ],
            "text/plain": [
              "Pred: `pie` :: Truth: `high`\n"
            ]
          },
          "metadata": {},
          "output_type": "display_data"
        },
        {
          "data": {
            "text/html": [
              "<pre style=\"white-space:pre;overflow-x:auto;line-height:normal;font-family:Menlo,'DejaVu Sans Mono',consolas,'Courier New',monospace\">Pred: `pee` :: Truth: `real`\n",
              "</pre>\n"
            ],
            "text/plain": [
              "Pred: `pee` :: Truth: `real`\n"
            ]
          },
          "metadata": {},
          "output_type": "display_data"
        },
        {
          "data": {
            "text/html": [
              "<pre style=\"white-space:pre;overflow-x:auto;line-height:normal;font-family:Menlo,'DejaVu Sans Mono',consolas,'Courier New',monospace\">Pred: `ste` :: Truth: `close`\n",
              "</pre>\n"
            ],
            "text/plain": [
              "Pred: `ste` :: Truth: `close`\n"
            ]
          },
          "metadata": {},
          "output_type": "display_data"
        },
        {
          "data": {
            "text/html": [
              "<pre style=\"white-space:pre;overflow-x:auto;line-height:normal;font-family:Menlo,'DejaVu Sans Mono',consolas,'Courier New',monospace\">Pred: `see` :: Truth: `organization`\n",
              "</pre>\n"
            ],
            "text/plain": [
              "Pred: `see` :: Truth: `organization`\n"
            ]
          },
          "metadata": {},
          "output_type": "display_data"
        },
        {
          "data": {
            "text/html": [
              "<pre style=\"white-space:pre;overflow-x:auto;line-height:normal;font-family:Menlo,'DejaVu Sans Mono',consolas,'Courier New',monospace\">\n",
              "</pre>\n"
            ],
            "text/plain": [
              "\n"
            ]
          },
          "metadata": {},
          "output_type": "display_data"
        },
        {
          "name": "stdout",
          "output_type": "stream",
          "text": [
            "EPOCH: 3.000  trn_char_acc: 0.333  trn_word_acc: 0.015  trn_loss: 2.383  val_loss: 1.702  val_char_acc: 0.509  val_word_acc: 0.065  (62.39s - 977.41s remaining)\n"
          ]
        },
        {
          "data": {
            "text/html": [
              "<pre style=\"white-space:pre;overflow-x:auto;line-height:normal;font-family:Menlo,'DejaVu Sans Mono',consolas,'Courier New',monospace\">\n",
              "</pre>\n"
            ],
            "text/plain": [
              "\n"
            ]
          },
          "metadata": {},
          "output_type": "display_data"
        },
        {
          "data": {
            "text/html": [
              "<pre style=\"white-space:pre;overflow-x:auto;line-height:normal;font-family:Menlo,'DejaVu Sans Mono',consolas,'Courier New',monospace\">Pred: `cdetail` :: Truth: `detail`\n",
              "</pre>\n"
            ],
            "text/plain": [
              "Pred: `cdetail` :: Truth: `detail`\n"
            ]
          },
          "metadata": {},
          "output_type": "display_data"
        },
        {
          "data": {
            "text/html": [
              "<pre style=\"white-space:pre;overflow-x:auto;line-height:normal;font-family:Menlo,'DejaVu Sans Mono',consolas,'Courier New',monospace\">Pred: `iteu` :: Truth: `star`\n",
              "</pre>\n"
            ],
            "text/plain": [
              "Pred: `iteu` :: Truth: `star`\n"
            ]
          },
          "metadata": {},
          "output_type": "display_data"
        },
        {
          "data": {
            "text/html": [
              "<pre style=\"white-space:pre;overflow-x:auto;line-height:normal;font-family:Menlo,'DejaVu Sans Mono',consolas,'Courier New',monospace\">Pred: `weio` :: Truth: `main`\n",
              "</pre>\n"
            ],
            "text/plain": [
              "Pred: `weio` :: Truth: `main`\n"
            ]
          },
          "metadata": {},
          "output_type": "display_data"
        },
        {
          "data": {
            "text/html": [
              "<pre style=\"white-space:pre;overflow-x:auto;line-height:normal;font-family:Menlo,'DejaVu Sans Mono',consolas,'Courier New',monospace\">Pred: `admit` :: Truth: `admit`\n",
              "</pre>\n"
            ],
            "text/plain": [
              "Pred: `admit` :: Truth: `admit`\n"
            ]
          },
          "metadata": {},
          "output_type": "display_data"
        },
        {
          "data": {
            "text/html": [
              "<pre style=\"white-space:pre;overflow-x:auto;line-height:normal;font-family:Menlo,'DejaVu Sans Mono',consolas,'Courier New',monospace\">Pred: `cor` :: Truth: `car`\n",
              "</pre>\n"
            ],
            "text/plain": [
              "Pred: `cor` :: Truth: `car`\n"
            ]
          },
          "metadata": {},
          "output_type": "display_data"
        },
        {
          "data": {
            "text/html": [
              "<pre style=\"white-space:pre;overflow-x:auto;line-height:normal;font-family:Menlo,'DejaVu Sans Mono',consolas,'Courier New',monospace\">\n",
              "</pre>\n"
            ],
            "text/plain": [
              "\n"
            ]
          },
          "metadata": {},
          "output_type": "display_data"
        },
        {
          "name": "stdout",
          "output_type": "stream",
          "text": [
            "EPOCH: 4.000  trn_char_acc: 0.645  trn_word_acc: 0.170  trn_loss: 1.449  val_loss: 1.022  val_char_acc: 0.710  val_word_acc: 0.257  (82.74s - 951.54s remaining)\n"
          ]
        },
        {
          "data": {
            "text/html": [
              "<pre style=\"white-space:pre;overflow-x:auto;line-height:normal;font-family:Menlo,'DejaVu Sans Mono',consolas,'Courier New',monospace\">\n",
              "</pre>\n"
            ],
            "text/plain": [
              "\n"
            ]
          },
          "metadata": {},
          "output_type": "display_data"
        },
        {
          "data": {
            "text/html": [
              "<pre style=\"white-space:pre;overflow-x:auto;line-height:normal;font-family:Menlo,'DejaVu Sans Mono',consolas,'Courier New',monospace\">Pred: `auite` :: Truth: `quite`\n",
              "</pre>\n"
            ],
            "text/plain": [
              "Pred: `auite` :: Truth: `quite`\n"
            ]
          },
          "metadata": {},
          "output_type": "display_data"
        },
        {
          "data": {
            "text/html": [
              "<pre style=\"white-space:pre;overflow-x:auto;line-height:normal;font-family:Menlo,'DejaVu Sans Mono',consolas,'Courier New',monospace\">Pred: `tire` :: Truth: `fire`\n",
              "</pre>\n"
            ],
            "text/plain": [
              "Pred: `tire` :: Truth: `fire`\n"
            ]
          },
          "metadata": {},
          "output_type": "display_data"
        },
        {
          "data": {
            "text/html": [
              "<pre style=\"white-space:pre;overflow-x:auto;line-height:normal;font-family:Menlo,'DejaVu Sans Mono',consolas,'Courier New',monospace\">Pred: `shppse` :: Truth: `choose`\n",
              "</pre>\n"
            ],
            "text/plain": [
              "Pred: `shppse` :: Truth: `choose`\n"
            ]
          },
          "metadata": {},
          "output_type": "display_data"
        },
        {
          "data": {
            "text/html": [
              "<pre style=\"white-space:pre;overflow-x:auto;line-height:normal;font-family:Menlo,'DejaVu Sans Mono',consolas,'Courier New',monospace\">Pred: `alono` :: Truth: `along`\n",
              "</pre>\n"
            ],
            "text/plain": [
              "Pred: `alono` :: Truth: `along`\n"
            ]
          },
          "metadata": {},
          "output_type": "display_data"
        },
        {
          "data": {
            "text/html": [
              "<pre style=\"white-space:pre;overflow-x:auto;line-height:normal;font-family:Menlo,'DejaVu Sans Mono',consolas,'Courier New',monospace\">Pred: `intcpcct` :: Truth: `interest`\n",
              "</pre>\n"
            ],
            "text/plain": [
              "Pred: `intcpcct` :: Truth: `interest`\n"
            ]
          },
          "metadata": {},
          "output_type": "display_data"
        },
        {
          "data": {
            "text/html": [
              "<pre style=\"white-space:pre;overflow-x:auto;line-height:normal;font-family:Menlo,'DejaVu Sans Mono',consolas,'Courier New',monospace\">\n",
              "</pre>\n"
            ],
            "text/plain": [
              "\n"
            ]
          },
          "metadata": {},
          "output_type": "display_data"
        },
        {
          "name": "stdout",
          "output_type": "stream",
          "text": [
            "EPOCH: 5.000  trn_char_acc: 0.771  trn_word_acc: 0.353  trn_loss: 1.020  val_loss: 0.749  val_char_acc: 0.791  val_word_acc: 0.398  (102.80s - 925.21s remaining)\n"
          ]
        },
        {
          "data": {
            "text/html": [
              "<pre style=\"white-space:pre;overflow-x:auto;line-height:normal;font-family:Menlo,'DejaVu Sans Mono',consolas,'Courier New',monospace\">\n",
              "</pre>\n"
            ],
            "text/plain": [
              "\n"
            ]
          },
          "metadata": {},
          "output_type": "display_data"
        },
        {
          "data": {
            "text/html": [
              "<pre style=\"white-space:pre;overflow-x:auto;line-height:normal;font-family:Menlo,'DejaVu Sans Mono',consolas,'Courier New',monospace\">Pred: `him` :: Truth: `him`\n",
              "</pre>\n"
            ],
            "text/plain": [
              "Pred: `him` :: Truth: `him`\n"
            ]
          },
          "metadata": {},
          "output_type": "display_data"
        },
        {
          "data": {
            "text/html": [
              "<pre style=\"white-space:pre;overflow-x:auto;line-height:normal;font-family:Menlo,'DejaVu Sans Mono',consolas,'Courier New',monospace\">Pred: `reaigon` :: Truth: `region`\n",
              "</pre>\n"
            ],
            "text/plain": [
              "Pred: `reaigon` :: Truth: `region`\n"
            ]
          },
          "metadata": {},
          "output_type": "display_data"
        },
        {
          "data": {
            "text/html": [
              "<pre style=\"white-space:pre;overflow-x:auto;line-height:normal;font-family:Menlo,'DejaVu Sans Mono',consolas,'Courier New',monospace\">Pred: `soal` :: Truth: `goal`\n",
              "</pre>\n"
            ],
            "text/plain": [
              "Pred: `soal` :: Truth: `goal`\n"
            ]
          },
          "metadata": {},
          "output_type": "display_data"
        },
        {
          "data": {
            "text/html": [
              "<pre style=\"white-space:pre;overflow-x:auto;line-height:normal;font-family:Menlo,'DejaVu Sans Mono',consolas,'Courier New',monospace\">Pred: `stoant` :: Truth: `start`\n",
              "</pre>\n"
            ],
            "text/plain": [
              "Pred: `stoant` :: Truth: `start`\n"
            ]
          },
          "metadata": {},
          "output_type": "display_data"
        },
        {
          "data": {
            "text/html": [
              "<pre style=\"white-space:pre;overflow-x:auto;line-height:normal;font-family:Menlo,'DejaVu Sans Mono',consolas,'Courier New',monospace\">Pred: `short` :: Truth: `short`\n",
              "</pre>\n"
            ],
            "text/plain": [
              "Pred: `short` :: Truth: `short`\n"
            ]
          },
          "metadata": {},
          "output_type": "display_data"
        },
        {
          "data": {
            "text/html": [
              "<pre style=\"white-space:pre;overflow-x:auto;line-height:normal;font-family:Menlo,'DejaVu Sans Mono',consolas,'Courier New',monospace\">\n",
              "</pre>\n"
            ],
            "text/plain": [
              "\n"
            ]
          },
          "metadata": {},
          "output_type": "display_data"
        },
        {
          "name": "stdout",
          "output_type": "stream",
          "text": [
            "EPOCH: 6.000  trn_char_acc: 0.841  trn_word_acc: 0.496  trn_loss: 0.777  val_loss: 0.604  val_char_acc: 0.830  val_word_acc: 0.500  (122.73s - 900.03s remaining)\n"
          ]
        },
        {
          "data": {
            "text/html": [
              "<pre style=\"white-space:pre;overflow-x:auto;line-height:normal;font-family:Menlo,'DejaVu Sans Mono',consolas,'Courier New',monospace\">\n",
              "</pre>\n"
            ],
            "text/plain": [
              "\n"
            ]
          },
          "metadata": {},
          "output_type": "display_data"
        },
        {
          "data": {
            "text/html": [
              "<pre style=\"white-space:pre;overflow-x:auto;line-height:normal;font-family:Menlo,'DejaVu Sans Mono',consolas,'Courier New',monospace\">Pred: `sitirtion` :: Truth: `situation`\n",
              "</pre>\n"
            ],
            "text/plain": [
              "Pred: `sitirtion` :: Truth: `situation`\n"
            ]
          },
          "metadata": {},
          "output_type": "display_data"
        },
        {
          "data": {
            "text/html": [
              "<pre style=\"white-space:pre;overflow-x:auto;line-height:normal;font-family:Menlo,'DejaVu Sans Mono',consolas,'Courier New',monospace\">Pred: `catch` :: Truth: `catch`\n",
              "</pre>\n"
            ],
            "text/plain": [
              "Pred: `catch` :: Truth: `catch`\n"
            ]
          },
          "metadata": {},
          "output_type": "display_data"
        },
        {
          "data": {
            "text/html": [
              "<pre style=\"white-space:pre;overflow-x:auto;line-height:normal;font-family:Menlo,'DejaVu Sans Mono',consolas,'Courier New',monospace\">Pred: `heawy` :: Truth: `heavy`\n",
              "</pre>\n"
            ],
            "text/plain": [
              "Pred: `heawy` :: Truth: `heavy`\n"
            ]
          },
          "metadata": {},
          "output_type": "display_data"
        },
        {
          "data": {
            "text/html": [
              "<pre style=\"white-space:pre;overflow-x:auto;line-height:normal;font-family:Menlo,'DejaVu Sans Mono',consolas,'Courier New',monospace\">Pred: `property` :: Truth: `property`\n",
              "</pre>\n"
            ],
            "text/plain": [
              "Pred: `property` :: Truth: `property`\n"
            ]
          },
          "metadata": {},
          "output_type": "display_data"
        },
        {
          "data": {
            "text/html": [
              "<pre style=\"white-space:pre;overflow-x:auto;line-height:normal;font-family:Menlo,'DejaVu Sans Mono',consolas,'Courier New',monospace\">Pred: `wery` :: Truth: `very`\n",
              "</pre>\n"
            ],
            "text/plain": [
              "Pred: `wery` :: Truth: `very`\n"
            ]
          },
          "metadata": {},
          "output_type": "display_data"
        },
        {
          "data": {
            "text/html": [
              "<pre style=\"white-space:pre;overflow-x:auto;line-height:normal;font-family:Menlo,'DejaVu Sans Mono',consolas,'Courier New',monospace\">\n",
              "</pre>\n"
            ],
            "text/plain": [
              "\n"
            ]
          },
          "metadata": {},
          "output_type": "display_data"
        },
        {
          "name": "stdout",
          "output_type": "stream",
          "text": [
            "EPOCH: 7.000  trn_char_acc: 0.886  trn_word_acc: 0.616  trn_loss: 0.616  val_loss: 0.474  val_char_acc: 0.873  val_word_acc: 0.585  (142.67s - 876.41s remaining)\n"
          ]
        },
        {
          "data": {
            "text/html": [
              "<pre style=\"white-space:pre;overflow-x:auto;line-height:normal;font-family:Menlo,'DejaVu Sans Mono',consolas,'Courier New',monospace\">\n",
              "</pre>\n"
            ],
            "text/plain": [
              "\n"
            ]
          },
          "metadata": {},
          "output_type": "display_data"
        },
        {
          "data": {
            "text/html": [
              "<pre style=\"white-space:pre;overflow-x:auto;line-height:normal;font-family:Menlo,'DejaVu Sans Mono',consolas,'Courier New',monospace\">Pred: `road` :: Truth: `road`\n",
              "</pre>\n"
            ],
            "text/plain": [
              "Pred: `road` :: Truth: `road`\n"
            ]
          },
          "metadata": {},
          "output_type": "display_data"
        },
        {
          "data": {
            "text/html": [
              "<pre style=\"white-space:pre;overflow-x:auto;line-height:normal;font-family:Menlo,'DejaVu Sans Mono',consolas,'Courier New',monospace\">Pred: `push` :: Truth: `push`\n",
              "</pre>\n"
            ],
            "text/plain": [
              "Pred: `push` :: Truth: `push`\n"
            ]
          },
          "metadata": {},
          "output_type": "display_data"
        },
        {
          "data": {
            "text/html": [
              "<pre style=\"white-space:pre;overflow-x:auto;line-height:normal;font-family:Menlo,'DejaVu Sans Mono',consolas,'Courier New',monospace\">Pred: `sice` :: Truth: `since`\n",
              "</pre>\n"
            ],
            "text/plain": [
              "Pred: `sice` :: Truth: `since`\n"
            ]
          },
          "metadata": {},
          "output_type": "display_data"
        },
        {
          "data": {
            "text/html": [
              "<pre style=\"white-space:pre;overflow-x:auto;line-height:normal;font-family:Menlo,'DejaVu Sans Mono',consolas,'Courier New',monospace\">Pred: `evidence` :: Truth: `evidence`\n",
              "</pre>\n"
            ],
            "text/plain": [
              "Pred: `evidence` :: Truth: `evidence`\n"
            ]
          },
          "metadata": {},
          "output_type": "display_data"
        },
        {
          "data": {
            "text/html": [
              "<pre style=\"white-space:pre;overflow-x:auto;line-height:normal;font-family:Menlo,'DejaVu Sans Mono',consolas,'Courier New',monospace\">Pred: `auter` :: Truth: `after`\n",
              "</pre>\n"
            ],
            "text/plain": [
              "Pred: `auter` :: Truth: `after`\n"
            ]
          },
          "metadata": {},
          "output_type": "display_data"
        },
        {
          "data": {
            "text/html": [
              "<pre style=\"white-space:pre;overflow-x:auto;line-height:normal;font-family:Menlo,'DejaVu Sans Mono',consolas,'Courier New',monospace\">\n",
              "</pre>\n"
            ],
            "text/plain": [
              "\n"
            ]
          },
          "metadata": {},
          "output_type": "display_data"
        },
        {
          "name": "stdout",
          "output_type": "stream",
          "text": [
            "EPOCH: 8.000  trn_char_acc: 0.912  trn_word_acc: 0.687  trn_loss: 0.504  val_loss: 0.405  val_char_acc: 0.888  val_word_acc: 0.638  (162.88s - 855.13s remaining)\n"
          ]
        },
        {
          "data": {
            "text/html": [
              "<pre style=\"white-space:pre;overflow-x:auto;line-height:normal;font-family:Menlo,'DejaVu Sans Mono',consolas,'Courier New',monospace\">\n",
              "</pre>\n"
            ],
            "text/plain": [
              "\n"
            ]
          },
          "metadata": {},
          "output_type": "display_data"
        },
        {
          "data": {
            "text/html": [
              "<pre style=\"white-space:pre;overflow-x:auto;line-height:normal;font-family:Menlo,'DejaVu Sans Mono',consolas,'Courier New',monospace\">Pred: `away` :: Truth: `away`\n",
              "</pre>\n"
            ],
            "text/plain": [
              "Pred: `away` :: Truth: `away`\n"
            ]
          },
          "metadata": {},
          "output_type": "display_data"
        },
        {
          "data": {
            "text/html": [
              "<pre style=\"white-space:pre;overflow-x:auto;line-height:normal;font-family:Menlo,'DejaVu Sans Mono',consolas,'Courier New',monospace\">Pred: `whatever` :: Truth: `whatever`\n",
              "</pre>\n"
            ],
            "text/plain": [
              "Pred: `whatever` :: Truth: `whatever`\n"
            ]
          },
          "metadata": {},
          "output_type": "display_data"
        },
        {
          "data": {
            "text/html": [
              "<pre style=\"white-space:pre;overflow-x:auto;line-height:normal;font-family:Menlo,'DejaVu Sans Mono',consolas,'Courier New',monospace\">Pred: `magagine` :: Truth: `magazine`\n",
              "</pre>\n"
            ],
            "text/plain": [
              "Pred: `magagine` :: Truth: `magazine`\n"
            ]
          },
          "metadata": {},
          "output_type": "display_data"
        },
        {
          "data": {
            "text/html": [
              "<pre style=\"white-space:pre;overflow-x:auto;line-height:normal;font-family:Menlo,'DejaVu Sans Mono',consolas,'Courier New',monospace\">Pred: `after` :: Truth: `after`\n",
              "</pre>\n"
            ],
            "text/plain": [
              "Pred: `after` :: Truth: `after`\n"
            ]
          },
          "metadata": {},
          "output_type": "display_data"
        },
        {
          "data": {
            "text/html": [
              "<pre style=\"white-space:pre;overflow-x:auto;line-height:normal;font-family:Menlo,'DejaVu Sans Mono',consolas,'Courier New',monospace\">Pred: `form` :: Truth: `form`\n",
              "</pre>\n"
            ],
            "text/plain": [
              "Pred: `form` :: Truth: `form`\n"
            ]
          },
          "metadata": {},
          "output_type": "display_data"
        },
        {
          "data": {
            "text/html": [
              "<pre style=\"white-space:pre;overflow-x:auto;line-height:normal;font-family:Menlo,'DejaVu Sans Mono',consolas,'Courier New',monospace\">\n",
              "</pre>\n"
            ],
            "text/plain": [
              "\n"
            ]
          },
          "metadata": {},
          "output_type": "display_data"
        },
        {
          "name": "stdout",
          "output_type": "stream",
          "text": [
            "EPOCH: 9.000  trn_char_acc: 0.931  trn_word_acc: 0.745  trn_loss: 0.419  val_loss: 0.334  val_char_acc: 0.907  val_word_acc: 0.686  (183.01s - 833.70s remaining)\n"
          ]
        },
        {
          "data": {
            "text/html": [
              "<pre style=\"white-space:pre;overflow-x:auto;line-height:normal;font-family:Menlo,'DejaVu Sans Mono',consolas,'Courier New',monospace\">\n",
              "</pre>\n"
            ],
            "text/plain": [
              "\n"
            ]
          },
          "metadata": {},
          "output_type": "display_data"
        },
        {
          "data": {
            "text/html": [
              "<pre style=\"white-space:pre;overflow-x:auto;line-height:normal;font-family:Menlo,'DejaVu Sans Mono',consolas,'Courier New',monospace\">Pred: `top` :: Truth: `top`\n",
              "</pre>\n"
            ],
            "text/plain": [
              "Pred: `top` :: Truth: `top`\n"
            ]
          },
          "metadata": {},
          "output_type": "display_data"
        },
        {
          "data": {
            "text/html": [
              "<pre style=\"white-space:pre;overflow-x:auto;line-height:normal;font-family:Menlo,'DejaVu Sans Mono',consolas,'Courier New',monospace\">Pred: `hospital` :: Truth: `hospital`\n",
              "</pre>\n"
            ],
            "text/plain": [
              "Pred: `hospital` :: Truth: `hospital`\n"
            ]
          },
          "metadata": {},
          "output_type": "display_data"
        },
        {
          "data": {
            "text/html": [
              "<pre style=\"white-space:pre;overflow-x:auto;line-height:normal;font-family:Menlo,'DejaVu Sans Mono',consolas,'Courier New',monospace\">Pred: `support` :: Truth: `support`\n",
              "</pre>\n"
            ],
            "text/plain": [
              "Pred: `support` :: Truth: `support`\n"
            ]
          },
          "metadata": {},
          "output_type": "display_data"
        },
        {
          "data": {
            "text/html": [
              "<pre style=\"white-space:pre;overflow-x:auto;line-height:normal;font-family:Menlo,'DejaVu Sans Mono',consolas,'Courier New',monospace\">Pred: `intenational` :: Truth: `international`\n",
              "</pre>\n"
            ],
            "text/plain": [
              "Pred: `intenational` :: Truth: `international`\n"
            ]
          },
          "metadata": {},
          "output_type": "display_data"
        },
        {
          "data": {
            "text/html": [
              "<pre style=\"white-space:pre;overflow-x:auto;line-height:normal;font-family:Menlo,'DejaVu Sans Mono',consolas,'Courier New',monospace\">Pred: `traditional` :: Truth: `traditional`\n",
              "</pre>\n"
            ],
            "text/plain": [
              "Pred: `traditional` :: Truth: `traditional`\n"
            ]
          },
          "metadata": {},
          "output_type": "display_data"
        },
        {
          "data": {
            "text/html": [
              "<pre style=\"white-space:pre;overflow-x:auto;line-height:normal;font-family:Menlo,'DejaVu Sans Mono',consolas,'Courier New',monospace\">\n",
              "</pre>\n"
            ],
            "text/plain": [
              "\n"
            ]
          },
          "metadata": {},
          "output_type": "display_data"
        },
        {
          "name": "stdout",
          "output_type": "stream",
          "text": [
            "EPOCH: 10.000  trn_char_acc: 0.945  trn_word_acc: 0.790  trn_loss: 0.360  val_loss: 0.313  val_char_acc: 0.914  val_word_acc: 0.703  (203.06s - 812.25s remaining)\n"
          ]
        },
        {
          "data": {
            "text/html": [
              "<pre style=\"white-space:pre;overflow-x:auto;line-height:normal;font-family:Menlo,'DejaVu Sans Mono',consolas,'Courier New',monospace\">\n",
              "</pre>\n"
            ],
            "text/plain": [
              "\n"
            ]
          },
          "metadata": {},
          "output_type": "display_data"
        },
        {
          "data": {
            "text/html": [
              "<pre style=\"white-space:pre;overflow-x:auto;line-height:normal;font-family:Menlo,'DejaVu Sans Mono',consolas,'Courier New',monospace\">Pred: `speckh` :: Truth: `speech`\n",
              "</pre>\n"
            ],
            "text/plain": [
              "Pred: `speckh` :: Truth: `speech`\n"
            ]
          },
          "metadata": {},
          "output_type": "display_data"
        },
        {
          "data": {
            "text/html": [
              "<pre style=\"white-space:pre;overflow-x:auto;line-height:normal;font-family:Menlo,'DejaVu Sans Mono',consolas,'Courier New',monospace\">Pred: `bit` :: Truth: `bit`\n",
              "</pre>\n"
            ],
            "text/plain": [
              "Pred: `bit` :: Truth: `bit`\n"
            ]
          },
          "metadata": {},
          "output_type": "display_data"
        },
        {
          "data": {
            "text/html": [
              "<pre style=\"white-space:pre;overflow-x:auto;line-height:normal;font-family:Menlo,'DejaVu Sans Mono',consolas,'Courier New',monospace\">Pred: `seek` :: Truth: `seek`\n",
              "</pre>\n"
            ],
            "text/plain": [
              "Pred: `seek` :: Truth: `seek`\n"
            ]
          },
          "metadata": {},
          "output_type": "display_data"
        },
        {
          "data": {
            "text/html": [
              "<pre style=\"white-space:pre;overflow-x:auto;line-height:normal;font-family:Menlo,'DejaVu Sans Mono',consolas,'Courier New',monospace\">Pred: `apply` :: Truth: `apply`\n",
              "</pre>\n"
            ],
            "text/plain": [
              "Pred: `apply` :: Truth: `apply`\n"
            ]
          },
          "metadata": {},
          "output_type": "display_data"
        },
        {
          "data": {
            "text/html": [
              "<pre style=\"white-space:pre;overflow-x:auto;line-height:normal;font-family:Menlo,'DejaVu Sans Mono',consolas,'Courier New',monospace\">Pred: `leader` :: Truth: `leader`\n",
              "</pre>\n"
            ],
            "text/plain": [
              "Pred: `leader` :: Truth: `leader`\n"
            ]
          },
          "metadata": {},
          "output_type": "display_data"
        },
        {
          "data": {
            "text/html": [
              "<pre style=\"white-space:pre;overflow-x:auto;line-height:normal;font-family:Menlo,'DejaVu Sans Mono',consolas,'Courier New',monospace\">\n",
              "</pre>\n"
            ],
            "text/plain": [
              "\n"
            ]
          },
          "metadata": {},
          "output_type": "display_data"
        },
        {
          "name": "stdout",
          "output_type": "stream",
          "text": [
            "EPOCH: 11.000  trn_char_acc: 0.955  trn_word_acc: 0.823  trn_loss: 0.313  val_loss: 0.289  val_char_acc: 0.921  val_word_acc: 0.724  (223.30s - 791.70s remaining)\n"
          ]
        },
        {
          "data": {
            "text/html": [
              "<pre style=\"white-space:pre;overflow-x:auto;line-height:normal;font-family:Menlo,'DejaVu Sans Mono',consolas,'Courier New',monospace\">\n",
              "</pre>\n"
            ],
            "text/plain": [
              "\n"
            ]
          },
          "metadata": {},
          "output_type": "display_data"
        },
        {
          "data": {
            "text/html": [
              "<pre style=\"white-space:pre;overflow-x:auto;line-height:normal;font-family:Menlo,'DejaVu Sans Mono',consolas,'Courier New',monospace\">Pred: `a` :: Truth: `a`\n",
              "</pre>\n"
            ],
            "text/plain": [
              "Pred: `a` :: Truth: `a`\n"
            ]
          },
          "metadata": {},
          "output_type": "display_data"
        },
        {
          "data": {
            "text/html": [
              "<pre style=\"white-space:pre;overflow-x:auto;line-height:normal;font-family:Menlo,'DejaVu Sans Mono',consolas,'Courier New',monospace\">Pred: `stle` :: Truth: `style`\n",
              "</pre>\n"
            ],
            "text/plain": [
              "Pred: `stle` :: Truth: `style`\n"
            ]
          },
          "metadata": {},
          "output_type": "display_data"
        },
        {
          "data": {
            "text/html": [
              "<pre style=\"white-space:pre;overflow-x:auto;line-height:normal;font-family:Menlo,'DejaVu Sans Mono',consolas,'Courier New',monospace\">Pred: `everyoooy` :: Truth: `everybody`\n",
              "</pre>\n"
            ],
            "text/plain": [
              "Pred: `everyoooy` :: Truth: `everybody`\n"
            ]
          },
          "metadata": {},
          "output_type": "display_data"
        },
        {
          "data": {
            "text/html": [
              "<pre style=\"white-space:pre;overflow-x:auto;line-height:normal;font-family:Menlo,'DejaVu Sans Mono',consolas,'Courier New',monospace\">Pred: `aded` :: Truth: `add`\n",
              "</pre>\n"
            ],
            "text/plain": [
              "Pred: `aded` :: Truth: `add`\n"
            ]
          },
          "metadata": {},
          "output_type": "display_data"
        },
        {
          "data": {
            "text/html": [
              "<pre style=\"white-space:pre;overflow-x:auto;line-height:normal;font-family:Menlo,'DejaVu Sans Mono',consolas,'Courier New',monospace\">Pred: `factor` :: Truth: `factor`\n",
              "</pre>\n"
            ],
            "text/plain": [
              "Pred: `factor` :: Truth: `factor`\n"
            ]
          },
          "metadata": {},
          "output_type": "display_data"
        },
        {
          "data": {
            "text/html": [
              "<pre style=\"white-space:pre;overflow-x:auto;line-height:normal;font-family:Menlo,'DejaVu Sans Mono',consolas,'Courier New',monospace\">\n",
              "</pre>\n"
            ],
            "text/plain": [
              "\n"
            ]
          },
          "metadata": {},
          "output_type": "display_data"
        },
        {
          "name": "stdout",
          "output_type": "stream",
          "text": [
            "EPOCH: 12.000  trn_char_acc: 0.962  trn_word_acc: 0.845  trn_loss: 0.284  val_loss: 0.260  val_char_acc: 0.927  val_word_acc: 0.752  (243.51s - 771.12s remaining)\n"
          ]
        },
        {
          "data": {
            "text/html": [
              "<pre style=\"white-space:pre;overflow-x:auto;line-height:normal;font-family:Menlo,'DejaVu Sans Mono',consolas,'Courier New',monospace\">\n",
              "</pre>\n"
            ],
            "text/plain": [
              "\n"
            ]
          },
          "metadata": {},
          "output_type": "display_data"
        },
        {
          "data": {
            "text/html": [
              "<pre style=\"white-space:pre;overflow-x:auto;line-height:normal;font-family:Menlo,'DejaVu Sans Mono',consolas,'Courier New',monospace\">Pred: `various` :: Truth: `various`\n",
              "</pre>\n"
            ],
            "text/plain": [
              "Pred: `various` :: Truth: `various`\n"
            ]
          },
          "metadata": {},
          "output_type": "display_data"
        },
        {
          "data": {
            "text/html": [
              "<pre style=\"white-space:pre;overflow-x:auto;line-height:normal;font-family:Menlo,'DejaVu Sans Mono',consolas,'Courier New',monospace\">Pred: `community` :: Truth: `community`\n",
              "</pre>\n"
            ],
            "text/plain": [
              "Pred: `community` :: Truth: `community`\n"
            ]
          },
          "metadata": {},
          "output_type": "display_data"
        },
        {
          "data": {
            "text/html": [
              "<pre style=\"white-space:pre;overflow-x:auto;line-height:normal;font-family:Menlo,'DejaVu Sans Mono',consolas,'Courier New',monospace\">Pred: `reach` :: Truth: `reach`\n",
              "</pre>\n"
            ],
            "text/plain": [
              "Pred: `reach` :: Truth: `reach`\n"
            ]
          },
          "metadata": {},
          "output_type": "display_data"
        },
        {
          "data": {
            "text/html": [
              "<pre style=\"white-space:pre;overflow-x:auto;line-height:normal;font-family:Menlo,'DejaVu Sans Mono',consolas,'Courier New',monospace\">Pred: `result` :: Truth: `result`\n",
              "</pre>\n"
            ],
            "text/plain": [
              "Pred: `result` :: Truth: `result`\n"
            ]
          },
          "metadata": {},
          "output_type": "display_data"
        },
        {
          "data": {
            "text/html": [
              "<pre style=\"white-space:pre;overflow-x:auto;line-height:normal;font-family:Menlo,'DejaVu Sans Mono',consolas,'Courier New',monospace\">Pred: `learn` :: Truth: `learn`\n",
              "</pre>\n"
            ],
            "text/plain": [
              "Pred: `learn` :: Truth: `learn`\n"
            ]
          },
          "metadata": {},
          "output_type": "display_data"
        },
        {
          "data": {
            "text/html": [
              "<pre style=\"white-space:pre;overflow-x:auto;line-height:normal;font-family:Menlo,'DejaVu Sans Mono',consolas,'Courier New',monospace\">\n",
              "</pre>\n"
            ],
            "text/plain": [
              "\n"
            ]
          },
          "metadata": {},
          "output_type": "display_data"
        },
        {
          "name": "stdout",
          "output_type": "stream",
          "text": [
            "EPOCH: 13.000  trn_char_acc: 0.969  trn_word_acc: 0.871  trn_loss: 0.247  val_loss: 0.242  val_char_acc: 0.933  val_word_acc: 0.763  (263.55s - 750.09s remaining)\n"
          ]
        },
        {
          "data": {
            "text/html": [
              "<pre style=\"white-space:pre;overflow-x:auto;line-height:normal;font-family:Menlo,'DejaVu Sans Mono',consolas,'Courier New',monospace\">\n",
              "</pre>\n"
            ],
            "text/plain": [
              "\n"
            ]
          },
          "metadata": {},
          "output_type": "display_data"
        },
        {
          "data": {
            "text/html": [
              "<pre style=\"white-space:pre;overflow-x:auto;line-height:normal;font-family:Menlo,'DejaVu Sans Mono',consolas,'Courier New',monospace\">Pred: `every` :: Truth: `every`\n",
              "</pre>\n"
            ],
            "text/plain": [
              "Pred: `every` :: Truth: `every`\n"
            ]
          },
          "metadata": {},
          "output_type": "display_data"
        },
        {
          "data": {
            "text/html": [
              "<pre style=\"white-space:pre;overflow-x:auto;line-height:normal;font-family:Menlo,'DejaVu Sans Mono',consolas,'Courier New',monospace\">Pred: `black` :: Truth: `black`\n",
              "</pre>\n"
            ],
            "text/plain": [
              "Pred: `black` :: Truth: `black`\n"
            ]
          },
          "metadata": {},
          "output_type": "display_data"
        },
        {
          "data": {
            "text/html": [
              "<pre style=\"white-space:pre;overflow-x:auto;line-height:normal;font-family:Menlo,'DejaVu Sans Mono',consolas,'Courier New',monospace\">Pred: `renert` :: Truth: `report`\n",
              "</pre>\n"
            ],
            "text/plain": [
              "Pred: `renert` :: Truth: `report`\n"
            ]
          },
          "metadata": {},
          "output_type": "display_data"
        },
        {
          "data": {
            "text/html": [
              "<pre style=\"white-space:pre;overflow-x:auto;line-height:normal;font-family:Menlo,'DejaVu Sans Mono',consolas,'Courier New',monospace\">Pred: `all` :: Truth: `all`\n",
              "</pre>\n"
            ],
            "text/plain": [
              "Pred: `all` :: Truth: `all`\n"
            ]
          },
          "metadata": {},
          "output_type": "display_data"
        },
        {
          "data": {
            "text/html": [
              "<pre style=\"white-space:pre;overflow-x:auto;line-height:normal;font-family:Menlo,'DejaVu Sans Mono',consolas,'Courier New',monospace\">Pred: `wish` :: Truth: `wish`\n",
              "</pre>\n"
            ],
            "text/plain": [
              "Pred: `wish` :: Truth: `wish`\n"
            ]
          },
          "metadata": {},
          "output_type": "display_data"
        },
        {
          "data": {
            "text/html": [
              "<pre style=\"white-space:pre;overflow-x:auto;line-height:normal;font-family:Menlo,'DejaVu Sans Mono',consolas,'Courier New',monospace\">\n",
              "</pre>\n"
            ],
            "text/plain": [
              "\n"
            ]
          },
          "metadata": {},
          "output_type": "display_data"
        },
        {
          "name": "stdout",
          "output_type": "stream",
          "text": [
            "EPOCH: 14.000  trn_char_acc: 0.973  trn_word_acc: 0.885  trn_loss: 0.223  val_loss: 0.244  val_char_acc: 0.935  val_word_acc: 0.771  (283.50s - 729.01s remaining)\n"
          ]
        },
        {
          "data": {
            "text/html": [
              "<pre style=\"white-space:pre;overflow-x:auto;line-height:normal;font-family:Menlo,'DejaVu Sans Mono',consolas,'Courier New',monospace\">\n",
              "</pre>\n"
            ],
            "text/plain": [
              "\n"
            ]
          },
          "metadata": {},
          "output_type": "display_data"
        },
        {
          "data": {
            "text/html": [
              "<pre style=\"white-space:pre;overflow-x:auto;line-height:normal;font-family:Menlo,'DejaVu Sans Mono',consolas,'Courier New',monospace\">Pred: `I` :: Truth: `I`\n",
              "</pre>\n"
            ],
            "text/plain": [
              "Pred: `I` :: Truth: `I`\n"
            ]
          },
          "metadata": {},
          "output_type": "display_data"
        },
        {
          "data": {
            "text/html": [
              "<pre style=\"white-space:pre;overflow-x:auto;line-height:normal;font-family:Menlo,'DejaVu Sans Mono',consolas,'Courier New',monospace\">Pred: `go` :: Truth: `go`\n",
              "</pre>\n"
            ],
            "text/plain": [
              "Pred: `go` :: Truth: `go`\n"
            ]
          },
          "metadata": {},
          "output_type": "display_data"
        },
        {
          "data": {
            "text/html": [
              "<pre style=\"white-space:pre;overflow-x:auto;line-height:normal;font-family:Menlo,'DejaVu Sans Mono',consolas,'Courier New',monospace\">Pred: `outside` :: Truth: `outside`\n",
              "</pre>\n"
            ],
            "text/plain": [
              "Pred: `outside` :: Truth: `outside`\n"
            ]
          },
          "metadata": {},
          "output_type": "display_data"
        },
        {
          "data": {
            "text/html": [
              "<pre style=\"white-space:pre;overflow-x:auto;line-height:normal;font-family:Menlo,'DejaVu Sans Mono',consolas,'Courier New',monospace\">Pred: `up` :: Truth: `up`\n",
              "</pre>\n"
            ],
            "text/plain": [
              "Pred: `up` :: Truth: `up`\n"
            ]
          },
          "metadata": {},
          "output_type": "display_data"
        },
        {
          "data": {
            "text/html": [
              "<pre style=\"white-space:pre;overflow-x:auto;line-height:normal;font-family:Menlo,'DejaVu Sans Mono',consolas,'Courier New',monospace\">Pred: `computer` :: Truth: `computer`\n",
              "</pre>\n"
            ],
            "text/plain": [
              "Pred: `computer` :: Truth: `computer`\n"
            ]
          },
          "metadata": {},
          "output_type": "display_data"
        },
        {
          "data": {
            "text/html": [
              "<pre style=\"white-space:pre;overflow-x:auto;line-height:normal;font-family:Menlo,'DejaVu Sans Mono',consolas,'Courier New',monospace\">\n",
              "</pre>\n"
            ],
            "text/plain": [
              "\n"
            ]
          },
          "metadata": {},
          "output_type": "display_data"
        },
        {
          "name": "stdout",
          "output_type": "stream",
          "text": [
            "EPOCH: 15.000  trn_char_acc: 0.978  trn_word_acc: 0.905  trn_loss: 0.201  val_loss: 0.223  val_char_acc: 0.938  val_word_acc: 0.783  (303.60s - 708.40s remaining)\n"
          ]
        },
        {
          "data": {
            "text/html": [
              "<pre style=\"white-space:pre;overflow-x:auto;line-height:normal;font-family:Menlo,'DejaVu Sans Mono',consolas,'Courier New',monospace\">\n",
              "</pre>\n"
            ],
            "text/plain": [
              "\n"
            ]
          },
          "metadata": {},
          "output_type": "display_data"
        },
        {
          "data": {
            "text/html": [
              "<pre style=\"white-space:pre;overflow-x:auto;line-height:normal;font-family:Menlo,'DejaVu Sans Mono',consolas,'Courier New',monospace\">Pred: `at` :: Truth: `at`\n",
              "</pre>\n"
            ],
            "text/plain": [
              "Pred: `at` :: Truth: `at`\n"
            ]
          },
          "metadata": {},
          "output_type": "display_data"
        },
        {
          "data": {
            "text/html": [
              "<pre style=\"white-space:pre;overflow-x:auto;line-height:normal;font-family:Menlo,'DejaVu Sans Mono',consolas,'Courier New',monospace\">Pred: `today` :: Truth: `today`\n",
              "</pre>\n"
            ],
            "text/plain": [
              "Pred: `today` :: Truth: `today`\n"
            ]
          },
          "metadata": {},
          "output_type": "display_data"
        },
        {
          "data": {
            "text/html": [
              "<pre style=\"white-space:pre;overflow-x:auto;line-height:normal;font-family:Menlo,'DejaVu Sans Mono',consolas,'Courier New',monospace\">Pred: `could` :: Truth: `could`\n",
              "</pre>\n"
            ],
            "text/plain": [
              "Pred: `could` :: Truth: `could`\n"
            ]
          },
          "metadata": {},
          "output_type": "display_data"
        },
        {
          "data": {
            "text/html": [
              "<pre style=\"white-space:pre;overflow-x:auto;line-height:normal;font-family:Menlo,'DejaVu Sans Mono',consolas,'Courier New',monospace\">Pred: `role` :: Truth: `role`\n",
              "</pre>\n"
            ],
            "text/plain": [
              "Pred: `role` :: Truth: `role`\n"
            ]
          },
          "metadata": {},
          "output_type": "display_data"
        },
        {
          "data": {
            "text/html": [
              "<pre style=\"white-space:pre;overflow-x:auto;line-height:normal;font-family:Menlo,'DejaVu Sans Mono',consolas,'Courier New',monospace\">Pred: `station` :: Truth: `station`\n",
              "</pre>\n"
            ],
            "text/plain": [
              "Pred: `station` :: Truth: `station`\n"
            ]
          },
          "metadata": {},
          "output_type": "display_data"
        },
        {
          "data": {
            "text/html": [
              "<pre style=\"white-space:pre;overflow-x:auto;line-height:normal;font-family:Menlo,'DejaVu Sans Mono',consolas,'Courier New',monospace\">\n",
              "</pre>\n"
            ],
            "text/plain": [
              "\n"
            ]
          },
          "metadata": {},
          "output_type": "display_data"
        },
        {
          "name": "stdout",
          "output_type": "stream",
          "text": [
            "EPOCH: 16.000  trn_char_acc: 0.980  trn_word_acc: 0.912  trn_loss: 0.183  val_loss: 0.210  val_char_acc: 0.940  val_word_acc: 0.785  (323.72s - 687.91s remaining)\n"
          ]
        },
        {
          "data": {
            "text/html": [
              "<pre style=\"white-space:pre;overflow-x:auto;line-height:normal;font-family:Menlo,'DejaVu Sans Mono',consolas,'Courier New',monospace\">\n",
              "</pre>\n"
            ],
            "text/plain": [
              "\n"
            ]
          },
          "metadata": {},
          "output_type": "display_data"
        },
        {
          "data": {
            "text/html": [
              "<pre style=\"white-space:pre;overflow-x:auto;line-height:normal;font-family:Menlo,'DejaVu Sans Mono',consolas,'Courier New',monospace\">Pred: `court` :: Truth: `court`\n",
              "</pre>\n"
            ],
            "text/plain": [
              "Pred: `court` :: Truth: `court`\n"
            ]
          },
          "metadata": {},
          "output_type": "display_data"
        },
        {
          "data": {
            "text/html": [
              "<pre style=\"white-space:pre;overflow-x:auto;line-height:normal;font-family:Menlo,'DejaVu Sans Mono',consolas,'Courier New',monospace\">Pred: `but` :: Truth: `but`\n",
              "</pre>\n"
            ],
            "text/plain": [
              "Pred: `but` :: Truth: `but`\n"
            ]
          },
          "metadata": {},
          "output_type": "display_data"
        },
        {
          "data": {
            "text/html": [
              "<pre style=\"white-space:pre;overflow-x:auto;line-height:normal;font-family:Menlo,'DejaVu Sans Mono',consolas,'Courier New',monospace\">Pred: `secand` :: Truth: `second`\n",
              "</pre>\n"
            ],
            "text/plain": [
              "Pred: `secand` :: Truth: `second`\n"
            ]
          },
          "metadata": {},
          "output_type": "display_data"
        },
        {
          "data": {
            "text/html": [
              "<pre style=\"white-space:pre;overflow-x:auto;line-height:normal;font-family:Menlo,'DejaVu Sans Mono',consolas,'Courier New',monospace\">Pred: `doctor` :: Truth: `doctor`\n",
              "</pre>\n"
            ],
            "text/plain": [
              "Pred: `doctor` :: Truth: `doctor`\n"
            ]
          },
          "metadata": {},
          "output_type": "display_data"
        },
        {
          "data": {
            "text/html": [
              "<pre style=\"white-space:pre;overflow-x:auto;line-height:normal;font-family:Menlo,'DejaVu Sans Mono',consolas,'Courier New',monospace\">Pred: `rich` :: Truth: `rich`\n",
              "</pre>\n"
            ],
            "text/plain": [
              "Pred: `rich` :: Truth: `rich`\n"
            ]
          },
          "metadata": {},
          "output_type": "display_data"
        },
        {
          "data": {
            "text/html": [
              "<pre style=\"white-space:pre;overflow-x:auto;line-height:normal;font-family:Menlo,'DejaVu Sans Mono',consolas,'Courier New',monospace\">\n",
              "</pre>\n"
            ],
            "text/plain": [
              "\n"
            ]
          },
          "metadata": {},
          "output_type": "display_data"
        },
        {
          "name": "stdout",
          "output_type": "stream",
          "text": [
            "EPOCH: 17.000  trn_char_acc: 0.983  trn_word_acc: 0.925  trn_loss: 0.165  val_loss: 0.220  val_char_acc: 0.941  val_word_acc: 0.789  (343.92s - 667.61s remaining)\n"
          ]
        },
        {
          "data": {
            "text/html": [
              "<pre style=\"white-space:pre;overflow-x:auto;line-height:normal;font-family:Menlo,'DejaVu Sans Mono',consolas,'Courier New',monospace\">\n",
              "</pre>\n"
            ],
            "text/plain": [
              "\n"
            ]
          },
          "metadata": {},
          "output_type": "display_data"
        },
        {
          "data": {
            "text/html": [
              "<pre style=\"white-space:pre;overflow-x:auto;line-height:normal;font-family:Menlo,'DejaVu Sans Mono',consolas,'Courier New',monospace\">Pred: `why` :: Truth: `why`\n",
              "</pre>\n"
            ],
            "text/plain": [
              "Pred: `why` :: Truth: `why`\n"
            ]
          },
          "metadata": {},
          "output_type": "display_data"
        },
        {
          "data": {
            "text/html": [
              "<pre style=\"white-space:pre;overflow-x:auto;line-height:normal;font-family:Menlo,'DejaVu Sans Mono',consolas,'Courier New',monospace\">Pred: `hed` :: Truth: `bed`\n",
              "</pre>\n"
            ],
            "text/plain": [
              "Pred: `hed` :: Truth: `bed`\n"
            ]
          },
          "metadata": {},
          "output_type": "display_data"
        },
        {
          "data": {
            "text/html": [
              "<pre style=\"white-space:pre;overflow-x:auto;line-height:normal;font-family:Menlo,'DejaVu Sans Mono',consolas,'Courier New',monospace\">Pred: `hal` :: Truth: `local`\n",
              "</pre>\n"
            ],
            "text/plain": [
              "Pred: `hal` :: Truth: `local`\n"
            ]
          },
          "metadata": {},
          "output_type": "display_data"
        },
        {
          "data": {
            "text/html": [
              "<pre style=\"white-space:pre;overflow-x:auto;line-height:normal;font-family:Menlo,'DejaVu Sans Mono',consolas,'Courier New',monospace\">Pred: `indeed` :: Truth: `indeed`\n",
              "</pre>\n"
            ],
            "text/plain": [
              "Pred: `indeed` :: Truth: `indeed`\n"
            ]
          },
          "metadata": {},
          "output_type": "display_data"
        },
        {
          "data": {
            "text/html": [
              "<pre style=\"white-space:pre;overflow-x:auto;line-height:normal;font-family:Menlo,'DejaVu Sans Mono',consolas,'Courier New',monospace\">Pred: `maintain` :: Truth: `maintain`\n",
              "</pre>\n"
            ],
            "text/plain": [
              "Pred: `maintain` :: Truth: `maintain`\n"
            ]
          },
          "metadata": {},
          "output_type": "display_data"
        },
        {
          "data": {
            "text/html": [
              "<pre style=\"white-space:pre;overflow-x:auto;line-height:normal;font-family:Menlo,'DejaVu Sans Mono',consolas,'Courier New',monospace\">\n",
              "</pre>\n"
            ],
            "text/plain": [
              "\n"
            ]
          },
          "metadata": {},
          "output_type": "display_data"
        },
        {
          "name": "stdout",
          "output_type": "stream",
          "text": [
            "EPOCH: 18.000  trn_char_acc: 0.985  trn_word_acc: 0.930  trn_loss: 0.158  val_loss: 0.194  val_char_acc: 0.947  val_word_acc: 0.806  (364.19s - 647.45s remaining)\n"
          ]
        },
        {
          "data": {
            "text/html": [
              "<pre style=\"white-space:pre;overflow-x:auto;line-height:normal;font-family:Menlo,'DejaVu Sans Mono',consolas,'Courier New',monospace\">\n",
              "</pre>\n"
            ],
            "text/plain": [
              "\n"
            ]
          },
          "metadata": {},
          "output_type": "display_data"
        },
        {
          "data": {
            "text/html": [
              "<pre style=\"white-space:pre;overflow-x:auto;line-height:normal;font-family:Menlo,'DejaVu Sans Mono',consolas,'Courier New',monospace\">Pred: `middle` :: Truth: `middle`\n",
              "</pre>\n"
            ],
            "text/plain": [
              "Pred: `middle` :: Truth: `middle`\n"
            ]
          },
          "metadata": {},
          "output_type": "display_data"
        },
        {
          "data": {
            "text/html": [
              "<pre style=\"white-space:pre;overflow-x:auto;line-height:normal;font-family:Menlo,'DejaVu Sans Mono',consolas,'Courier New',monospace\">Pred: `allaw` :: Truth: `allow`\n",
              "</pre>\n"
            ],
            "text/plain": [
              "Pred: `allaw` :: Truth: `allow`\n"
            ]
          },
          "metadata": {},
          "output_type": "display_data"
        },
        {
          "data": {
            "text/html": [
              "<pre style=\"white-space:pre;overflow-x:auto;line-height:normal;font-family:Menlo,'DejaVu Sans Mono',consolas,'Courier New',monospace\">Pred: `change` :: Truth: `change`\n",
              "</pre>\n"
            ],
            "text/plain": [
              "Pred: `change` :: Truth: `change`\n"
            ]
          },
          "metadata": {},
          "output_type": "display_data"
        },
        {
          "data": {
            "text/html": [
              "<pre style=\"white-space:pre;overflow-x:auto;line-height:normal;font-family:Menlo,'DejaVu Sans Mono',consolas,'Courier New',monospace\">Pred: `brother` :: Truth: `brother`\n",
              "</pre>\n"
            ],
            "text/plain": [
              "Pred: `brother` :: Truth: `brother`\n"
            ]
          },
          "metadata": {},
          "output_type": "display_data"
        },
        {
          "data": {
            "text/html": [
              "<pre style=\"white-space:pre;overflow-x:auto;line-height:normal;font-family:Menlo,'DejaVu Sans Mono',consolas,'Courier New',monospace\">Pred: `anaiysis` :: Truth: `analysis`\n",
              "</pre>\n"
            ],
            "text/plain": [
              "Pred: `anaiysis` :: Truth: `analysis`\n"
            ]
          },
          "metadata": {},
          "output_type": "display_data"
        },
        {
          "data": {
            "text/html": [
              "<pre style=\"white-space:pre;overflow-x:auto;line-height:normal;font-family:Menlo,'DejaVu Sans Mono',consolas,'Courier New',monospace\">\n",
              "</pre>\n"
            ],
            "text/plain": [
              "\n"
            ]
          },
          "metadata": {},
          "output_type": "display_data"
        },
        {
          "name": "stdout",
          "output_type": "stream",
          "text": [
            "EPOCH: 19.000  trn_char_acc: 0.987  trn_word_acc: 0.941  trn_loss: 0.145  val_loss: 0.191  val_char_acc: 0.947  val_word_acc: 0.806  (384.50s - 627.34s remaining)\n"
          ]
        },
        {
          "data": {
            "text/html": [
              "<pre style=\"white-space:pre;overflow-x:auto;line-height:normal;font-family:Menlo,'DejaVu Sans Mono',consolas,'Courier New',monospace\">\n",
              "</pre>\n"
            ],
            "text/plain": [
              "\n"
            ]
          },
          "metadata": {},
          "output_type": "display_data"
        },
        {
          "data": {
            "text/html": [
              "<pre style=\"white-space:pre;overflow-x:auto;line-height:normal;font-family:Menlo,'DejaVu Sans Mono',consolas,'Courier New',monospace\">Pred: `security` :: Truth: `security`\n",
              "</pre>\n"
            ],
            "text/plain": [
              "Pred: `security` :: Truth: `security`\n"
            ]
          },
          "metadata": {},
          "output_type": "display_data"
        },
        {
          "data": {
            "text/html": [
              "<pre style=\"white-space:pre;overflow-x:auto;line-height:normal;font-family:Menlo,'DejaVu Sans Mono',consolas,'Courier New',monospace\">Pred: `education` :: Truth: `education`\n",
              "</pre>\n"
            ],
            "text/plain": [
              "Pred: `education` :: Truth: `education`\n"
            ]
          },
          "metadata": {},
          "output_type": "display_data"
        },
        {
          "data": {
            "text/html": [
              "<pre style=\"white-space:pre;overflow-x:auto;line-height:normal;font-family:Menlo,'DejaVu Sans Mono',consolas,'Courier New',monospace\">Pred: `young` :: Truth: `young`\n",
              "</pre>\n"
            ],
            "text/plain": [
              "Pred: `young` :: Truth: `young`\n"
            ]
          },
          "metadata": {},
          "output_type": "display_data"
        },
        {
          "data": {
            "text/html": [
              "<pre style=\"white-space:pre;overflow-x:auto;line-height:normal;font-family:Menlo,'DejaVu Sans Mono',consolas,'Courier New',monospace\">Pred: `eight` :: Truth: `eight`\n",
              "</pre>\n"
            ],
            "text/plain": [
              "Pred: `eight` :: Truth: `eight`\n"
            ]
          },
          "metadata": {},
          "output_type": "display_data"
        },
        {
          "data": {
            "text/html": [
              "<pre style=\"white-space:pre;overflow-x:auto;line-height:normal;font-family:Menlo,'DejaVu Sans Mono',consolas,'Courier New',monospace\">Pred: `growth` :: Truth: `growth`\n",
              "</pre>\n"
            ],
            "text/plain": [
              "Pred: `growth` :: Truth: `growth`\n"
            ]
          },
          "metadata": {},
          "output_type": "display_data"
        },
        {
          "data": {
            "text/html": [
              "<pre style=\"white-space:pre;overflow-x:auto;line-height:normal;font-family:Menlo,'DejaVu Sans Mono',consolas,'Courier New',monospace\">\n",
              "</pre>\n"
            ],
            "text/plain": [
              "\n"
            ]
          },
          "metadata": {},
          "output_type": "display_data"
        },
        {
          "name": "stdout",
          "output_type": "stream",
          "text": [
            "EPOCH: 20.000  trn_char_acc: 0.988  trn_word_acc: 0.947  trn_loss: 0.139  val_loss: 0.189  val_char_acc: 0.948  val_word_acc: 0.813  (404.83s - 607.25s remaining)\n"
          ]
        },
        {
          "data": {
            "text/html": [
              "<pre style=\"white-space:pre;overflow-x:auto;line-height:normal;font-family:Menlo,'DejaVu Sans Mono',consolas,'Courier New',monospace\">\n",
              "</pre>\n"
            ],
            "text/plain": [
              "\n"
            ]
          },
          "metadata": {},
          "output_type": "display_data"
        },
        {
          "data": {
            "text/html": [
              "<pre style=\"white-space:pre;overflow-x:auto;line-height:normal;font-family:Menlo,'DejaVu Sans Mono',consolas,'Courier New',monospace\">Pred: `kegy` :: Truth: `leg`\n",
              "</pre>\n"
            ],
            "text/plain": [
              "Pred: `kegy` :: Truth: `leg`\n"
            ]
          },
          "metadata": {},
          "output_type": "display_data"
        },
        {
          "data": {
            "text/html": [
              "<pre style=\"white-space:pre;overflow-x:auto;line-height:normal;font-family:Menlo,'DejaVu Sans Mono',consolas,'Courier New',monospace\">Pred: `gas` :: Truth: `gas`\n",
              "</pre>\n"
            ],
            "text/plain": [
              "Pred: `gas` :: Truth: `gas`\n"
            ]
          },
          "metadata": {},
          "output_type": "display_data"
        },
        {
          "data": {
            "text/html": [
              "<pre style=\"white-space:pre;overflow-x:auto;line-height:normal;font-family:Menlo,'DejaVu Sans Mono',consolas,'Courier New',monospace\">Pred: `count` :: Truth: `court`\n",
              "</pre>\n"
            ],
            "text/plain": [
              "Pred: `count` :: Truth: `court`\n"
            ]
          },
          "metadata": {},
          "output_type": "display_data"
        },
        {
          "data": {
            "text/html": [
              "<pre style=\"white-space:pre;overflow-x:auto;line-height:normal;font-family:Menlo,'DejaVu Sans Mono',consolas,'Courier New',monospace\">Pred: `lot` :: Truth: `lot`\n",
              "</pre>\n"
            ],
            "text/plain": [
              "Pred: `lot` :: Truth: `lot`\n"
            ]
          },
          "metadata": {},
          "output_type": "display_data"
        },
        {
          "data": {
            "text/html": [
              "<pre style=\"white-space:pre;overflow-x:auto;line-height:normal;font-family:Menlo,'DejaVu Sans Mono',consolas,'Courier New',monospace\">Pred: `stamdard` :: Truth: `standard`\n",
              "</pre>\n"
            ],
            "text/plain": [
              "Pred: `stamdard` :: Truth: `standard`\n"
            ]
          },
          "metadata": {},
          "output_type": "display_data"
        },
        {
          "data": {
            "text/html": [
              "<pre style=\"white-space:pre;overflow-x:auto;line-height:normal;font-family:Menlo,'DejaVu Sans Mono',consolas,'Courier New',monospace\">\n",
              "</pre>\n"
            ],
            "text/plain": [
              "\n"
            ]
          },
          "metadata": {},
          "output_type": "display_data"
        },
        {
          "name": "stdout",
          "output_type": "stream",
          "text": [
            "EPOCH: 21.000  trn_char_acc: 0.989  trn_word_acc: 0.951  trn_loss: 0.127  val_loss: 0.200  val_char_acc: 0.946  val_word_acc: 0.803  (425.18s - 587.15s remaining)\n"
          ]
        },
        {
          "data": {
            "text/html": [
              "<pre style=\"white-space:pre;overflow-x:auto;line-height:normal;font-family:Menlo,'DejaVu Sans Mono',consolas,'Courier New',monospace\">\n",
              "</pre>\n"
            ],
            "text/plain": [
              "\n"
            ]
          },
          "metadata": {},
          "output_type": "display_data"
        },
        {
          "data": {
            "text/html": [
              "<pre style=\"white-space:pre;overflow-x:auto;line-height:normal;font-family:Menlo,'DejaVu Sans Mono',consolas,'Courier New',monospace\">Pred: `malr` :: Truth: `man`\n",
              "</pre>\n"
            ],
            "text/plain": [
              "Pred: `malr` :: Truth: `man`\n"
            ]
          },
          "metadata": {},
          "output_type": "display_data"
        },
        {
          "data": {
            "text/html": [
              "<pre style=\"white-space:pre;overflow-x:auto;line-height:normal;font-family:Menlo,'DejaVu Sans Mono',consolas,'Courier New',monospace\">Pred: `two` :: Truth: `two`\n",
              "</pre>\n"
            ],
            "text/plain": [
              "Pred: `two` :: Truth: `two`\n"
            ]
          },
          "metadata": {},
          "output_type": "display_data"
        },
        {
          "data": {
            "text/html": [
              "<pre style=\"white-space:pre;overflow-x:auto;line-height:normal;font-family:Menlo,'DejaVu Sans Mono',consolas,'Courier New',monospace\">Pred: `rule` :: Truth: `rule`\n",
              "</pre>\n"
            ],
            "text/plain": [
              "Pred: `rule` :: Truth: `rule`\n"
            ]
          },
          "metadata": {},
          "output_type": "display_data"
        },
        {
          "data": {
            "text/html": [
              "<pre style=\"white-space:pre;overflow-x:auto;line-height:normal;font-family:Menlo,'DejaVu Sans Mono',consolas,'Courier New',monospace\">Pred: `lealc` :: Truth: `local`\n",
              "</pre>\n"
            ],
            "text/plain": [
              "Pred: `lealc` :: Truth: `local`\n"
            ]
          },
          "metadata": {},
          "output_type": "display_data"
        },
        {
          "data": {
            "text/html": [
              "<pre style=\"white-space:pre;overflow-x:auto;line-height:normal;font-family:Menlo,'DejaVu Sans Mono',consolas,'Courier New',monospace\">Pred: `nair` :: Truth: `hair`\n",
              "</pre>\n"
            ],
            "text/plain": [
              "Pred: `nair` :: Truth: `hair`\n"
            ]
          },
          "metadata": {},
          "output_type": "display_data"
        },
        {
          "data": {
            "text/html": [
              "<pre style=\"white-space:pre;overflow-x:auto;line-height:normal;font-family:Menlo,'DejaVu Sans Mono',consolas,'Courier New',monospace\">\n",
              "</pre>\n"
            ],
            "text/plain": [
              "\n"
            ]
          },
          "metadata": {},
          "output_type": "display_data"
        },
        {
          "name": "stdout",
          "output_type": "stream",
          "text": [
            "EPOCH: 22.000  trn_char_acc: 0.991  trn_word_acc: 0.956  trn_loss: 0.119  val_loss: 0.183  val_char_acc: 0.952  val_word_acc: 0.828  (445.47s - 566.96s remaining)\n"
          ]
        },
        {
          "data": {
            "text/html": [
              "<pre style=\"white-space:pre;overflow-x:auto;line-height:normal;font-family:Menlo,'DejaVu Sans Mono',consolas,'Courier New',monospace\">\n",
              "</pre>\n"
            ],
            "text/plain": [
              "\n"
            ]
          },
          "metadata": {},
          "output_type": "display_data"
        },
        {
          "data": {
            "text/html": [
              "<pre style=\"white-space:pre;overflow-x:auto;line-height:normal;font-family:Menlo,'DejaVu Sans Mono',consolas,'Courier New',monospace\">Pred: `season` :: Truth: `season`\n",
              "</pre>\n"
            ],
            "text/plain": [
              "Pred: `season` :: Truth: `season`\n"
            ]
          },
          "metadata": {},
          "output_type": "display_data"
        },
        {
          "data": {
            "text/html": [
              "<pre style=\"white-space:pre;overflow-x:auto;line-height:normal;font-family:Menlo,'DejaVu Sans Mono',consolas,'Courier New',monospace\">Pred: `free` :: Truth: `free`\n",
              "</pre>\n"
            ],
            "text/plain": [
              "Pred: `free` :: Truth: `free`\n"
            ]
          },
          "metadata": {},
          "output_type": "display_data"
        },
        {
          "data": {
            "text/html": [
              "<pre style=\"white-space:pre;overflow-x:auto;line-height:normal;font-family:Menlo,'DejaVu Sans Mono',consolas,'Courier New',monospace\">Pred: `his` :: Truth: `his`\n",
              "</pre>\n"
            ],
            "text/plain": [
              "Pred: `his` :: Truth: `his`\n"
            ]
          },
          "metadata": {},
          "output_type": "display_data"
        },
        {
          "data": {
            "text/html": [
              "<pre style=\"white-space:pre;overflow-x:auto;line-height:normal;font-family:Menlo,'DejaVu Sans Mono',consolas,'Courier New',monospace\">Pred: `rerpoud` :: Truth: `respond`\n",
              "</pre>\n"
            ],
            "text/plain": [
              "Pred: `rerpoud` :: Truth: `respond`\n"
            ]
          },
          "metadata": {},
          "output_type": "display_data"
        },
        {
          "data": {
            "text/html": [
              "<pre style=\"white-space:pre;overflow-x:auto;line-height:normal;font-family:Menlo,'DejaVu Sans Mono',consolas,'Courier New',monospace\">Pred: `loss` :: Truth: `loss`\n",
              "</pre>\n"
            ],
            "text/plain": [
              "Pred: `loss` :: Truth: `loss`\n"
            ]
          },
          "metadata": {},
          "output_type": "display_data"
        },
        {
          "data": {
            "text/html": [
              "<pre style=\"white-space:pre;overflow-x:auto;line-height:normal;font-family:Menlo,'DejaVu Sans Mono',consolas,'Courier New',monospace\">\n",
              "</pre>\n"
            ],
            "text/plain": [
              "\n"
            ]
          },
          "metadata": {},
          "output_type": "display_data"
        },
        {
          "name": "stdout",
          "output_type": "stream",
          "text": [
            "EPOCH: 23.000  trn_char_acc: 0.991  trn_word_acc: 0.958  trn_loss: 0.114  val_loss: 0.170  val_char_acc: 0.954  val_word_acc: 0.833  (465.79s - 546.80s remaining)\n"
          ]
        },
        {
          "data": {
            "text/html": [
              "<pre style=\"white-space:pre;overflow-x:auto;line-height:normal;font-family:Menlo,'DejaVu Sans Mono',consolas,'Courier New',monospace\">\n",
              "</pre>\n"
            ],
            "text/plain": [
              "\n"
            ]
          },
          "metadata": {},
          "output_type": "display_data"
        },
        {
          "data": {
            "text/html": [
              "<pre style=\"white-space:pre;overflow-x:auto;line-height:normal;font-family:Menlo,'DejaVu Sans Mono',consolas,'Courier New',monospace\">Pred: `heath` :: Truth: `health`\n",
              "</pre>\n"
            ],
            "text/plain": [
              "Pred: `heath` :: Truth: `health`\n"
            ]
          },
          "metadata": {},
          "output_type": "display_data"
        },
        {
          "data": {
            "text/html": [
              "<pre style=\"white-space:pre;overflow-x:auto;line-height:normal;font-family:Menlo,'DejaVu Sans Mono',consolas,'Courier New',monospace\">Pred: `office` :: Truth: `office`\n",
              "</pre>\n"
            ],
            "text/plain": [
              "Pred: `office` :: Truth: `office`\n"
            ]
          },
          "metadata": {},
          "output_type": "display_data"
        },
        {
          "data": {
            "text/html": [
              "<pre style=\"white-space:pre;overflow-x:auto;line-height:normal;font-family:Menlo,'DejaVu Sans Mono',consolas,'Courier New',monospace\">Pred: `opportinity` :: Truth: `opportunity`\n",
              "</pre>\n"
            ],
            "text/plain": [
              "Pred: `opportinity` :: Truth: `opportunity`\n"
            ]
          },
          "metadata": {},
          "output_type": "display_data"
        },
        {
          "data": {
            "text/html": [
              "<pre style=\"white-space:pre;overflow-x:auto;line-height:normal;font-family:Menlo,'DejaVu Sans Mono',consolas,'Courier New',monospace\">Pred: `ail` :: Truth: `oil`\n",
              "</pre>\n"
            ],
            "text/plain": [
              "Pred: `ail` :: Truth: `oil`\n"
            ]
          },
          "metadata": {},
          "output_type": "display_data"
        },
        {
          "data": {
            "text/html": [
              "<pre style=\"white-space:pre;overflow-x:auto;line-height:normal;font-family:Menlo,'DejaVu Sans Mono',consolas,'Courier New',monospace\">Pred: `cup` :: Truth: `cup`\n",
              "</pre>\n"
            ],
            "text/plain": [
              "Pred: `cup` :: Truth: `cup`\n"
            ]
          },
          "metadata": {},
          "output_type": "display_data"
        },
        {
          "data": {
            "text/html": [
              "<pre style=\"white-space:pre;overflow-x:auto;line-height:normal;font-family:Menlo,'DejaVu Sans Mono',consolas,'Courier New',monospace\">\n",
              "</pre>\n"
            ],
            "text/plain": [
              "\n"
            ]
          },
          "metadata": {},
          "output_type": "display_data"
        },
        {
          "name": "stdout",
          "output_type": "stream",
          "text": [
            "EPOCH: 24.000  trn_char_acc: 0.992  trn_word_acc: 0.960  trn_loss: 0.112  val_loss: 0.171  val_char_acc: 0.953  val_word_acc: 0.827  (486.20s - 526.71s remaining)\n"
          ]
        },
        {
          "data": {
            "text/html": [
              "<pre style=\"white-space:pre;overflow-x:auto;line-height:normal;font-family:Menlo,'DejaVu Sans Mono',consolas,'Courier New',monospace\">\n",
              "</pre>\n"
            ],
            "text/plain": [
              "\n"
            ]
          },
          "metadata": {},
          "output_type": "display_data"
        },
        {
          "data": {
            "text/html": [
              "<pre style=\"white-space:pre;overflow-x:auto;line-height:normal;font-family:Menlo,'DejaVu Sans Mono',consolas,'Courier New',monospace\">Pred: `lengunge` :: Truth: `language`\n",
              "</pre>\n"
            ],
            "text/plain": [
              "Pred: `lengunge` :: Truth: `language`\n"
            ]
          },
          "metadata": {},
          "output_type": "display_data"
        },
        {
          "data": {
            "text/html": [
              "<pre style=\"white-space:pre;overflow-x:auto;line-height:normal;font-family:Menlo,'DejaVu Sans Mono',consolas,'Courier New',monospace\">Pred: `shoulder` :: Truth: `shoulder`\n",
              "</pre>\n"
            ],
            "text/plain": [
              "Pred: `shoulder` :: Truth: `shoulder`\n"
            ]
          },
          "metadata": {},
          "output_type": "display_data"
        },
        {
          "data": {
            "text/html": [
              "<pre style=\"white-space:pre;overflow-x:auto;line-height:normal;font-family:Menlo,'DejaVu Sans Mono',consolas,'Courier New',monospace\">Pred: `government` :: Truth: `government`\n",
              "</pre>\n"
            ],
            "text/plain": [
              "Pred: `government` :: Truth: `government`\n"
            ]
          },
          "metadata": {},
          "output_type": "display_data"
        },
        {
          "data": {
            "text/html": [
              "<pre style=\"white-space:pre;overflow-x:auto;line-height:normal;font-family:Menlo,'DejaVu Sans Mono',consolas,'Courier New',monospace\">Pred: `various` :: Truth: `various`\n",
              "</pre>\n"
            ],
            "text/plain": [
              "Pred: `various` :: Truth: `various`\n"
            ]
          },
          "metadata": {},
          "output_type": "display_data"
        },
        {
          "data": {
            "text/html": [
              "<pre style=\"white-space:pre;overflow-x:auto;line-height:normal;font-family:Menlo,'DejaVu Sans Mono',consolas,'Courier New',monospace\">Pred: `which` :: Truth: `which`\n",
              "</pre>\n"
            ],
            "text/plain": [
              "Pred: `which` :: Truth: `which`\n"
            ]
          },
          "metadata": {},
          "output_type": "display_data"
        },
        {
          "data": {
            "text/html": [
              "<pre style=\"white-space:pre;overflow-x:auto;line-height:normal;font-family:Menlo,'DejaVu Sans Mono',consolas,'Courier New',monospace\">\n",
              "</pre>\n"
            ],
            "text/plain": [
              "\n"
            ]
          },
          "metadata": {},
          "output_type": "display_data"
        },
        {
          "name": "stdout",
          "output_type": "stream",
          "text": [
            "EPOCH: 25.000  trn_char_acc: 0.993  trn_word_acc: 0.965  trn_loss: 0.104  val_loss: 0.182  val_char_acc: 0.952  val_word_acc: 0.823  (506.56s - 506.56s remaining)\n"
          ]
        },
        {
          "data": {
            "text/html": [
              "<pre style=\"white-space:pre;overflow-x:auto;line-height:normal;font-family:Menlo,'DejaVu Sans Mono',consolas,'Courier New',monospace\">\n",
              "</pre>\n"
            ],
            "text/plain": [
              "\n"
            ]
          },
          "metadata": {},
          "output_type": "display_data"
        },
        {
          "data": {
            "text/html": [
              "<pre style=\"white-space:pre;overflow-x:auto;line-height:normal;font-family:Menlo,'DejaVu Sans Mono',consolas,'Courier New',monospace\">Pred: `secand` :: Truth: `second`\n",
              "</pre>\n"
            ],
            "text/plain": [
              "Pred: `secand` :: Truth: `second`\n"
            ]
          },
          "metadata": {},
          "output_type": "display_data"
        },
        {
          "data": {
            "text/html": [
              "<pre style=\"white-space:pre;overflow-x:auto;line-height:normal;font-family:Menlo,'DejaVu Sans Mono',consolas,'Courier New',monospace\">Pred: `fast` :: Truth: `fast`\n",
              "</pre>\n"
            ],
            "text/plain": [
              "Pred: `fast` :: Truth: `fast`\n"
            ]
          },
          "metadata": {},
          "output_type": "display_data"
        },
        {
          "data": {
            "text/html": [
              "<pre style=\"white-space:pre;overflow-x:auto;line-height:normal;font-family:Menlo,'DejaVu Sans Mono',consolas,'Courier New',monospace\">Pred: `offer` :: Truth: `offer`\n",
              "</pre>\n"
            ],
            "text/plain": [
              "Pred: `offer` :: Truth: `offer`\n"
            ]
          },
          "metadata": {},
          "output_type": "display_data"
        },
        {
          "data": {
            "text/html": [
              "<pre style=\"white-space:pre;overflow-x:auto;line-height:normal;font-family:Menlo,'DejaVu Sans Mono',consolas,'Courier New',monospace\">Pred: `remnevent` :: Truth: `represent`\n",
              "</pre>\n"
            ],
            "text/plain": [
              "Pred: `remnevent` :: Truth: `represent`\n"
            ]
          },
          "metadata": {},
          "output_type": "display_data"
        },
        {
          "data": {
            "text/html": [
              "<pre style=\"white-space:pre;overflow-x:auto;line-height:normal;font-family:Menlo,'DejaVu Sans Mono',consolas,'Courier New',monospace\">Pred: `huge` :: Truth: `huge`\n",
              "</pre>\n"
            ],
            "text/plain": [
              "Pred: `huge` :: Truth: `huge`\n"
            ]
          },
          "metadata": {},
          "output_type": "display_data"
        },
        {
          "data": {
            "text/html": [
              "<pre style=\"white-space:pre;overflow-x:auto;line-height:normal;font-family:Menlo,'DejaVu Sans Mono',consolas,'Courier New',monospace\">\n",
              "</pre>\n"
            ],
            "text/plain": [
              "\n"
            ]
          },
          "metadata": {},
          "output_type": "display_data"
        },
        {
          "name": "stdout",
          "output_type": "stream",
          "text": [
            "EPOCH: 26.000  trn_char_acc: 0.994  trn_word_acc: 0.967  trn_loss: 0.099  val_loss: 0.170  val_char_acc: 0.956  val_word_acc: 0.839  (527.16s - 486.61s remaining)\n"
          ]
        },
        {
          "data": {
            "text/html": [
              "<pre style=\"white-space:pre;overflow-x:auto;line-height:normal;font-family:Menlo,'DejaVu Sans Mono',consolas,'Courier New',monospace\">\n",
              "</pre>\n"
            ],
            "text/plain": [
              "\n"
            ]
          },
          "metadata": {},
          "output_type": "display_data"
        },
        {
          "data": {
            "text/html": [
              "<pre style=\"white-space:pre;overflow-x:auto;line-height:normal;font-family:Menlo,'DejaVu Sans Mono',consolas,'Courier New',monospace\">Pred: `ever` :: Truth: `ever`\n",
              "</pre>\n"
            ],
            "text/plain": [
              "Pred: `ever` :: Truth: `ever`\n"
            ]
          },
          "metadata": {},
          "output_type": "display_data"
        },
        {
          "data": {
            "text/html": [
              "<pre style=\"white-space:pre;overflow-x:auto;line-height:normal;font-family:Menlo,'DejaVu Sans Mono',consolas,'Courier New',monospace\">Pred: `without` :: Truth: `without`\n",
              "</pre>\n"
            ],
            "text/plain": [
              "Pred: `without` :: Truth: `without`\n"
            ]
          },
          "metadata": {},
          "output_type": "display_data"
        },
        {
          "data": {
            "text/html": [
              "<pre style=\"white-space:pre;overflow-x:auto;line-height:normal;font-family:Menlo,'DejaVu Sans Mono',consolas,'Courier New',monospace\">Pred: `shouold` :: Truth: `should`\n",
              "</pre>\n"
            ],
            "text/plain": [
              "Pred: `shouold` :: Truth: `should`\n"
            ]
          },
          "metadata": {},
          "output_type": "display_data"
        },
        {
          "data": {
            "text/html": [
              "<pre style=\"white-space:pre;overflow-x:auto;line-height:normal;font-family:Menlo,'DejaVu Sans Mono',consolas,'Courier New',monospace\">Pred: `her` :: Truth: `her`\n",
              "</pre>\n"
            ],
            "text/plain": [
              "Pred: `her` :: Truth: `her`\n"
            ]
          },
          "metadata": {},
          "output_type": "display_data"
        },
        {
          "data": {
            "text/html": [
              "<pre style=\"white-space:pre;overflow-x:auto;line-height:normal;font-family:Menlo,'DejaVu Sans Mono',consolas,'Courier New',monospace\">Pred: `after` :: Truth: `after`\n",
              "</pre>\n"
            ],
            "text/plain": [
              "Pred: `after` :: Truth: `after`\n"
            ]
          },
          "metadata": {},
          "output_type": "display_data"
        },
        {
          "data": {
            "text/html": [
              "<pre style=\"white-space:pre;overflow-x:auto;line-height:normal;font-family:Menlo,'DejaVu Sans Mono',consolas,'Courier New',monospace\">\n",
              "</pre>\n"
            ],
            "text/plain": [
              "\n"
            ]
          },
          "metadata": {},
          "output_type": "display_data"
        },
        {
          "name": "stdout",
          "output_type": "stream",
          "text": [
            "EPOCH: 27.000  trn_char_acc: 0.994  trn_word_acc: 0.971  trn_loss: 0.091  val_loss: 0.171  val_char_acc: 0.956  val_word_acc: 0.839  (547.42s - 466.32s remaining)\n"
          ]
        },
        {
          "data": {
            "text/html": [
              "<pre style=\"white-space:pre;overflow-x:auto;line-height:normal;font-family:Menlo,'DejaVu Sans Mono',consolas,'Courier New',monospace\">\n",
              "</pre>\n"
            ],
            "text/plain": [
              "\n"
            ]
          },
          "metadata": {},
          "output_type": "display_data"
        },
        {
          "data": {
            "text/html": [
              "<pre style=\"white-space:pre;overflow-x:auto;line-height:normal;font-family:Menlo,'DejaVu Sans Mono',consolas,'Courier New',monospace\">Pred: `statement` :: Truth: `statement`\n",
              "</pre>\n"
            ],
            "text/plain": [
              "Pred: `statement` :: Truth: `statement`\n"
            ]
          },
          "metadata": {},
          "output_type": "display_data"
        },
        {
          "data": {
            "text/html": [
              "<pre style=\"white-space:pre;overflow-x:auto;line-height:normal;font-family:Menlo,'DejaVu Sans Mono',consolas,'Courier New',monospace\">Pred: `another` :: Truth: `another`\n",
              "</pre>\n"
            ],
            "text/plain": [
              "Pred: `another` :: Truth: `another`\n"
            ]
          },
          "metadata": {},
          "output_type": "display_data"
        },
        {
          "data": {
            "text/html": [
              "<pre style=\"white-space:pre;overflow-x:auto;line-height:normal;font-family:Menlo,'DejaVu Sans Mono',consolas,'Courier New',monospace\">Pred: `sped` :: Truth: `spend`\n",
              "</pre>\n"
            ],
            "text/plain": [
              "Pred: `sped` :: Truth: `spend`\n"
            ]
          },
          "metadata": {},
          "output_type": "display_data"
        },
        {
          "data": {
            "text/html": [
              "<pre style=\"white-space:pre;overflow-x:auto;line-height:normal;font-family:Menlo,'DejaVu Sans Mono',consolas,'Courier New',monospace\">Pred: `power` :: Truth: `power`\n",
              "</pre>\n"
            ],
            "text/plain": [
              "Pred: `power` :: Truth: `power`\n"
            ]
          },
          "metadata": {},
          "output_type": "display_data"
        },
        {
          "data": {
            "text/html": [
              "<pre style=\"white-space:pre;overflow-x:auto;line-height:normal;font-family:Menlo,'DejaVu Sans Mono',consolas,'Courier New',monospace\">Pred: `Mrs` :: Truth: `Mrs`\n",
              "</pre>\n"
            ],
            "text/plain": [
              "Pred: `Mrs` :: Truth: `Mrs`\n"
            ]
          },
          "metadata": {},
          "output_type": "display_data"
        },
        {
          "data": {
            "text/html": [
              "<pre style=\"white-space:pre;overflow-x:auto;line-height:normal;font-family:Menlo,'DejaVu Sans Mono',consolas,'Courier New',monospace\">\n",
              "</pre>\n"
            ],
            "text/plain": [
              "\n"
            ]
          },
          "metadata": {},
          "output_type": "display_data"
        },
        {
          "name": "stdout",
          "output_type": "stream",
          "text": [
            "EPOCH: 28.000  trn_char_acc: 0.995  trn_word_acc: 0.974  trn_loss: 0.089  val_loss: 0.172  val_char_acc: 0.956  val_word_acc: 0.836  (567.79s - 446.12s remaining)\n"
          ]
        },
        {
          "data": {
            "text/html": [
              "<pre style=\"white-space:pre;overflow-x:auto;line-height:normal;font-family:Menlo,'DejaVu Sans Mono',consolas,'Courier New',monospace\">\n",
              "</pre>\n"
            ],
            "text/plain": [
              "\n"
            ]
          },
          "metadata": {},
          "output_type": "display_data"
        },
        {
          "data": {
            "text/html": [
              "<pre style=\"white-space:pre;overflow-x:auto;line-height:normal;font-family:Menlo,'DejaVu Sans Mono',consolas,'Courier New',monospace\">Pred: `southern` :: Truth: `southern`\n",
              "</pre>\n"
            ],
            "text/plain": [
              "Pred: `southern` :: Truth: `southern`\n"
            ]
          },
          "metadata": {},
          "output_type": "display_data"
        },
        {
          "data": {
            "text/html": [
              "<pre style=\"white-space:pre;overflow-x:auto;line-height:normal;font-family:Menlo,'DejaVu Sans Mono',consolas,'Courier New',monospace\">Pred: `rise` :: Truth: `rise`\n",
              "</pre>\n"
            ],
            "text/plain": [
              "Pred: `rise` :: Truth: `rise`\n"
            ]
          },
          "metadata": {},
          "output_type": "display_data"
        },
        {
          "data": {
            "text/html": [
              "<pre style=\"white-space:pre;overflow-x:auto;line-height:normal;font-family:Menlo,'DejaVu Sans Mono',consolas,'Courier New',monospace\">Pred: `tax` :: Truth: `tax`\n",
              "</pre>\n"
            ],
            "text/plain": [
              "Pred: `tax` :: Truth: `tax`\n"
            ]
          },
          "metadata": {},
          "output_type": "display_data"
        },
        {
          "data": {
            "text/html": [
              "<pre style=\"white-space:pre;overflow-x:auto;line-height:normal;font-family:Menlo,'DejaVu Sans Mono',consolas,'Courier New',monospace\">Pred: `cup` :: Truth: `cup`\n",
              "</pre>\n"
            ],
            "text/plain": [
              "Pred: `cup` :: Truth: `cup`\n"
            ]
          },
          "metadata": {},
          "output_type": "display_data"
        },
        {
          "data": {
            "text/html": [
              "<pre style=\"white-space:pre;overflow-x:auto;line-height:normal;font-family:Menlo,'DejaVu Sans Mono',consolas,'Courier New',monospace\">Pred: `toward` :: Truth: `toward`\n",
              "</pre>\n"
            ],
            "text/plain": [
              "Pred: `toward` :: Truth: `toward`\n"
            ]
          },
          "metadata": {},
          "output_type": "display_data"
        },
        {
          "data": {
            "text/html": [
              "<pre style=\"white-space:pre;overflow-x:auto;line-height:normal;font-family:Menlo,'DejaVu Sans Mono',consolas,'Courier New',monospace\">\n",
              "</pre>\n"
            ],
            "text/plain": [
              "\n"
            ]
          },
          "metadata": {},
          "output_type": "display_data"
        },
        {
          "name": "stdout",
          "output_type": "stream",
          "text": [
            "EPOCH: 29.000  trn_char_acc: 0.995  trn_word_acc: 0.977  trn_loss: 0.088  val_loss: 0.171  val_char_acc: 0.956  val_word_acc: 0.840  (588.15s - 425.90s remaining)\n"
          ]
        },
        {
          "data": {
            "text/html": [
              "<pre style=\"white-space:pre;overflow-x:auto;line-height:normal;font-family:Menlo,'DejaVu Sans Mono',consolas,'Courier New',monospace\">\n",
              "</pre>\n"
            ],
            "text/plain": [
              "\n"
            ]
          },
          "metadata": {},
          "output_type": "display_data"
        },
        {
          "data": {
            "text/html": [
              "<pre style=\"white-space:pre;overflow-x:auto;line-height:normal;font-family:Menlo,'DejaVu Sans Mono',consolas,'Courier New',monospace\">Pred: `fod` :: Truth: `foot`\n",
              "</pre>\n"
            ],
            "text/plain": [
              "Pred: `fod` :: Truth: `foot`\n"
            ]
          },
          "metadata": {},
          "output_type": "display_data"
        },
        {
          "data": {
            "text/html": [
              "<pre style=\"white-space:pre;overflow-x:auto;line-height:normal;font-family:Menlo,'DejaVu Sans Mono',consolas,'Courier New',monospace\">Pred: `say` :: Truth: `say`\n",
              "</pre>\n"
            ],
            "text/plain": [
              "Pred: `say` :: Truth: `say`\n"
            ]
          },
          "metadata": {},
          "output_type": "display_data"
        },
        {
          "data": {
            "text/html": [
              "<pre style=\"white-space:pre;overflow-x:auto;line-height:normal;font-family:Menlo,'DejaVu Sans Mono',consolas,'Courier New',monospace\">Pred: `across` :: Truth: `across`\n",
              "</pre>\n"
            ],
            "text/plain": [
              "Pred: `across` :: Truth: `across`\n"
            ]
          },
          "metadata": {},
          "output_type": "display_data"
        },
        {
          "data": {
            "text/html": [
              "<pre style=\"white-space:pre;overflow-x:auto;line-height:normal;font-family:Menlo,'DejaVu Sans Mono',consolas,'Courier New',monospace\">Pred: `cortain` :: Truth: `contain`\n",
              "</pre>\n"
            ],
            "text/plain": [
              "Pred: `cortain` :: Truth: `contain`\n"
            ]
          },
          "metadata": {},
          "output_type": "display_data"
        },
        {
          "data": {
            "text/html": [
              "<pre style=\"white-space:pre;overflow-x:auto;line-height:normal;font-family:Menlo,'DejaVu Sans Mono',consolas,'Courier New',monospace\">Pred: `relutiongly` :: Truth: `relationship`\n",
              "</pre>\n"
            ],
            "text/plain": [
              "Pred: `relutiongly` :: Truth: `relationship`\n"
            ]
          },
          "metadata": {},
          "output_type": "display_data"
        },
        {
          "data": {
            "text/html": [
              "<pre style=\"white-space:pre;overflow-x:auto;line-height:normal;font-family:Menlo,'DejaVu Sans Mono',consolas,'Courier New',monospace\">\n",
              "</pre>\n"
            ],
            "text/plain": [
              "\n"
            ]
          },
          "metadata": {},
          "output_type": "display_data"
        },
        {
          "name": "stdout",
          "output_type": "stream",
          "text": [
            "EPOCH: 30.000  trn_char_acc: 0.996  trn_word_acc: 0.977  trn_loss: 0.084  val_loss: 0.189  val_char_acc: 0.956  val_word_acc: 0.834  (608.51s - 405.67s remaining)\n"
          ]
        },
        {
          "data": {
            "text/html": [
              "<pre style=\"white-space:pre;overflow-x:auto;line-height:normal;font-family:Menlo,'DejaVu Sans Mono',consolas,'Courier New',monospace\">\n",
              "</pre>\n"
            ],
            "text/plain": [
              "\n"
            ]
          },
          "metadata": {},
          "output_type": "display_data"
        },
        {
          "data": {
            "text/html": [
              "<pre style=\"white-space:pre;overflow-x:auto;line-height:normal;font-family:Menlo,'DejaVu Sans Mono',consolas,'Courier New',monospace\">Pred: `end` :: Truth: `end`\n",
              "</pre>\n"
            ],
            "text/plain": [
              "Pred: `end` :: Truth: `end`\n"
            ]
          },
          "metadata": {},
          "output_type": "display_data"
        },
        {
          "data": {
            "text/html": [
              "<pre style=\"white-space:pre;overflow-x:auto;line-height:normal;font-family:Menlo,'DejaVu Sans Mono',consolas,'Courier New',monospace\">Pred: `anove` :: Truth: `anyone`\n",
              "</pre>\n"
            ],
            "text/plain": [
              "Pred: `anove` :: Truth: `anyone`\n"
            ]
          },
          "metadata": {},
          "output_type": "display_data"
        },
        {
          "data": {
            "text/html": [
              "<pre style=\"white-space:pre;overflow-x:auto;line-height:normal;font-family:Menlo,'DejaVu Sans Mono',consolas,'Courier New',monospace\">Pred: `sie` :: Truth: `size`\n",
              "</pre>\n"
            ],
            "text/plain": [
              "Pred: `sie` :: Truth: `size`\n"
            ]
          },
          "metadata": {},
          "output_type": "display_data"
        },
        {
          "data": {
            "text/html": [
              "<pre style=\"white-space:pre;overflow-x:auto;line-height:normal;font-family:Menlo,'DejaVu Sans Mono',consolas,'Courier New',monospace\">Pred: `language` :: Truth: `language`\n",
              "</pre>\n"
            ],
            "text/plain": [
              "Pred: `language` :: Truth: `language`\n"
            ]
          },
          "metadata": {},
          "output_type": "display_data"
        },
        {
          "data": {
            "text/html": [
              "<pre style=\"white-space:pre;overflow-x:auto;line-height:normal;font-family:Menlo,'DejaVu Sans Mono',consolas,'Courier New',monospace\">Pred: `seem` :: Truth: `seem`\n",
              "</pre>\n"
            ],
            "text/plain": [
              "Pred: `seem` :: Truth: `seem`\n"
            ]
          },
          "metadata": {},
          "output_type": "display_data"
        },
        {
          "data": {
            "text/html": [
              "<pre style=\"white-space:pre;overflow-x:auto;line-height:normal;font-family:Menlo,'DejaVu Sans Mono',consolas,'Courier New',monospace\">\n",
              "</pre>\n"
            ],
            "text/plain": [
              "\n"
            ]
          },
          "metadata": {},
          "output_type": "display_data"
        },
        {
          "name": "stdout",
          "output_type": "stream",
          "text": [
            "EPOCH: 31.000  trn_char_acc: 0.997  trn_word_acc: 0.981  trn_loss: 0.077  val_loss: 0.160  val_char_acc: 0.958  val_word_acc: 0.847  (628.71s - 385.34s remaining)\n"
          ]
        },
        {
          "data": {
            "text/html": [
              "<pre style=\"white-space:pre;overflow-x:auto;line-height:normal;font-family:Menlo,'DejaVu Sans Mono',consolas,'Courier New',monospace\">\n",
              "</pre>\n"
            ],
            "text/plain": [
              "\n"
            ]
          },
          "metadata": {},
          "output_type": "display_data"
        },
        {
          "data": {
            "text/html": [
              "<pre style=\"white-space:pre;overflow-x:auto;line-height:normal;font-family:Menlo,'DejaVu Sans Mono',consolas,'Courier New',monospace\">Pred: `if` :: Truth: `if`\n",
              "</pre>\n"
            ],
            "text/plain": [
              "Pred: `if` :: Truth: `if`\n"
            ]
          },
          "metadata": {},
          "output_type": "display_data"
        },
        {
          "data": {
            "text/html": [
              "<pre style=\"white-space:pre;overflow-x:auto;line-height:normal;font-family:Menlo,'DejaVu Sans Mono',consolas,'Courier New',monospace\">Pred: `give` :: Truth: `give`\n",
              "</pre>\n"
            ],
            "text/plain": [
              "Pred: `give` :: Truth: `give`\n"
            ]
          },
          "metadata": {},
          "output_type": "display_data"
        },
        {
          "data": {
            "text/html": [
              "<pre style=\"white-space:pre;overflow-x:auto;line-height:normal;font-family:Menlo,'DejaVu Sans Mono',consolas,'Courier New',monospace\">Pred: `per` :: Truth: `per`\n",
              "</pre>\n"
            ],
            "text/plain": [
              "Pred: `per` :: Truth: `per`\n"
            ]
          },
          "metadata": {},
          "output_type": "display_data"
        },
        {
          "data": {
            "text/html": [
              "<pre style=\"white-space:pre;overflow-x:auto;line-height:normal;font-family:Menlo,'DejaVu Sans Mono',consolas,'Courier New',monospace\">Pred: `masket` :: Truth: `market`\n",
              "</pre>\n"
            ],
            "text/plain": [
              "Pred: `masket` :: Truth: `market`\n"
            ]
          },
          "metadata": {},
          "output_type": "display_data"
        },
        {
          "data": {
            "text/html": [
              "<pre style=\"white-space:pre;overflow-x:auto;line-height:normal;font-family:Menlo,'DejaVu Sans Mono',consolas,'Courier New',monospace\">Pred: `may` :: Truth: `may`\n",
              "</pre>\n"
            ],
            "text/plain": [
              "Pred: `may` :: Truth: `may`\n"
            ]
          },
          "metadata": {},
          "output_type": "display_data"
        },
        {
          "data": {
            "text/html": [
              "<pre style=\"white-space:pre;overflow-x:auto;line-height:normal;font-family:Menlo,'DejaVu Sans Mono',consolas,'Courier New',monospace\">\n",
              "</pre>\n"
            ],
            "text/plain": [
              "\n"
            ]
          },
          "metadata": {},
          "output_type": "display_data"
        },
        {
          "name": "stdout",
          "output_type": "stream",
          "text": [
            "EPOCH: 32.000  trn_char_acc: 0.997  trn_word_acc: 0.982  trn_loss: 0.074  val_loss: 0.162  val_char_acc: 0.956  val_word_acc: 0.837  (648.94s - 365.03s remaining)\n"
          ]
        },
        {
          "data": {
            "text/html": [
              "<pre style=\"white-space:pre;overflow-x:auto;line-height:normal;font-family:Menlo,'DejaVu Sans Mono',consolas,'Courier New',monospace\">\n",
              "</pre>\n"
            ],
            "text/plain": [
              "\n"
            ]
          },
          "metadata": {},
          "output_type": "display_data"
        },
        {
          "data": {
            "text/html": [
              "<pre style=\"white-space:pre;overflow-x:auto;line-height:normal;font-family:Menlo,'DejaVu Sans Mono',consolas,'Courier New',monospace\">Pred: `month` :: Truth: `month`\n",
              "</pre>\n"
            ],
            "text/plain": [
              "Pred: `month` :: Truth: `month`\n"
            ]
          },
          "metadata": {},
          "output_type": "display_data"
        },
        {
          "data": {
            "text/html": [
              "<pre style=\"white-space:pre;overflow-x:auto;line-height:normal;font-family:Menlo,'DejaVu Sans Mono',consolas,'Courier New',monospace\">Pred: `heavy` :: Truth: `heavy`\n",
              "</pre>\n"
            ],
            "text/plain": [
              "Pred: `heavy` :: Truth: `heavy`\n"
            ]
          },
          "metadata": {},
          "output_type": "display_data"
        },
        {
          "data": {
            "text/html": [
              "<pre style=\"white-space:pre;overflow-x:auto;line-height:normal;font-family:Menlo,'DejaVu Sans Mono',consolas,'Courier New',monospace\">Pred: `figure` :: Truth: `figure`\n",
              "</pre>\n"
            ],
            "text/plain": [
              "Pred: `figure` :: Truth: `figure`\n"
            ]
          },
          "metadata": {},
          "output_type": "display_data"
        },
        {
          "data": {
            "text/html": [
              "<pre style=\"white-space:pre;overflow-x:auto;line-height:normal;font-family:Menlo,'DejaVu Sans Mono',consolas,'Courier New',monospace\">Pred: `how` :: Truth: `how`\n",
              "</pre>\n"
            ],
            "text/plain": [
              "Pred: `how` :: Truth: `how`\n"
            ]
          },
          "metadata": {},
          "output_type": "display_data"
        },
        {
          "data": {
            "text/html": [
              "<pre style=\"white-space:pre;overflow-x:auto;line-height:normal;font-family:Menlo,'DejaVu Sans Mono',consolas,'Courier New',monospace\">Pred: `fast` :: Truth: `fast`\n",
              "</pre>\n"
            ],
            "text/plain": [
              "Pred: `fast` :: Truth: `fast`\n"
            ]
          },
          "metadata": {},
          "output_type": "display_data"
        },
        {
          "data": {
            "text/html": [
              "<pre style=\"white-space:pre;overflow-x:auto;line-height:normal;font-family:Menlo,'DejaVu Sans Mono',consolas,'Courier New',monospace\">\n",
              "</pre>\n"
            ],
            "text/plain": [
              "\n"
            ]
          },
          "metadata": {},
          "output_type": "display_data"
        },
        {
          "name": "stdout",
          "output_type": "stream",
          "text": [
            "EPOCH: 33.000  trn_char_acc: 0.997  trn_word_acc: 0.982  trn_loss: 0.075  val_loss: 0.174  val_char_acc: 0.958  val_word_acc: 0.844  (669.34s - 344.81s remaining)\n"
          ]
        },
        {
          "data": {
            "text/html": [
              "<pre style=\"white-space:pre;overflow-x:auto;line-height:normal;font-family:Menlo,'DejaVu Sans Mono',consolas,'Courier New',monospace\">\n",
              "</pre>\n"
            ],
            "text/plain": [
              "\n"
            ]
          },
          "metadata": {},
          "output_type": "display_data"
        },
        {
          "data": {
            "text/html": [
              "<pre style=\"white-space:pre;overflow-x:auto;line-height:normal;font-family:Menlo,'DejaVu Sans Mono',consolas,'Courier New',monospace\">Pred: `hatel` :: Truth: `hotel`\n",
              "</pre>\n"
            ],
            "text/plain": [
              "Pred: `hatel` :: Truth: `hotel`\n"
            ]
          },
          "metadata": {},
          "output_type": "display_data"
        },
        {
          "data": {
            "text/html": [
              "<pre style=\"white-space:pre;overflow-x:auto;line-height:normal;font-family:Menlo,'DejaVu Sans Mono',consolas,'Courier New',monospace\">Pred: `minute` :: Truth: `minute`\n",
              "</pre>\n"
            ],
            "text/plain": [
              "Pred: `minute` :: Truth: `minute`\n"
            ]
          },
          "metadata": {},
          "output_type": "display_data"
        },
        {
          "data": {
            "text/html": [
              "<pre style=\"white-space:pre;overflow-x:auto;line-height:normal;font-family:Menlo,'DejaVu Sans Mono',consolas,'Courier New',monospace\">Pred: `push` :: Truth: `push`\n",
              "</pre>\n"
            ],
            "text/plain": [
              "Pred: `push` :: Truth: `push`\n"
            ]
          },
          "metadata": {},
          "output_type": "display_data"
        },
        {
          "data": {
            "text/html": [
              "<pre style=\"white-space:pre;overflow-x:auto;line-height:normal;font-family:Menlo,'DejaVu Sans Mono',consolas,'Courier New',monospace\">Pred: `paper` :: Truth: `paper`\n",
              "</pre>\n"
            ],
            "text/plain": [
              "Pred: `paper` :: Truth: `paper`\n"
            ]
          },
          "metadata": {},
          "output_type": "display_data"
        },
        {
          "data": {
            "text/html": [
              "<pre style=\"white-space:pre;overflow-x:auto;line-height:normal;font-family:Menlo,'DejaVu Sans Mono',consolas,'Courier New',monospace\">Pred: `staff` :: Truth: `staff`\n",
              "</pre>\n"
            ],
            "text/plain": [
              "Pred: `staff` :: Truth: `staff`\n"
            ]
          },
          "metadata": {},
          "output_type": "display_data"
        },
        {
          "data": {
            "text/html": [
              "<pre style=\"white-space:pre;overflow-x:auto;line-height:normal;font-family:Menlo,'DejaVu Sans Mono',consolas,'Courier New',monospace\">\n",
              "</pre>\n"
            ],
            "text/plain": [
              "\n"
            ]
          },
          "metadata": {},
          "output_type": "display_data"
        },
        {
          "name": "stdout",
          "output_type": "stream",
          "text": [
            "EPOCH: 34.000  trn_char_acc: 0.997  trn_word_acc: 0.985  trn_loss: 0.066  val_loss: 0.165  val_char_acc: 0.959  val_word_acc: 0.848  (689.60s - 324.52s remaining)\n"
          ]
        },
        {
          "data": {
            "text/html": [
              "<pre style=\"white-space:pre;overflow-x:auto;line-height:normal;font-family:Menlo,'DejaVu Sans Mono',consolas,'Courier New',monospace\">\n",
              "</pre>\n"
            ],
            "text/plain": [
              "\n"
            ]
          },
          "metadata": {},
          "output_type": "display_data"
        },
        {
          "data": {
            "text/html": [
              "<pre style=\"white-space:pre;overflow-x:auto;line-height:normal;font-family:Menlo,'DejaVu Sans Mono',consolas,'Courier New',monospace\">Pred: `TV` :: Truth: `TV`\n",
              "</pre>\n"
            ],
            "text/plain": [
              "Pred: `TV` :: Truth: `TV`\n"
            ]
          },
          "metadata": {},
          "output_type": "display_data"
        },
        {
          "data": {
            "text/html": [
              "<pre style=\"white-space:pre;overflow-x:auto;line-height:normal;font-family:Menlo,'DejaVu Sans Mono',consolas,'Courier New',monospace\">Pred: `middle` :: Truth: `middle`\n",
              "</pre>\n"
            ],
            "text/plain": [
              "Pred: `middle` :: Truth: `middle`\n"
            ]
          },
          "metadata": {},
          "output_type": "display_data"
        },
        {
          "data": {
            "text/html": [
              "<pre style=\"white-space:pre;overflow-x:auto;line-height:normal;font-family:Menlo,'DejaVu Sans Mono',consolas,'Courier New',monospace\">Pred: `wish` :: Truth: `wish`\n",
              "</pre>\n"
            ],
            "text/plain": [
              "Pred: `wish` :: Truth: `wish`\n"
            ]
          },
          "metadata": {},
          "output_type": "display_data"
        },
        {
          "data": {
            "text/html": [
              "<pre style=\"white-space:pre;overflow-x:auto;line-height:normal;font-family:Menlo,'DejaVu Sans Mono',consolas,'Courier New',monospace\">Pred: `low` :: Truth: `low`\n",
              "</pre>\n"
            ],
            "text/plain": [
              "Pred: `low` :: Truth: `low`\n"
            ]
          },
          "metadata": {},
          "output_type": "display_data"
        },
        {
          "data": {
            "text/html": [
              "<pre style=\"white-space:pre;overflow-x:auto;line-height:normal;font-family:Menlo,'DejaVu Sans Mono',consolas,'Courier New',monospace\">Pred: `design` :: Truth: `design`\n",
              "</pre>\n"
            ],
            "text/plain": [
              "Pred: `design` :: Truth: `design`\n"
            ]
          },
          "metadata": {},
          "output_type": "display_data"
        },
        {
          "data": {
            "text/html": [
              "<pre style=\"white-space:pre;overflow-x:auto;line-height:normal;font-family:Menlo,'DejaVu Sans Mono',consolas,'Courier New',monospace\">\n",
              "</pre>\n"
            ],
            "text/plain": [
              "\n"
            ]
          },
          "metadata": {},
          "output_type": "display_data"
        },
        {
          "name": "stdout",
          "output_type": "stream",
          "text": [
            "EPOCH: 35.000  trn_char_acc: 0.997  trn_word_acc: 0.985  trn_loss: 0.067  val_loss: 0.157  val_char_acc: 0.961  val_word_acc: 0.853  (709.96s - 304.27s remaining)\n"
          ]
        },
        {
          "data": {
            "text/html": [
              "<pre style=\"white-space:pre;overflow-x:auto;line-height:normal;font-family:Menlo,'DejaVu Sans Mono',consolas,'Courier New',monospace\">\n",
              "</pre>\n"
            ],
            "text/plain": [
              "\n"
            ]
          },
          "metadata": {},
          "output_type": "display_data"
        },
        {
          "data": {
            "text/html": [
              "<pre style=\"white-space:pre;overflow-x:auto;line-height:normal;font-family:Menlo,'DejaVu Sans Mono',consolas,'Courier New',monospace\">Pred: `throw` :: Truth: `throw`\n",
              "</pre>\n"
            ],
            "text/plain": [
              "Pred: `throw` :: Truth: `throw`\n"
            ]
          },
          "metadata": {},
          "output_type": "display_data"
        },
        {
          "data": {
            "text/html": [
              "<pre style=\"white-space:pre;overflow-x:auto;line-height:normal;font-family:Menlo,'DejaVu Sans Mono',consolas,'Courier New',monospace\">Pred: `child` :: Truth: `child`\n",
              "</pre>\n"
            ],
            "text/plain": [
              "Pred: `child` :: Truth: `child`\n"
            ]
          },
          "metadata": {},
          "output_type": "display_data"
        },
        {
          "data": {
            "text/html": [
              "<pre style=\"white-space:pre;overflow-x:auto;line-height:normal;font-family:Menlo,'DejaVu Sans Mono',consolas,'Courier New',monospace\">Pred: `themselves` :: Truth: `themselves`\n",
              "</pre>\n"
            ],
            "text/plain": [
              "Pred: `themselves` :: Truth: `themselves`\n"
            ]
          },
          "metadata": {},
          "output_type": "display_data"
        },
        {
          "data": {
            "text/html": [
              "<pre style=\"white-space:pre;overflow-x:auto;line-height:normal;font-family:Menlo,'DejaVu Sans Mono',consolas,'Courier New',monospace\">Pred: `per` :: Truth: `per`\n",
              "</pre>\n"
            ],
            "text/plain": [
              "Pred: `per` :: Truth: `per`\n"
            ]
          },
          "metadata": {},
          "output_type": "display_data"
        },
        {
          "data": {
            "text/html": [
              "<pre style=\"white-space:pre;overflow-x:auto;line-height:normal;font-family:Menlo,'DejaVu Sans Mono',consolas,'Courier New',monospace\">Pred: `first` :: Truth: `first`\n",
              "</pre>\n"
            ],
            "text/plain": [
              "Pred: `first` :: Truth: `first`\n"
            ]
          },
          "metadata": {},
          "output_type": "display_data"
        },
        {
          "data": {
            "text/html": [
              "<pre style=\"white-space:pre;overflow-x:auto;line-height:normal;font-family:Menlo,'DejaVu Sans Mono',consolas,'Courier New',monospace\">\n",
              "</pre>\n"
            ],
            "text/plain": [
              "\n"
            ]
          },
          "metadata": {},
          "output_type": "display_data"
        },
        {
          "name": "stdout",
          "output_type": "stream",
          "text": [
            "EPOCH: 36.000  trn_char_acc: 0.997  trn_word_acc: 0.984  trn_loss: 0.069  val_loss: 0.165  val_char_acc: 0.959  val_word_acc: 0.847  (730.32s - 284.01s remaining)\n"
          ]
        },
        {
          "data": {
            "text/html": [
              "<pre style=\"white-space:pre;overflow-x:auto;line-height:normal;font-family:Menlo,'DejaVu Sans Mono',consolas,'Courier New',monospace\">\n",
              "</pre>\n"
            ],
            "text/plain": [
              "\n"
            ]
          },
          "metadata": {},
          "output_type": "display_data"
        },
        {
          "data": {
            "text/html": [
              "<pre style=\"white-space:pre;overflow-x:auto;line-height:normal;font-family:Menlo,'DejaVu Sans Mono',consolas,'Courier New',monospace\">Pred: `open` :: Truth: `open`\n",
              "</pre>\n"
            ],
            "text/plain": [
              "Pred: `open` :: Truth: `open`\n"
            ]
          },
          "metadata": {},
          "output_type": "display_data"
        },
        {
          "data": {
            "text/html": [
              "<pre style=\"white-space:pre;overflow-x:auto;line-height:normal;font-family:Menlo,'DejaVu Sans Mono',consolas,'Courier New',monospace\">Pred: `statment` :: Truth: `statement`\n",
              "</pre>\n"
            ],
            "text/plain": [
              "Pred: `statment` :: Truth: `statement`\n"
            ]
          },
          "metadata": {},
          "output_type": "display_data"
        },
        {
          "data": {
            "text/html": [
              "<pre style=\"white-space:pre;overflow-x:auto;line-height:normal;font-family:Menlo,'DejaVu Sans Mono',consolas,'Courier New',monospace\">Pred: `sound` :: Truth: `sound`\n",
              "</pre>\n"
            ],
            "text/plain": [
              "Pred: `sound` :: Truth: `sound`\n"
            ]
          },
          "metadata": {},
          "output_type": "display_data"
        },
        {
          "data": {
            "text/html": [
              "<pre style=\"white-space:pre;overflow-x:auto;line-height:normal;font-family:Menlo,'DejaVu Sans Mono',consolas,'Courier New',monospace\">Pred: `media` :: Truth: `media`\n",
              "</pre>\n"
            ],
            "text/plain": [
              "Pred: `media` :: Truth: `media`\n"
            ]
          },
          "metadata": {},
          "output_type": "display_data"
        },
        {
          "data": {
            "text/html": [
              "<pre style=\"white-space:pre;overflow-x:auto;line-height:normal;font-family:Menlo,'DejaVu Sans Mono',consolas,'Courier New',monospace\">Pred: `either` :: Truth: `either`\n",
              "</pre>\n"
            ],
            "text/plain": [
              "Pred: `either` :: Truth: `either`\n"
            ]
          },
          "metadata": {},
          "output_type": "display_data"
        },
        {
          "data": {
            "text/html": [
              "<pre style=\"white-space:pre;overflow-x:auto;line-height:normal;font-family:Menlo,'DejaVu Sans Mono',consolas,'Courier New',monospace\">\n",
              "</pre>\n"
            ],
            "text/plain": [
              "\n"
            ]
          },
          "metadata": {},
          "output_type": "display_data"
        },
        {
          "name": "stdout",
          "output_type": "stream",
          "text": [
            "EPOCH: 37.000  trn_char_acc: 0.998  trn_word_acc: 0.986  trn_loss: 0.066  val_loss: 0.161  val_char_acc: 0.962  val_word_acc: 0.856  (750.60s - 263.72s remaining)\n"
          ]
        },
        {
          "data": {
            "text/html": [
              "<pre style=\"white-space:pre;overflow-x:auto;line-height:normal;font-family:Menlo,'DejaVu Sans Mono',consolas,'Courier New',monospace\">\n",
              "</pre>\n"
            ],
            "text/plain": [
              "\n"
            ]
          },
          "metadata": {},
          "output_type": "display_data"
        },
        {
          "data": {
            "text/html": [
              "<pre style=\"white-space:pre;overflow-x:auto;line-height:normal;font-family:Menlo,'DejaVu Sans Mono',consolas,'Courier New',monospace\">Pred: `fund` :: Truth: `fund`\n",
              "</pre>\n"
            ],
            "text/plain": [
              "Pred: `fund` :: Truth: `fund`\n"
            ]
          },
          "metadata": {},
          "output_type": "display_data"
        },
        {
          "data": {
            "text/html": [
              "<pre style=\"white-space:pre;overflow-x:auto;line-height:normal;font-family:Menlo,'DejaVu Sans Mono',consolas,'Courier New',monospace\">Pred: `important` :: Truth: `important`\n",
              "</pre>\n"
            ],
            "text/plain": [
              "Pred: `important` :: Truth: `important`\n"
            ]
          },
          "metadata": {},
          "output_type": "display_data"
        },
        {
          "data": {
            "text/html": [
              "<pre style=\"white-space:pre;overflow-x:auto;line-height:normal;font-family:Menlo,'DejaVu Sans Mono',consolas,'Courier New',monospace\">Pred: `PM` :: Truth: `PM`\n",
              "</pre>\n"
            ],
            "text/plain": [
              "Pred: `PM` :: Truth: `PM`\n"
            ]
          },
          "metadata": {},
          "output_type": "display_data"
        },
        {
          "data": {
            "text/html": [
              "<pre style=\"white-space:pre;overflow-x:auto;line-height:normal;font-family:Menlo,'DejaVu Sans Mono',consolas,'Courier New',monospace\">Pred: `argue` :: Truth: `argue`\n",
              "</pre>\n"
            ],
            "text/plain": [
              "Pred: `argue` :: Truth: `argue`\n"
            ]
          },
          "metadata": {},
          "output_type": "display_data"
        },
        {
          "data": {
            "text/html": [
              "<pre style=\"white-space:pre;overflow-x:auto;line-height:normal;font-family:Menlo,'DejaVu Sans Mono',consolas,'Courier New',monospace\">Pred: `full` :: Truth: `full`\n",
              "</pre>\n"
            ],
            "text/plain": [
              "Pred: `full` :: Truth: `full`\n"
            ]
          },
          "metadata": {},
          "output_type": "display_data"
        },
        {
          "data": {
            "text/html": [
              "<pre style=\"white-space:pre;overflow-x:auto;line-height:normal;font-family:Menlo,'DejaVu Sans Mono',consolas,'Courier New',monospace\">\n",
              "</pre>\n"
            ],
            "text/plain": [
              "\n"
            ]
          },
          "metadata": {},
          "output_type": "display_data"
        },
        {
          "name": "stdout",
          "output_type": "stream",
          "text": [
            "EPOCH: 38.000  trn_char_acc: 0.998  trn_word_acc: 0.988  trn_loss: 0.061  val_loss: 0.159  val_char_acc: 0.960  val_word_acc: 0.855  (770.79s - 243.41s remaining)\n"
          ]
        },
        {
          "data": {
            "text/html": [
              "<pre style=\"white-space:pre;overflow-x:auto;line-height:normal;font-family:Menlo,'DejaVu Sans Mono',consolas,'Courier New',monospace\">\n",
              "</pre>\n"
            ],
            "text/plain": [
              "\n"
            ]
          },
          "metadata": {},
          "output_type": "display_data"
        },
        {
          "data": {
            "text/html": [
              "<pre style=\"white-space:pre;overflow-x:auto;line-height:normal;font-family:Menlo,'DejaVu Sans Mono',consolas,'Courier New',monospace\">Pred: `reality` :: Truth: `reality`\n",
              "</pre>\n"
            ],
            "text/plain": [
              "Pred: `reality` :: Truth: `reality`\n"
            ]
          },
          "metadata": {},
          "output_type": "display_data"
        },
        {
          "data": {
            "text/html": [
              "<pre style=\"white-space:pre;overflow-x:auto;line-height:normal;font-family:Menlo,'DejaVu Sans Mono',consolas,'Courier New',monospace\">Pred: `Mr` :: Truth: `Mr`\n",
              "</pre>\n"
            ],
            "text/plain": [
              "Pred: `Mr` :: Truth: `Mr`\n"
            ]
          },
          "metadata": {},
          "output_type": "display_data"
        },
        {
          "data": {
            "text/html": [
              "<pre style=\"white-space:pre;overflow-x:auto;line-height:normal;font-family:Menlo,'DejaVu Sans Mono',consolas,'Courier New',monospace\">Pred: `whom` :: Truth: `whom`\n",
              "</pre>\n"
            ],
            "text/plain": [
              "Pred: `whom` :: Truth: `whom`\n"
            ]
          },
          "metadata": {},
          "output_type": "display_data"
        },
        {
          "data": {
            "text/html": [
              "<pre style=\"white-space:pre;overflow-x:auto;line-height:normal;font-family:Menlo,'DejaVu Sans Mono',consolas,'Courier New',monospace\">Pred: `item` :: Truth: `item`\n",
              "</pre>\n"
            ],
            "text/plain": [
              "Pred: `item` :: Truth: `item`\n"
            ]
          },
          "metadata": {},
          "output_type": "display_data"
        },
        {
          "data": {
            "text/html": [
              "<pre style=\"white-space:pre;overflow-x:auto;line-height:normal;font-family:Menlo,'DejaVu Sans Mono',consolas,'Courier New',monospace\">Pred: `memory` :: Truth: `memory`\n",
              "</pre>\n"
            ],
            "text/plain": [
              "Pred: `memory` :: Truth: `memory`\n"
            ]
          },
          "metadata": {},
          "output_type": "display_data"
        },
        {
          "data": {
            "text/html": [
              "<pre style=\"white-space:pre;overflow-x:auto;line-height:normal;font-family:Menlo,'DejaVu Sans Mono',consolas,'Courier New',monospace\">\n",
              "</pre>\n"
            ],
            "text/plain": [
              "\n"
            ]
          },
          "metadata": {},
          "output_type": "display_data"
        },
        {
          "name": "stdout",
          "output_type": "stream",
          "text": [
            "EPOCH: 39.000  trn_char_acc: 0.998  trn_word_acc: 0.988  trn_loss: 0.062  val_loss: 0.149  val_char_acc: 0.960  val_word_acc: 0.857  (790.92s - 223.08s remaining)\n"
          ]
        },
        {
          "data": {
            "text/html": [
              "<pre style=\"white-space:pre;overflow-x:auto;line-height:normal;font-family:Menlo,'DejaVu Sans Mono',consolas,'Courier New',monospace\">\n",
              "</pre>\n"
            ],
            "text/plain": [
              "\n"
            ]
          },
          "metadata": {},
          "output_type": "display_data"
        },
        {
          "data": {
            "text/html": [
              "<pre style=\"white-space:pre;overflow-x:auto;line-height:normal;font-family:Menlo,'DejaVu Sans Mono',consolas,'Courier New',monospace\">Pred: `ouwr` :: Truth: `our`\n",
              "</pre>\n"
            ],
            "text/plain": [
              "Pred: `ouwr` :: Truth: `our`\n"
            ]
          },
          "metadata": {},
          "output_type": "display_data"
        },
        {
          "data": {
            "text/html": [
              "<pre style=\"white-space:pre;overflow-x:auto;line-height:normal;font-family:Menlo,'DejaVu Sans Mono',consolas,'Courier New',monospace\">Pred: `item` :: Truth: `item`\n",
              "</pre>\n"
            ],
            "text/plain": [
              "Pred: `item` :: Truth: `item`\n"
            ]
          },
          "metadata": {},
          "output_type": "display_data"
        },
        {
          "data": {
            "text/html": [
              "<pre style=\"white-space:pre;overflow-x:auto;line-height:normal;font-family:Menlo,'DejaVu Sans Mono',consolas,'Courier New',monospace\">Pred: `position` :: Truth: `position`\n",
              "</pre>\n"
            ],
            "text/plain": [
              "Pred: `position` :: Truth: `position`\n"
            ]
          },
          "metadata": {},
          "output_type": "display_data"
        },
        {
          "data": {
            "text/html": [
              "<pre style=\"white-space:pre;overflow-x:auto;line-height:normal;font-family:Menlo,'DejaVu Sans Mono',consolas,'Courier New',monospace\">Pred: `late` :: Truth: `late`\n",
              "</pre>\n"
            ],
            "text/plain": [
              "Pred: `late` :: Truth: `late`\n"
            ]
          },
          "metadata": {},
          "output_type": "display_data"
        },
        {
          "data": {
            "text/html": [
              "<pre style=\"white-space:pre;overflow-x:auto;line-height:normal;font-family:Menlo,'DejaVu Sans Mono',consolas,'Courier New',monospace\">Pred: `pay` :: Truth: `pay`\n",
              "</pre>\n"
            ],
            "text/plain": [
              "Pred: `pay` :: Truth: `pay`\n"
            ]
          },
          "metadata": {},
          "output_type": "display_data"
        },
        {
          "data": {
            "text/html": [
              "<pre style=\"white-space:pre;overflow-x:auto;line-height:normal;font-family:Menlo,'DejaVu Sans Mono',consolas,'Courier New',monospace\">\n",
              "</pre>\n"
            ],
            "text/plain": [
              "\n"
            ]
          },
          "metadata": {},
          "output_type": "display_data"
        },
        {
          "name": "stdout",
          "output_type": "stream",
          "text": [
            "EPOCH: 40.000  trn_char_acc: 0.998  trn_word_acc: 0.989  trn_loss: 0.056  val_loss: 0.158  val_char_acc: 0.960  val_word_acc: 0.857  (811.21s - 202.80s remaining)\n"
          ]
        },
        {
          "data": {
            "text/html": [
              "<pre style=\"white-space:pre;overflow-x:auto;line-height:normal;font-family:Menlo,'DejaVu Sans Mono',consolas,'Courier New',monospace\">\n",
              "</pre>\n"
            ],
            "text/plain": [
              "\n"
            ]
          },
          "metadata": {},
          "output_type": "display_data"
        },
        {
          "data": {
            "text/html": [
              "<pre style=\"white-space:pre;overflow-x:auto;line-height:normal;font-family:Menlo,'DejaVu Sans Mono',consolas,'Courier New',monospace\">Pred: `cause` :: Truth: `cause`\n",
              "</pre>\n"
            ],
            "text/plain": [
              "Pred: `cause` :: Truth: `cause`\n"
            ]
          },
          "metadata": {},
          "output_type": "display_data"
        },
        {
          "data": {
            "text/html": [
              "<pre style=\"white-space:pre;overflow-x:auto;line-height:normal;font-family:Menlo,'DejaVu Sans Mono',consolas,'Courier New',monospace\">Pred: `method` :: Truth: `method`\n",
              "</pre>\n"
            ],
            "text/plain": [
              "Pred: `method` :: Truth: `method`\n"
            ]
          },
          "metadata": {},
          "output_type": "display_data"
        },
        {
          "data": {
            "text/html": [
              "<pre style=\"white-space:pre;overflow-x:auto;line-height:normal;font-family:Menlo,'DejaVu Sans Mono',consolas,'Courier New',monospace\">Pred: `same` :: Truth: `same`\n",
              "</pre>\n"
            ],
            "text/plain": [
              "Pred: `same` :: Truth: `same`\n"
            ]
          },
          "metadata": {},
          "output_type": "display_data"
        },
        {
          "data": {
            "text/html": [
              "<pre style=\"white-space:pre;overflow-x:auto;line-height:normal;font-family:Menlo,'DejaVu Sans Mono',consolas,'Courier New',monospace\">Pred: `car` :: Truth: `car`\n",
              "</pre>\n"
            ],
            "text/plain": [
              "Pred: `car` :: Truth: `car`\n"
            ]
          },
          "metadata": {},
          "output_type": "display_data"
        },
        {
          "data": {
            "text/html": [
              "<pre style=\"white-space:pre;overflow-x:auto;line-height:normal;font-family:Menlo,'DejaVu Sans Mono',consolas,'Courier New',monospace\">Pred: `change` :: Truth: `change`\n",
              "</pre>\n"
            ],
            "text/plain": [
              "Pred: `change` :: Truth: `change`\n"
            ]
          },
          "metadata": {},
          "output_type": "display_data"
        },
        {
          "data": {
            "text/html": [
              "<pre style=\"white-space:pre;overflow-x:auto;line-height:normal;font-family:Menlo,'DejaVu Sans Mono',consolas,'Courier New',monospace\">\n",
              "</pre>\n"
            ],
            "text/plain": [
              "\n"
            ]
          },
          "metadata": {},
          "output_type": "display_data"
        },
        {
          "name": "stdout",
          "output_type": "stream",
          "text": [
            "EPOCH: 41.000  trn_char_acc: 0.998  trn_word_acc: 0.989  trn_loss: 0.059  val_loss: 0.163  val_char_acc: 0.961  val_word_acc: 0.855  (831.51s - 182.53s remaining)\n"
          ]
        },
        {
          "data": {
            "text/html": [
              "<pre style=\"white-space:pre;overflow-x:auto;line-height:normal;font-family:Menlo,'DejaVu Sans Mono',consolas,'Courier New',monospace\">\n",
              "</pre>\n"
            ],
            "text/plain": [
              "\n"
            ]
          },
          "metadata": {},
          "output_type": "display_data"
        },
        {
          "data": {
            "text/html": [
              "<pre style=\"white-space:pre;overflow-x:auto;line-height:normal;font-family:Menlo,'DejaVu Sans Mono',consolas,'Courier New',monospace\">Pred: `chair` :: Truth: `chair`\n",
              "</pre>\n"
            ],
            "text/plain": [
              "Pred: `chair` :: Truth: `chair`\n"
            ]
          },
          "metadata": {},
          "output_type": "display_data"
        },
        {
          "data": {
            "text/html": [
              "<pre style=\"white-space:pre;overflow-x:auto;line-height:normal;font-family:Menlo,'DejaVu Sans Mono',consolas,'Courier New',monospace\">Pred: `issue` :: Truth: `issue`\n",
              "</pre>\n"
            ],
            "text/plain": [
              "Pred: `issue` :: Truth: `issue`\n"
            ]
          },
          "metadata": {},
          "output_type": "display_data"
        },
        {
          "data": {
            "text/html": [
              "<pre style=\"white-space:pre;overflow-x:auto;line-height:normal;font-family:Menlo,'DejaVu Sans Mono',consolas,'Courier New',monospace\">Pred: `positicn` :: Truth: `position`\n",
              "</pre>\n"
            ],
            "text/plain": [
              "Pred: `positicn` :: Truth: `position`\n"
            ]
          },
          "metadata": {},
          "output_type": "display_data"
        },
        {
          "data": {
            "text/html": [
              "<pre style=\"white-space:pre;overflow-x:auto;line-height:normal;font-family:Menlo,'DejaVu Sans Mono',consolas,'Courier New',monospace\">Pred: `stydent` :: Truth: `student`\n",
              "</pre>\n"
            ],
            "text/plain": [
              "Pred: `stydent` :: Truth: `student`\n"
            ]
          },
          "metadata": {},
          "output_type": "display_data"
        },
        {
          "data": {
            "text/html": [
              "<pre style=\"white-space:pre;overflow-x:auto;line-height:normal;font-family:Menlo,'DejaVu Sans Mono',consolas,'Courier New',monospace\">Pred: `name` :: Truth: `name`\n",
              "</pre>\n"
            ],
            "text/plain": [
              "Pred: `name` :: Truth: `name`\n"
            ]
          },
          "metadata": {},
          "output_type": "display_data"
        },
        {
          "data": {
            "text/html": [
              "<pre style=\"white-space:pre;overflow-x:auto;line-height:normal;font-family:Menlo,'DejaVu Sans Mono',consolas,'Courier New',monospace\">\n",
              "</pre>\n"
            ],
            "text/plain": [
              "\n"
            ]
          },
          "metadata": {},
          "output_type": "display_data"
        },
        {
          "name": "stdout",
          "output_type": "stream",
          "text": [
            "EPOCH: 42.000  trn_char_acc: 0.998  trn_word_acc: 0.990  trn_loss: 0.055  val_loss: 0.153  val_char_acc: 0.961  val_word_acc: 0.860  (851.83s - 162.25s remaining)\n"
          ]
        },
        {
          "data": {
            "text/html": [
              "<pre style=\"white-space:pre;overflow-x:auto;line-height:normal;font-family:Menlo,'DejaVu Sans Mono',consolas,'Courier New',monospace\">\n",
              "</pre>\n"
            ],
            "text/plain": [
              "\n"
            ]
          },
          "metadata": {},
          "output_type": "display_data"
        },
        {
          "data": {
            "text/html": [
              "<pre style=\"white-space:pre;overflow-x:auto;line-height:normal;font-family:Menlo,'DejaVu Sans Mono',consolas,'Courier New',monospace\">Pred: `behavior` :: Truth: `behavior`\n",
              "</pre>\n"
            ],
            "text/plain": [
              "Pred: `behavior` :: Truth: `behavior`\n"
            ]
          },
          "metadata": {},
          "output_type": "display_data"
        },
        {
          "data": {
            "text/html": [
              "<pre style=\"white-space:pre;overflow-x:auto;line-height:normal;font-family:Menlo,'DejaVu Sans Mono',consolas,'Courier New',monospace\">Pred: `language` :: Truth: `language`\n",
              "</pre>\n"
            ],
            "text/plain": [
              "Pred: `language` :: Truth: `language`\n"
            ]
          },
          "metadata": {},
          "output_type": "display_data"
        },
        {
          "data": {
            "text/html": [
              "<pre style=\"white-space:pre;overflow-x:auto;line-height:normal;font-family:Menlo,'DejaVu Sans Mono',consolas,'Courier New',monospace\">Pred: `list` :: Truth: `list`\n",
              "</pre>\n"
            ],
            "text/plain": [
              "Pred: `list` :: Truth: `list`\n"
            ]
          },
          "metadata": {},
          "output_type": "display_data"
        },
        {
          "data": {
            "text/html": [
              "<pre style=\"white-space:pre;overflow-x:auto;line-height:normal;font-family:Menlo,'DejaVu Sans Mono',consolas,'Courier New',monospace\">Pred: `office` :: Truth: `office`\n",
              "</pre>\n"
            ],
            "text/plain": [
              "Pred: `office` :: Truth: `office`\n"
            ]
          },
          "metadata": {},
          "output_type": "display_data"
        },
        {
          "data": {
            "text/html": [
              "<pre style=\"white-space:pre;overflow-x:auto;line-height:normal;font-family:Menlo,'DejaVu Sans Mono',consolas,'Courier New',monospace\">Pred: `season` :: Truth: `season`\n",
              "</pre>\n"
            ],
            "text/plain": [
              "Pred: `season` :: Truth: `season`\n"
            ]
          },
          "metadata": {},
          "output_type": "display_data"
        },
        {
          "data": {
            "text/html": [
              "<pre style=\"white-space:pre;overflow-x:auto;line-height:normal;font-family:Menlo,'DejaVu Sans Mono',consolas,'Courier New',monospace\">\n",
              "</pre>\n"
            ],
            "text/plain": [
              "\n"
            ]
          },
          "metadata": {},
          "output_type": "display_data"
        },
        {
          "name": "stdout",
          "output_type": "stream",
          "text": [
            "EPOCH: 43.000  trn_char_acc: 0.999  trn_word_acc: 0.991  trn_loss: 0.054  val_loss: 0.160  val_char_acc: 0.962  val_word_acc: 0.862  (872.22s - 141.99s remaining)\n"
          ]
        },
        {
          "data": {
            "text/html": [
              "<pre style=\"white-space:pre;overflow-x:auto;line-height:normal;font-family:Menlo,'DejaVu Sans Mono',consolas,'Courier New',monospace\">\n",
              "</pre>\n"
            ],
            "text/plain": [
              "\n"
            ]
          },
          "metadata": {},
          "output_type": "display_data"
        },
        {
          "data": {
            "text/html": [
              "<pre style=\"white-space:pre;overflow-x:auto;line-height:normal;font-family:Menlo,'DejaVu Sans Mono',consolas,'Courier New',monospace\">Pred: `window` :: Truth: `window`\n",
              "</pre>\n"
            ],
            "text/plain": [
              "Pred: `window` :: Truth: `window`\n"
            ]
          },
          "metadata": {},
          "output_type": "display_data"
        },
        {
          "data": {
            "text/html": [
              "<pre style=\"white-space:pre;overflow-x:auto;line-height:normal;font-family:Menlo,'DejaVu Sans Mono',consolas,'Courier New',monospace\">Pred: `particlar` :: Truth: `particular`\n",
              "</pre>\n"
            ],
            "text/plain": [
              "Pred: `particlar` :: Truth: `particular`\n"
            ]
          },
          "metadata": {},
          "output_type": "display_data"
        },
        {
          "data": {
            "text/html": [
              "<pre style=\"white-space:pre;overflow-x:auto;line-height:normal;font-family:Menlo,'DejaVu Sans Mono',consolas,'Courier New',monospace\">Pred: `none` :: Truth: `none`\n",
              "</pre>\n"
            ],
            "text/plain": [
              "Pred: `none` :: Truth: `none`\n"
            ]
          },
          "metadata": {},
          "output_type": "display_data"
        },
        {
          "data": {
            "text/html": [
              "<pre style=\"white-space:pre;overflow-x:auto;line-height:normal;font-family:Menlo,'DejaVu Sans Mono',consolas,'Courier New',monospace\">Pred: `base` :: Truth: `base`\n",
              "</pre>\n"
            ],
            "text/plain": [
              "Pred: `base` :: Truth: `base`\n"
            ]
          },
          "metadata": {},
          "output_type": "display_data"
        },
        {
          "data": {
            "text/html": [
              "<pre style=\"white-space:pre;overflow-x:auto;line-height:normal;font-family:Menlo,'DejaVu Sans Mono',consolas,'Courier New',monospace\">Pred: `playr` :: Truth: `plan`\n",
              "</pre>\n"
            ],
            "text/plain": [
              "Pred: `playr` :: Truth: `plan`\n"
            ]
          },
          "metadata": {},
          "output_type": "display_data"
        },
        {
          "data": {
            "text/html": [
              "<pre style=\"white-space:pre;overflow-x:auto;line-height:normal;font-family:Menlo,'DejaVu Sans Mono',consolas,'Courier New',monospace\">\n",
              "</pre>\n"
            ],
            "text/plain": [
              "\n"
            ]
          },
          "metadata": {},
          "output_type": "display_data"
        },
        {
          "name": "stdout",
          "output_type": "stream",
          "text": [
            "EPOCH: 44.000  trn_char_acc: 0.998  trn_word_acc: 0.991  trn_loss: 0.054  val_loss: 0.165  val_char_acc: 0.961  val_word_acc: 0.856  (892.55s - 121.71s remaining)\n"
          ]
        },
        {
          "data": {
            "text/html": [
              "<pre style=\"white-space:pre;overflow-x:auto;line-height:normal;font-family:Menlo,'DejaVu Sans Mono',consolas,'Courier New',monospace\">\n",
              "</pre>\n"
            ],
            "text/plain": [
              "\n"
            ]
          },
          "metadata": {},
          "output_type": "display_data"
        },
        {
          "data": {
            "text/html": [
              "<pre style=\"white-space:pre;overflow-x:auto;line-height:normal;font-family:Menlo,'DejaVu Sans Mono',consolas,'Courier New',monospace\">Pred: `business` :: Truth: `business`\n",
              "</pre>\n"
            ],
            "text/plain": [
              "Pred: `business` :: Truth: `business`\n"
            ]
          },
          "metadata": {},
          "output_type": "display_data"
        },
        {
          "data": {
            "text/html": [
              "<pre style=\"white-space:pre;overflow-x:auto;line-height:normal;font-family:Menlo,'DejaVu Sans Mono',consolas,'Courier New',monospace\">Pred: `mean` :: Truth: `mean`\n",
              "</pre>\n"
            ],
            "text/plain": [
              "Pred: `mean` :: Truth: `mean`\n"
            ]
          },
          "metadata": {},
          "output_type": "display_data"
        },
        {
          "data": {
            "text/html": [
              "<pre style=\"white-space:pre;overflow-x:auto;line-height:normal;font-family:Menlo,'DejaVu Sans Mono',consolas,'Courier New',monospace\">Pred: `rest` :: Truth: `rest`\n",
              "</pre>\n"
            ],
            "text/plain": [
              "Pred: `rest` :: Truth: `rest`\n"
            ]
          },
          "metadata": {},
          "output_type": "display_data"
        },
        {
          "data": {
            "text/html": [
              "<pre style=\"white-space:pre;overflow-x:auto;line-height:normal;font-family:Menlo,'DejaVu Sans Mono',consolas,'Courier New',monospace\">Pred: `trial` :: Truth: `trial`\n",
              "</pre>\n"
            ],
            "text/plain": [
              "Pred: `trial` :: Truth: `trial`\n"
            ]
          },
          "metadata": {},
          "output_type": "display_data"
        },
        {
          "data": {
            "text/html": [
              "<pre style=\"white-space:pre;overflow-x:auto;line-height:normal;font-family:Menlo,'DejaVu Sans Mono',consolas,'Courier New',monospace\">Pred: `most` :: Truth: `most`\n",
              "</pre>\n"
            ],
            "text/plain": [
              "Pred: `most` :: Truth: `most`\n"
            ]
          },
          "metadata": {},
          "output_type": "display_data"
        },
        {
          "data": {
            "text/html": [
              "<pre style=\"white-space:pre;overflow-x:auto;line-height:normal;font-family:Menlo,'DejaVu Sans Mono',consolas,'Courier New',monospace\">\n",
              "</pre>\n"
            ],
            "text/plain": [
              "\n"
            ]
          },
          "metadata": {},
          "output_type": "display_data"
        },
        {
          "name": "stdout",
          "output_type": "stream",
          "text": [
            "EPOCH: 45.000  trn_char_acc: 0.999  trn_word_acc: 0.992  trn_loss: 0.053  val_loss: 0.150  val_char_acc: 0.962  val_word_acc: 0.862  (912.90s - 101.43s remaining)\n"
          ]
        },
        {
          "data": {
            "text/html": [
              "<pre style=\"white-space:pre;overflow-x:auto;line-height:normal;font-family:Menlo,'DejaVu Sans Mono',consolas,'Courier New',monospace\">\n",
              "</pre>\n"
            ],
            "text/plain": [
              "\n"
            ]
          },
          "metadata": {},
          "output_type": "display_data"
        },
        {
          "data": {
            "text/html": [
              "<pre style=\"white-space:pre;overflow-x:auto;line-height:normal;font-family:Menlo,'DejaVu Sans Mono',consolas,'Courier New',monospace\">Pred: `lot` :: Truth: `lot`\n",
              "</pre>\n"
            ],
            "text/plain": [
              "Pred: `lot` :: Truth: `lot`\n"
            ]
          },
          "metadata": {},
          "output_type": "display_data"
        },
        {
          "data": {
            "text/html": [
              "<pre style=\"white-space:pre;overflow-x:auto;line-height:normal;font-family:Menlo,'DejaVu Sans Mono',consolas,'Courier New',monospace\">Pred: `plant` :: Truth: `plant`\n",
              "</pre>\n"
            ],
            "text/plain": [
              "Pred: `plant` :: Truth: `plant`\n"
            ]
          },
          "metadata": {},
          "output_type": "display_data"
        },
        {
          "data": {
            "text/html": [
              "<pre style=\"white-space:pre;overflow-x:auto;line-height:normal;font-family:Menlo,'DejaVu Sans Mono',consolas,'Courier New',monospace\">Pred: `car` :: Truth: `can`\n",
              "</pre>\n"
            ],
            "text/plain": [
              "Pred: `car` :: Truth: `can`\n"
            ]
          },
          "metadata": {},
          "output_type": "display_data"
        },
        {
          "data": {
            "text/html": [
              "<pre style=\"white-space:pre;overflow-x:auto;line-height:normal;font-family:Menlo,'DejaVu Sans Mono',consolas,'Courier New',monospace\">Pred: `say` :: Truth: `say`\n",
              "</pre>\n"
            ],
            "text/plain": [
              "Pred: `say` :: Truth: `say`\n"
            ]
          },
          "metadata": {},
          "output_type": "display_data"
        },
        {
          "data": {
            "text/html": [
              "<pre style=\"white-space:pre;overflow-x:auto;line-height:normal;font-family:Menlo,'DejaVu Sans Mono',consolas,'Courier New',monospace\">Pred: `design` :: Truth: `design`\n",
              "</pre>\n"
            ],
            "text/plain": [
              "Pred: `design` :: Truth: `design`\n"
            ]
          },
          "metadata": {},
          "output_type": "display_data"
        },
        {
          "data": {
            "text/html": [
              "<pre style=\"white-space:pre;overflow-x:auto;line-height:normal;font-family:Menlo,'DejaVu Sans Mono',consolas,'Courier New',monospace\">\n",
              "</pre>\n"
            ],
            "text/plain": [
              "\n"
            ]
          },
          "metadata": {},
          "output_type": "display_data"
        },
        {
          "name": "stdout",
          "output_type": "stream",
          "text": [
            "EPOCH: 46.000  trn_char_acc: 0.999  trn_word_acc: 0.992  trn_loss: 0.051  val_loss: 0.159  val_char_acc: 0.960  val_word_acc: 0.852  (933.39s - 81.16s remaining)\n"
          ]
        },
        {
          "data": {
            "text/html": [
              "<pre style=\"white-space:pre;overflow-x:auto;line-height:normal;font-family:Menlo,'DejaVu Sans Mono',consolas,'Courier New',monospace\">\n",
              "</pre>\n"
            ],
            "text/plain": [
              "\n"
            ]
          },
          "metadata": {},
          "output_type": "display_data"
        },
        {
          "data": {
            "text/html": [
              "<pre style=\"white-space:pre;overflow-x:auto;line-height:normal;font-family:Menlo,'DejaVu Sans Mono',consolas,'Courier New',monospace\">Pred: `growth` :: Truth: `growth`\n",
              "</pre>\n"
            ],
            "text/plain": [
              "Pred: `growth` :: Truth: `growth`\n"
            ]
          },
          "metadata": {},
          "output_type": "display_data"
        },
        {
          "data": {
            "text/html": [
              "<pre style=\"white-space:pre;overflow-x:auto;line-height:normal;font-family:Menlo,'DejaVu Sans Mono',consolas,'Courier New',monospace\">Pred: `internatioal` :: Truth: `international`\n",
              "</pre>\n"
            ],
            "text/plain": [
              "Pred: `internatioal` :: Truth: `international`\n"
            ]
          },
          "metadata": {},
          "output_type": "display_data"
        },
        {
          "data": {
            "text/html": [
              "<pre style=\"white-space:pre;overflow-x:auto;line-height:normal;font-family:Menlo,'DejaVu Sans Mono',consolas,'Courier New',monospace\">Pred: `spring` :: Truth: `spring`\n",
              "</pre>\n"
            ],
            "text/plain": [
              "Pred: `spring` :: Truth: `spring`\n"
            ]
          },
          "metadata": {},
          "output_type": "display_data"
        },
        {
          "data": {
            "text/html": [
              "<pre style=\"white-space:pre;overflow-x:auto;line-height:normal;font-family:Menlo,'DejaVu Sans Mono',consolas,'Courier New',monospace\">Pred: `hand` :: Truth: `hand`\n",
              "</pre>\n"
            ],
            "text/plain": [
              "Pred: `hand` :: Truth: `hand`\n"
            ]
          },
          "metadata": {},
          "output_type": "display_data"
        },
        {
          "data": {
            "text/html": [
              "<pre style=\"white-space:pre;overflow-x:auto;line-height:normal;font-family:Menlo,'DejaVu Sans Mono',consolas,'Courier New',monospace\">Pred: `enviromental` :: Truth: `environmental`\n",
              "</pre>\n"
            ],
            "text/plain": [
              "Pred: `enviromental` :: Truth: `environmental`\n"
            ]
          },
          "metadata": {},
          "output_type": "display_data"
        },
        {
          "data": {
            "text/html": [
              "<pre style=\"white-space:pre;overflow-x:auto;line-height:normal;font-family:Menlo,'DejaVu Sans Mono',consolas,'Courier New',monospace\">\n",
              "</pre>\n"
            ],
            "text/plain": [
              "\n"
            ]
          },
          "metadata": {},
          "output_type": "display_data"
        },
        {
          "name": "stdout",
          "output_type": "stream",
          "text": [
            "EPOCH: 47.000  trn_char_acc: 0.999  trn_word_acc: 0.993  trn_loss: 0.047  val_loss: 0.151  val_char_acc: 0.962  val_word_acc: 0.861  (953.76s - 60.88s remaining)\n"
          ]
        },
        {
          "data": {
            "text/html": [
              "<pre style=\"white-space:pre;overflow-x:auto;line-height:normal;font-family:Menlo,'DejaVu Sans Mono',consolas,'Courier New',monospace\">\n",
              "</pre>\n"
            ],
            "text/plain": [
              "\n"
            ]
          },
          "metadata": {},
          "output_type": "display_data"
        },
        {
          "data": {
            "text/html": [
              "<pre style=\"white-space:pre;overflow-x:auto;line-height:normal;font-family:Menlo,'DejaVu Sans Mono',consolas,'Courier New',monospace\">Pred: `street` :: Truth: `street`\n",
              "</pre>\n"
            ],
            "text/plain": [
              "Pred: `street` :: Truth: `street`\n"
            ]
          },
          "metadata": {},
          "output_type": "display_data"
        },
        {
          "data": {
            "text/html": [
              "<pre style=\"white-space:pre;overflow-x:auto;line-height:normal;font-family:Menlo,'DejaVu Sans Mono',consolas,'Courier New',monospace\">Pred: `lawyer` :: Truth: `lawyer`\n",
              "</pre>\n"
            ],
            "text/plain": [
              "Pred: `lawyer` :: Truth: `lawyer`\n"
            ]
          },
          "metadata": {},
          "output_type": "display_data"
        },
        {
          "data": {
            "text/html": [
              "<pre style=\"white-space:pre;overflow-x:auto;line-height:normal;font-family:Menlo,'DejaVu Sans Mono',consolas,'Courier New',monospace\">Pred: `wish` :: Truth: `wish`\n",
              "</pre>\n"
            ],
            "text/plain": [
              "Pred: `wish` :: Truth: `wish`\n"
            ]
          },
          "metadata": {},
          "output_type": "display_data"
        },
        {
          "data": {
            "text/html": [
              "<pre style=\"white-space:pre;overflow-x:auto;line-height:normal;font-family:Menlo,'DejaVu Sans Mono',consolas,'Courier New',monospace\">Pred: `not` :: Truth: `not`\n",
              "</pre>\n"
            ],
            "text/plain": [
              "Pred: `not` :: Truth: `not`\n"
            ]
          },
          "metadata": {},
          "output_type": "display_data"
        },
        {
          "data": {
            "text/html": [
              "<pre style=\"white-space:pre;overflow-x:auto;line-height:normal;font-family:Menlo,'DejaVu Sans Mono',consolas,'Courier New',monospace\">Pred: `create` :: Truth: `create`\n",
              "</pre>\n"
            ],
            "text/plain": [
              "Pred: `create` :: Truth: `create`\n"
            ]
          },
          "metadata": {},
          "output_type": "display_data"
        },
        {
          "data": {
            "text/html": [
              "<pre style=\"white-space:pre;overflow-x:auto;line-height:normal;font-family:Menlo,'DejaVu Sans Mono',consolas,'Courier New',monospace\">\n",
              "</pre>\n"
            ],
            "text/plain": [
              "\n"
            ]
          },
          "metadata": {},
          "output_type": "display_data"
        },
        {
          "name": "stdout",
          "output_type": "stream",
          "text": [
            "EPOCH: 48.000  trn_char_acc: 0.999  trn_word_acc: 0.993  trn_loss: 0.045  val_loss: 0.144  val_char_acc: 0.964  val_word_acc: 0.868  (974.11s - 40.59s remaining)\n"
          ]
        },
        {
          "data": {
            "text/html": [
              "<pre style=\"white-space:pre;overflow-x:auto;line-height:normal;font-family:Menlo,'DejaVu Sans Mono',consolas,'Courier New',monospace\">\n",
              "</pre>\n"
            ],
            "text/plain": [
              "\n"
            ]
          },
          "metadata": {},
          "output_type": "display_data"
        },
        {
          "data": {
            "text/html": [
              "<pre style=\"white-space:pre;overflow-x:auto;line-height:normal;font-family:Menlo,'DejaVu Sans Mono',consolas,'Courier New',monospace\">Pred: `simple` :: Truth: `simple`\n",
              "</pre>\n"
            ],
            "text/plain": [
              "Pred: `simple` :: Truth: `simple`\n"
            ]
          },
          "metadata": {},
          "output_type": "display_data"
        },
        {
          "data": {
            "text/html": [
              "<pre style=\"white-space:pre;overflow-x:auto;line-height:normal;font-family:Menlo,'DejaVu Sans Mono',consolas,'Courier New',monospace\">Pred: `with` :: Truth: `with`\n",
              "</pre>\n"
            ],
            "text/plain": [
              "Pred: `with` :: Truth: `with`\n"
            ]
          },
          "metadata": {},
          "output_type": "display_data"
        },
        {
          "data": {
            "text/html": [
              "<pre style=\"white-space:pre;overflow-x:auto;line-height:normal;font-family:Menlo,'DejaVu Sans Mono',consolas,'Courier New',monospace\">Pred: `hold` :: Truth: `hold`\n",
              "</pre>\n"
            ],
            "text/plain": [
              "Pred: `hold` :: Truth: `hold`\n"
            ]
          },
          "metadata": {},
          "output_type": "display_data"
        },
        {
          "data": {
            "text/html": [
              "<pre style=\"white-space:pre;overflow-x:auto;line-height:normal;font-family:Menlo,'DejaVu Sans Mono',consolas,'Courier New',monospace\">Pred: `information` :: Truth: `information`\n",
              "</pre>\n"
            ],
            "text/plain": [
              "Pred: `information` :: Truth: `information`\n"
            ]
          },
          "metadata": {},
          "output_type": "display_data"
        },
        {
          "data": {
            "text/html": [
              "<pre style=\"white-space:pre;overflow-x:auto;line-height:normal;font-family:Menlo,'DejaVu Sans Mono',consolas,'Courier New',monospace\">Pred: `space` :: Truth: `space`\n",
              "</pre>\n"
            ],
            "text/plain": [
              "Pred: `space` :: Truth: `space`\n"
            ]
          },
          "metadata": {},
          "output_type": "display_data"
        },
        {
          "data": {
            "text/html": [
              "<pre style=\"white-space:pre;overflow-x:auto;line-height:normal;font-family:Menlo,'DejaVu Sans Mono',consolas,'Courier New',monospace\">\n",
              "</pre>\n"
            ],
            "text/plain": [
              "\n"
            ]
          },
          "metadata": {},
          "output_type": "display_data"
        },
        {
          "name": "stdout",
          "output_type": "stream",
          "text": [
            "EPOCH: 49.000  trn_char_acc: 0.999  trn_word_acc: 0.994  trn_loss: 0.049  val_loss: 0.149  val_char_acc: 0.961  val_word_acc: 0.859  (994.33s - 20.29s remaining)\n"
          ]
        },
        {
          "data": {
            "text/html": [
              "<pre style=\"white-space:pre;overflow-x:auto;line-height:normal;font-family:Menlo,'DejaVu Sans Mono',consolas,'Courier New',monospace\">\n",
              "</pre>\n"
            ],
            "text/plain": [
              "\n"
            ]
          },
          "metadata": {},
          "output_type": "display_data"
        },
        {
          "data": {
            "text/html": [
              "<pre style=\"white-space:pre;overflow-x:auto;line-height:normal;font-family:Menlo,'DejaVu Sans Mono',consolas,'Courier New',monospace\">Pred: `himself` :: Truth: `himself`\n",
              "</pre>\n"
            ],
            "text/plain": [
              "Pred: `himself` :: Truth: `himself`\n"
            ]
          },
          "metadata": {},
          "output_type": "display_data"
        },
        {
          "data": {
            "text/html": [
              "<pre style=\"white-space:pre;overflow-x:auto;line-height:normal;font-family:Menlo,'DejaVu Sans Mono',consolas,'Courier New',monospace\">Pred: `force` :: Truth: `force`\n",
              "</pre>\n"
            ],
            "text/plain": [
              "Pred: `force` :: Truth: `force`\n"
            ]
          },
          "metadata": {},
          "output_type": "display_data"
        },
        {
          "data": {
            "text/html": [
              "<pre style=\"white-space:pre;overflow-x:auto;line-height:normal;font-family:Menlo,'DejaVu Sans Mono',consolas,'Courier New',monospace\">Pred: `whatever` :: Truth: `whatever`\n",
              "</pre>\n"
            ],
            "text/plain": [
              "Pred: `whatever` :: Truth: `whatever`\n"
            ]
          },
          "metadata": {},
          "output_type": "display_data"
        },
        {
          "data": {
            "text/html": [
              "<pre style=\"white-space:pre;overflow-x:auto;line-height:normal;font-family:Menlo,'DejaVu Sans Mono',consolas,'Courier New',monospace\">Pred: `surface` :: Truth: `surface`\n",
              "</pre>\n"
            ],
            "text/plain": [
              "Pred: `surface` :: Truth: `surface`\n"
            ]
          },
          "metadata": {},
          "output_type": "display_data"
        },
        {
          "data": {
            "text/html": [
              "<pre style=\"white-space:pre;overflow-x:auto;line-height:normal;font-family:Menlo,'DejaVu Sans Mono',consolas,'Courier New',monospace\">Pred: `deal` :: Truth: `deal`\n",
              "</pre>\n"
            ],
            "text/plain": [
              "Pred: `deal` :: Truth: `deal`\n"
            ]
          },
          "metadata": {},
          "output_type": "display_data"
        },
        {
          "data": {
            "text/html": [
              "<pre style=\"white-space:pre;overflow-x:auto;line-height:normal;font-family:Menlo,'DejaVu Sans Mono',consolas,'Courier New',monospace\">\n",
              "</pre>\n"
            ],
            "text/plain": [
              "\n"
            ]
          },
          "metadata": {},
          "output_type": "display_data"
        },
        {
          "name": "stdout",
          "output_type": "stream",
          "text": [
            "EPOCH: 50.000  trn_char_acc: 0.999  trn_word_acc: 0.993  trn_loss: 0.048  val_loss: 0.152  val_char_acc: 0.964  val_word_acc: 0.872  (1014.77s - 0.00s remaining)\n"
          ]
        },
        {
          "data": {
            "text/html": [
              "<pre style=\"white-space:pre;overflow-x:auto;line-height:normal;font-family:Menlo,'DejaVu Sans Mono',consolas,'Courier New',monospace\">\n",
              "</pre>\n"
            ],
            "text/plain": [
              "\n"
            ]
          },
          "metadata": {},
          "output_type": "display_data"
        },
        {
          "data": {
            "text/html": [
              "<pre style=\"white-space:pre;overflow-x:auto;line-height:normal;font-family:Menlo,'DejaVu Sans Mono',consolas,'Courier New',monospace\">Pred: `begin` :: Truth: `begin`\n",
              "</pre>\n"
            ],
            "text/plain": [
              "Pred: `begin` :: Truth: `begin`\n"
            ]
          },
          "metadata": {},
          "output_type": "display_data"
        },
        {
          "data": {
            "text/html": [
              "<pre style=\"white-space:pre;overflow-x:auto;line-height:normal;font-family:Menlo,'DejaVu Sans Mono',consolas,'Courier New',monospace\">Pred: `noule` :: Truth: `movie`\n",
              "</pre>\n"
            ],
            "text/plain": [
              "Pred: `noule` :: Truth: `movie`\n"
            ]
          },
          "metadata": {},
          "output_type": "display_data"
        },
        {
          "data": {
            "text/html": [
              "<pre style=\"white-space:pre;overflow-x:auto;line-height:normal;font-family:Menlo,'DejaVu Sans Mono',consolas,'Courier New',monospace\">Pred: `find` :: Truth: `find`\n",
              "</pre>\n"
            ],
            "text/plain": [
              "Pred: `find` :: Truth: `find`\n"
            ]
          },
          "metadata": {},
          "output_type": "display_data"
        },
        {
          "data": {
            "text/html": [
              "<pre style=\"white-space:pre;overflow-x:auto;line-height:normal;font-family:Menlo,'DejaVu Sans Mono',consolas,'Courier New',monospace\">Pred: `challenge` :: Truth: `challenge`\n",
              "</pre>\n"
            ],
            "text/plain": [
              "Pred: `challenge` :: Truth: `challenge`\n"
            ]
          },
          "metadata": {},
          "output_type": "display_data"
        },
        {
          "data": {
            "text/html": [
              "<pre style=\"white-space:pre;overflow-x:auto;line-height:normal;font-family:Menlo,'DejaVu Sans Mono',consolas,'Courier New',monospace\">Pred: `continue` :: Truth: `continue`\n",
              "</pre>\n"
            ],
            "text/plain": [
              "Pred: `continue` :: Truth: `continue`\n"
            ]
          },
          "metadata": {},
          "output_type": "display_data"
        },
        {
          "data": {
            "text/html": [
              "<pre style=\"white-space:pre;overflow-x:auto;line-height:normal;font-family:Menlo,'DejaVu Sans Mono',consolas,'Courier New',monospace\">\n",
              "</pre>\n"
            ],
            "text/plain": [
              "\n"
            ]
          },
          "metadata": {},
          "output_type": "display_data"
        }
      ],
      "source": [
        "for ep in range( n_epochs):\n",
        "    # if ep in lr_schedule: optimizer = AdamW(ocr.parameters(), lr=lr_schedule[ep])\n",
        "    N = len(trn_dl)\n",
        "    for ix, data in enumerate(trn_dl):\n",
        "        pos = ep + (ix+1)/N\n",
        "        loss, results = train_batch(data, model, optimizer, criterion)\n",
        "        # scheduler.step()\n",
        "        ca, wa = results['char-accuracy'], results['word-accuracy']\n",
        "        log.record(pos=pos, trn_loss=loss, trn_char_acc=ca, trn_word_acc=wa, end='\\r')\n",
        "    val_results = []\n",
        "    N = len(val_dl)\n",
        "    for ix, data in enumerate(val_dl):\n",
        "        pos = ep + (ix+1)/N\n",
        "        loss, results = validate_batch(data, model)\n",
        "        ca, wa = results['char-accuracy'], results['word-accuracy']\n",
        "        log.record(pos=pos, val_loss=loss, val_char_acc=ca, val_word_acc=wa, end='\\r')\n",
        "\n",
        "    log.report_avgs(ep+1)\n",
        "    print()\n",
        "    for jx in range(5):\n",
        "        img, label = val_ds.sample()\n",
        "        _img = torch.Tensor(val_ds.preprocess(img)[None,None]).to(device)\n",
        "        pred = model(_img)[:,0,:]\n",
        "        pred = trn_ds.decoder_chars(pred)\n",
        "        print(f'Pred: `{pred}` :: Truth: `{label}`')\n",
        "    print()"
      ]
    },
    {
      "cell_type": "code",
      "execution_count": 38,
      "metadata": {
        "colab": {
          "base_uri": "https://localhost:8080/",
          "height": 494
        },
        "id": "QDpczoK0lvcu",
        "outputId": "09196e3b-3206-4f66-a4f0-01ebd2df6671"
      },
      "outputs": [
        {
          "name": "stderr",
          "output_type": "stream",
          "text": [
            "100%|██████████| 151/151 [00:00<00:00, 736.55it/s]\n"
          ]
        },
        {
          "data": {
            "image/png": "[encoded data removed]",
            "text/plain": [
              "<Figure size 800x600 with 1 Axes>"
            ]
          },
          "metadata": {},
          "output_type": "display_data"
        }
      ],
      "source": [
        "log.plot_epochs(['trn_word_acc','val_word_acc'], title='Training and validation word accuracy')"
      ]
    }
  ],
  "metadata": {
    "accelerator": "GPU",
    "colab": {
      "include_colab_link": true,
      "name": "Handwriting_transcription.ipynb",
      "provenance": []
    },
    "kernelspec": {
      "display_name": "Python 3",
      "name": "python3"
    },
    "language_info": {
      "codemirror_mode": {
        "name": "ipython",
        "version": 3
      },
      "file_extension": ".py",
      "mimetype": "text/x-python",
      "name": "python",
      "nbconvert_exporter": "python",
      "pygments_lexer": "ipython3",
      "version": "3.8.17"
    }
  },
  "nbformat": 4,
  "nbformat_minor": 0
}
