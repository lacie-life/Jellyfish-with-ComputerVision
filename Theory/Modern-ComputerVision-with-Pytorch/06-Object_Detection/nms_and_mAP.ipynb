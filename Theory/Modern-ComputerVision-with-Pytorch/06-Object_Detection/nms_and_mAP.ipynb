{
 "cells": [
  {
   "cell_type": "markdown",
   "metadata": {},
   "source": [
    "# Non-max suppression \n",
    "\n",
    "Non-max refers to the boxes that do not contain the highest probability of containing an object, and suppression refers to us discarding those boxes that do not contain the highest probabilities of containing an object. In non-max suppression, we identify the bounding box that has the highest probability and discard all the other bounding boxes that have an IoU greater than a certain threshold with the box containing the highest probability of containing an object.\n",
    "\n",
    "# Mean average precision \n",
    "\n",
    "- Precision:\n",
    "\n",
    "    precision = TP / (TP + FP)\n",
    "\n",
    "A true positive refers to the bounding boxes that predicted the correct class\n",
    "of objects and that have an IoU with the ground truth that is greater than a\n",
    "certain threshold. A false positive refers to the bounding boxes that\n",
    "predicted the class incorrectly or have an overlap that is less than the\n",
    "defined threshold with the ground truth. Furthermore, if there are multiple\n",
    "bounding boxes that are identified for the same ground truth bounding box,\n",
    "only one box can get into a true positive, and everything else gets into a\n",
    "false positive.\n",
    "\n",
    "- Average Precision: Average precision is the average of precision values\n",
    "calculated at various IoU thresholds.\n",
    "\n",
    "- mAP: mAP is the average of precision values calculated at various IoU\n",
    "threshold values across all the classes of objects present within the dataset."
   ]
  },
  {
   "cell_type": "code",
   "execution_count": null,
   "metadata": {},
   "outputs": [],
   "source": []
  }
 ],
 "metadata": {
  "kernelspec": {
   "display_name": "conda-pytorch",
   "language": "python",
   "name": "python3"
  },
  "language_info": {
   "codemirror_mode": {
    "name": "ipython",
    "version": 3
   },
   "file_extension": ".py",
   "mimetype": "text/x-python",
   "name": "python",
   "nbconvert_exporter": "python",
   "pygments_lexer": "ipython3",
   "version": "3.8.17"
  },
  "orig_nbformat": 4
 },
 "nbformat": 4,
 "nbformat_minor": 2
}
