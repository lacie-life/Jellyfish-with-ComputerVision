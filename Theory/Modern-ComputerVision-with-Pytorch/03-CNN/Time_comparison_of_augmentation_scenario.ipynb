{
  "cells": [
    {
      "cell_type": "markdown",
      "metadata": {},
      "source": [
        "# Performing data augmentation on a batch of images and the need for collate_fn\n",
        "\n",
        "We have already seen that it is preferable to perform different augmentations in\n",
        "different iterations on the same image.\n",
        "\n",
        "If we have an augmentation pipeline defined in the \\__init\\__ method, we would\n",
        "only need to perform augmentation once on the input set of images. This means we\n",
        "would not have different augmentations on different iterations.\n",
        "\n",
        "Similarly, if the augmentation is in the \\__getitem\\__ method – which is ideal since\n",
        "we want to perform a different set of augmentations on each image – the major\n",
        "bottleneck is that the augmentation is performed once for each image. It would be\n",
        "much faster if we were to perform augmentation on a batch of images instead of on\n",
        "one image at a time. Let's understand this in detail by looking at two scenarios where\n",
        "we will be working on 32 images:\n",
        "\n",
        "- Augmenting 32 images, one at a time\n",
        "- Augmenting 32 images as a batch in one go"
      ]
    },
    {
      "cell_type": "code",
      "execution_count": 1,
      "metadata": {
        "id": "gtEoCCOIuhQj"
      },
      "outputs": [],
      "source": [
        "from torchvision import datasets\n",
        "import torch\n",
        "data_folder = '/Data/FMNIST/' # This can be any directory you want to download FMNIST to\n",
        "fmnist = datasets.FashionMNIST(data_folder, download=True, train=True)"
      ]
    },
    {
      "cell_type": "code",
      "execution_count": 2,
      "metadata": {
        "id": "-GzkCv0PuiMj"
      },
      "outputs": [],
      "source": [
        "tr_images = fmnist.data\n",
        "tr_targets = fmnist.targets"
      ]
    },
    {
      "cell_type": "code",
      "execution_count": 3,
      "metadata": {
        "id": "oajhutCkujd1"
      },
      "outputs": [],
      "source": [
        "val_fmnist = datasets.FashionMNIST(data_folder, download=True, train=False)\n",
        "val_images = val_fmnist.data\n",
        "val_targets = val_fmnist.targets"
      ]
    },
    {
      "cell_type": "code",
      "execution_count": 4,
      "metadata": {
        "id": "uk8CcQkAulye"
      },
      "outputs": [],
      "source": [
        "from imgaug import augmenters as iaa\n",
        "aug = iaa.Sequential([\n",
        "              iaa.Affine(translate_px={'x':(-10,10)}, mode='constant'),\n",
        "            ])"
      ]
    },
    {
      "cell_type": "code",
      "execution_count": 5,
      "metadata": {
        "colab": {
          "base_uri": "https://localhost:8080/"
        },
        "id": "PGNQZrRWw58o",
        "outputId": "76093070-40da-4fb7-8252-71e897502677"
      },
      "outputs": [
        {
          "name": "stdout",
          "output_type": "stream",
          "text": [
            "CPU times: user 85.4 ms, sys: 0 ns, total: 85.4 ms\n",
            "Wall time: 85.9 ms\n"
          ]
        }
      ],
      "source": [
        "%%time\n",
        "for i in range(32):\n",
        "  aug.augment_image(tr_images[i])"
      ]
    },
    {
      "cell_type": "code",
      "execution_count": 6,
      "metadata": {
        "colab": {
          "base_uri": "https://localhost:8080/"
        },
        "id": "Tf6gYqrGxKkP",
        "outputId": "541da03d-9359-464c-f875-5e0394fcd959"
      },
      "outputs": [
        {
          "name": "stdout",
          "output_type": "stream",
          "text": [
            "CPU times: user 11.7 ms, sys: 0 ns, total: 11.7 ms\n",
            "Wall time: 12.3 ms\n"
          ]
        }
      ],
      "source": [
        "%%time\n",
        "x = aug.augment_images(tr_images[:32])"
      ]
    },
    {
      "cell_type": "code",
      "execution_count": 6,
      "metadata": {
        "id": "ToJpsyQmuz1S"
      },
      "outputs": [],
      "source": []
    }
  ],
  "metadata": {
    "accelerator": "GPU",
    "colab": {
      "collapsed_sections": [],
      "include_colab_link": true,
      "name": "Time_comparison_of_augmentation_scenario.ipynb",
      "provenance": []
    },
    "kernelspec": {
      "display_name": "Python 3",
      "name": "python3"
    }
  },
  "nbformat": 4,
  "nbformat_minor": 0
}
