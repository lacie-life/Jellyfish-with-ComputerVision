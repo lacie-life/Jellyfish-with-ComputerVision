{
  "cells": [
    {
      "cell_type": "code",
      "execution_count": 1,
      "metadata": {
        "id": "gtEoCCOIuhQj"
      },
      "outputs": [],
      "source": [
        "from torchvision import datasets\n",
        "import torch\n",
        "data_folder = '/Data/FMNIST/' # This can be any directory you want to download FMNIST to\n",
        "fmnist = datasets.FashionMNIST(data_folder, download=True, train=True)"
      ]
    },
    {
      "cell_type": "code",
      "execution_count": 2,
      "metadata": {
        "id": "-GzkCv0PuiMj"
      },
      "outputs": [],
      "source": [
        "tr_images = fmnist.data\n",
        "tr_targets = fmnist.targets"
      ]
    },
    {
      "cell_type": "code",
      "execution_count": 3,
      "metadata": {
        "id": "oajhutCkujd1"
      },
      "outputs": [],
      "source": [
        "val_fmnist = datasets.FashionMNIST(data_folder, download=True, train=False)\n",
        "val_images = val_fmnist.data\n",
        "val_targets = val_fmnist.targets"
      ]
    },
    {
      "cell_type": "code",
      "execution_count": 4,
      "metadata": {
        "id": "uk8CcQkAulye"
      },
      "outputs": [],
      "source": [
        "from imgaug import augmenters as iaa\n",
        "aug = iaa.Sequential([\n",
        "              iaa.Affine(translate_px={'x':(-10,10)}, mode='constant'),\n",
        "            ])"
      ]
    },
    {
      "cell_type": "code",
      "execution_count": 5,
      "metadata": {
        "colab": {
          "base_uri": "https://localhost:8080/"
        },
        "id": "PGNQZrRWw58o",
        "outputId": "76093070-40da-4fb7-8252-71e897502677"
      },
      "outputs": [
        {
          "name": "stdout",
          "output_type": "stream",
          "text": [
            "CPU times: user 85.4 ms, sys: 0 ns, total: 85.4 ms\n",
            "Wall time: 85.9 ms\n"
          ]
        }
      ],
      "source": [
        "%%time\n",
        "for i in range(32):\n",
        "  aug.augment_image(tr_images[i])"
      ]
    },
    {
      "cell_type": "code",
      "execution_count": 6,
      "metadata": {
        "colab": {
          "base_uri": "https://localhost:8080/"
        },
        "id": "Tf6gYqrGxKkP",
        "outputId": "541da03d-9359-464c-f875-5e0394fcd959"
      },
      "outputs": [
        {
          "name": "stdout",
          "output_type": "stream",
          "text": [
            "CPU times: user 11.7 ms, sys: 0 ns, total: 11.7 ms\n",
            "Wall time: 12.3 ms\n"
          ]
        }
      ],
      "source": [
        "%%time\n",
        "x = aug.augment_images(tr_images[:32])"
      ]
    },
    {
      "cell_type": "code",
      "execution_count": 6,
      "metadata": {
        "id": "ToJpsyQmuz1S"
      },
      "outputs": [],
      "source": []
    }
  ],
  "metadata": {
    "accelerator": "GPU",
    "colab": {
      "collapsed_sections": [],
      "include_colab_link": true,
      "name": "Time_comparison_of_augmentation_scenario.ipynb",
      "provenance": []
    },
    "kernelspec": {
      "display_name": "Python 3",
      "name": "python3"
    }
  },
  "nbformat": 4,
  "nbformat_minor": 0
}
