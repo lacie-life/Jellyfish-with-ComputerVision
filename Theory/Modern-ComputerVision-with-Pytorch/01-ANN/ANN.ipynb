{
 "cells": [
  {
   "cell_type": "markdown",
   "metadata": {},
   "source": [
    "# Artificial Neural Network"
   ]
  },
  {
   "cell_type": "markdown",
   "metadata": {},
   "source": [
    "Traditionally, systems were made intelligent by using sophisticated algorithms\n",
    "written by programmers.\n",
    "For example, say you are interested in recognizing whether a photo contains a dog or\n",
    "not. In the traditional Machine Learning (ML) setting, an ML practitioner or a subject\n",
    "matter expert first identifies the features that need to be extracted from images. Then\n",
    "they extract those features and pass them through a well-written algorithm that\n",
    "deciphers the given features to tell whether the image is of a dog or\n",
    "not. The following diagram illustrates the same idea:\n",
    "\n",
    "![img](./imgs/ANN0.png)"
   ]
  },
  {
   "cell_type": "markdown",
   "metadata": {},
   "source": [
    "Neural networks provide the unique benefit of combining feature extraction (hand-\n",
    "tuning) and use those features for classification/regression in a single shot with little\n",
    "manual feature engineering. Both these subtasks only require labeled data (for\n",
    "example, which pictures are dogs and which pictures are not dogs) and neural\n",
    "network architecture. It does not require a human to come up with rules to classify an\n",
    "image, which takes away the majority of the burden traditional techniques impose on\n",
    "the programmer.\n",
    "\n",
    "Notice that the main requirement is that we provide a considerable amount of\n",
    "examples for the task that needs a solution. A high-level view of how neural networks are leveraged for the task of\n",
    "classification is as follows:\n",
    "\n",
    "![img](./imgs/ANN1.png)"
   ]
  },
  {
   "cell_type": "markdown",
   "metadata": {},
   "source": [
    "## The artificial neural network building blocks"
   ]
  },
  {
   "cell_type": "markdown",
   "metadata": {},
   "source": [
    "An ANN is a collection of tensors (weights) and mathematical operations, arranged in\n",
    "such a way to loosely replicate the functioning of a human brain. It can be viewed as a\n",
    "mathematical function that takes in one or more tensors as inputs and predicts one or\n",
    "more tensors as outputs. The arrangement of operations that connects these inputs to\n",
    "outputs is referred to as the architecture of the neural network – which we can\n",
    "customize based on the task at hand, that is, based on whether the problem contains\n",
    "structured (tabular) or unstructured (image, text, audio) data (which is the list of\n",
    "input and output tensors).\n",
    "\n",
    "An ANN is made up of the following:\n",
    "\n",
    "- <b>Input layers: </b> These layers take the independent variables as input.\n",
    "\n",
    "- <b> Hidden (intermediate) layers: </b> These layers connect the input and output\n",
    "layers while performing transformations on top of input data. Furthermore,\n",
    "the hidden layers contain nodes (units/circles in the following diagram) to\n",
    "modify their input values into higher-/lower-dimensional values. The\n",
    "functionality to achieve a more complex representation is achieved by\n",
    "using various activation functions that modify the values of the nodes of\n",
    "intermediate layers.\n",
    "\n",
    "- <b> Output layer: </b> This contains the values the input variables are expected to\n",
    "result in."
   ]
  },
  {
   "cell_type": "markdown",
   "metadata": {},
   "source": [
    "With this in mind, the typical structure of a neural network is as follows:\n",
    "\n",
    "![img](./imgs/ANN2.png)\n",
    "\n",
    "The number of <b> nodes </b> (circles in the preceding diagram) in the output layer depends\n",
    "on the task at hand and whether we are trying to predict a continuous variable or a\n",
    "categorical variable. If the output is a continuous variable, the output has one node. If\n",
    "the output is categorical with <i> m </i> possible classes, there will be <i> m </i> nodes in the output\n",
    "layer. Let's zoom into one of the nodes/neurons and see what's happening. A neuron\n",
    "transforms its inputs as follows:\n",
    "\n",
    "![img](./imgs/ANN3.png)\n",
    "\n",
    "In the preceding diagram, $x_1$ ,$x_2$ , ..., $x_n$ are the input variables, and $w_0$ is the bias term\n",
    "(similar to the way we have a bias in linear/logistic regression).\n",
    "Note that $w_1$ ,$w_2$ , ..., $w_n$ are the weights given to each of the input variables and $w_0$ is the\n",
    "bias term. The output value a is calculated as follows:\n",
    "\n",
    "![img](./imgs/ANN4.png)"
   ]
  },
  {
   "cell_type": "markdown",
   "metadata": {},
   "source": [
    "As you can see, it is the sum of the products of <b> weight and input </b> pairs followed by an\n",
    "additional function <b> f </b> (the bias term + sum of products). The function <b> f </b> is the activation\n",
    "function that is used to apply non-linearity on top of this sum of products. More\n",
    "details on the activation functions will be provided in the next section, on\n",
    "feedforward propagation. Further, higher nonlinearity can be achieved by having\n",
    "more than one hidden layer, stacking multitudes of neurons.\n",
    "\n",
    "At a high level, a neural network is a collection of nodes where each node has an\n",
    "adjustable float value and the nodes are interconnected as a graph to return outputs\n",
    "in a format that is dictated by the architecture of the network. The network constitutes\n",
    "three main parts: the input layer, the hidden layer(s), and the output layer. Note that\n",
    "you can have a higher <b> number (n) </b> of hidden layers, with the term <b> deep </b> learning\n",
    "referring to the greater number of hidden layers. Typically, more hidden layers are\n",
    "needed when the neural network has to comprehend something complicated such as\n",
    "image recognition."
   ]
  }
 ],
 "metadata": {
  "language_info": {
   "name": "python"
  },
  "orig_nbformat": 4
 },
 "nbformat": 4,
 "nbformat_minor": 2
}
