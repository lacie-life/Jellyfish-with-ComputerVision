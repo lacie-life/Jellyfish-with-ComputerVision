{
  "cells": [
    {
      "cell_type": "code",
      "execution_count": 1,
      "metadata": {
        "id": "cuS9OIFRPtEW"
      },
      "outputs": [],
      "source": [
        "import torch\n",
        "from torch import nn"
      ]
    },
    {
      "cell_type": "code",
      "execution_count": null,
      "metadata": {
        "id": "S339gpWBP06u"
      },
      "outputs": [],
      "source": [
        "class ResLayer(nn.Module):\n",
        "     def __init__(self,ni,no,kernel_size,stride=1):\n",
        "        super(ResLayer, self).__init__()\n",
        "        padding = kernel_size - 2\n",
        "        self.conv = nn.Sequential(\n",
        "            nn.Conv2d(ni, no, kernel_size, stride, \n",
        "                      padding=padding),\n",
        "            nn.ReLU()\n",
        "        )\n",
        "\n",
        "    def forward(self, x):\n",
        "        return self.conv(x) + x\n",
        "\n"
      ]
    }
  ],
  "metadata": {
    "accelerator": "GPU",
    "colab": {
      "authorship_tag": "ABX9TyOTLHszFiFWrGkTp/f0kcnn",
      "include_colab_link": true,
      "name": "Resnet_block_architecture.ipynb",
      "provenance": []
    },
    "kernelspec": {
      "display_name": "Python 3",
      "name": "python3"
    }
  },
  "nbformat": 4,
  "nbformat_minor": 0
}
